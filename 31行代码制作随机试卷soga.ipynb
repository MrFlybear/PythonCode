{
 "cells": [
  {
   "cell_type": "code",
   "execution_count": 4,
   "metadata": {},
   "outputs": [],
   "source": [
    "import random\n",
    "capitals = {'Alabama': 'Montgomery', 'Alaska': 'Juneau', 'Arizona': 'Phoenix', 'Arkansas': 'Little Rock', 'California': 'Sacramento', 'Colorado': 'Denver', 'Connecticut': 'Hartford', 'Delaware': 'Dover', 'Florida': 'Tallahassee', 'Georgia': 'Atlanta', 'Hawaii': 'Honolulu', 'Idaho': 'Boise', 'Illinois': 'Springfield', 'Indiana': 'Indianapolis', 'Iowa': 'Des Moines', 'Kansas': 'Topeka', 'Kentucky': 'Frankfort', 'Louisiana': 'Baton Rouge', 'Maine': 'Augusta', 'Maryland': 'Annapolis', 'Massachusetts': 'Boston', 'Michigan': 'Lansing', 'Minnesota': 'Saint Paul', 'Mississippi': 'Jackson', 'Missouri': 'Jefferson City', 'Montana': 'Helena', 'Nebraska': 'Lincoln', 'Nevada': 'Carson City', 'New Hampshire': 'Concord', 'New Jersey': 'Trenton', 'New Mexico': 'Santa Fe', 'New York': 'Albany', 'North Carolina': 'Raleigh', 'North Dakota': 'Bismarck', 'Ohio': 'Columbus', 'Oklahoma': 'Oklahoma City', 'Oregon': 'Salem', 'Pennsylvania': 'Harrisburg', 'Rhode Island': 'Providence', 'South Carolina': 'Columbia', 'South Dakota': 'Pierre', 'Tennessee': 'Nashville', 'Texas': 'Austin', 'Utah': 'Salt Lake City', 'Vermont': 'Montpelier', 'Virginia': 'Richmond', 'Washington': 'Olympia', 'West Virginia': 'Charleston', 'Wisconsin': 'Madison', 'Wyoming': 'Cheyenne'}\n",
    "for quizNum in range(35):\n",
    "    #Create the quiz and answer key files\n",
    "    quizFile=open('capitalsquiz%s.txt'%(quizNum+1),'w')\n",
    "    answerKeyFile=open('capitalsquiz_answers%s.txt'%(quizNum+1),'w')\n",
    "    #Write out the header for the quiz.\n",
    "    quizFile.write('Name:\\n\\nDate:\\n\\nPeriod:\\n\\n')\n",
    "    quizFile.write((' '*20)+'State Capitals Quiz (Form %s)'%(quizNum+1))\n",
    "    quizFile.write('\\n\\n')\n",
    "    #Shuffle the order of the states\n",
    "    states=list(capitals.keys())\n",
    "    random.shuffle(states)\n",
    "    #Loop through all 50 states,making a question for each\n",
    "    for questionNum in range(50):\n",
    "        #Get right and wrong answer.\n",
    "        correctAnswer=capitals[states[questionNum]]\n",
    "        wrongAnswers=list(capitals.values())\n",
    "        del wrongAnswers[wrongAnswers.index(correctAnswer)]\n",
    "        wrongAnswers=random.sample(wrongAnswers,3)\n",
    "        answerOptions=wrongAnswers+[correctAnswer]\n",
    "        random.shuffle(answerOptions)\n",
    "        #Write the question and the answer options to quiz file\n",
    "        quizFile.write('%s.what is the capital of %s?\\n'%(questionNum+1,states[questionNum]))\n",
    "        for i in range(4):\n",
    "            quizFile.write('    %s.%s\\n'%('ABCD'[i],answerOptions[i]))\n",
    "        quizFile.write('\\n')\n",
    "        #Write the answer key to a file.\n",
    "        answerKeyFile.write('%s.%s\\n'%(questionNum+1,'ABCD'[answerOptions.index(correctAnswer)]))\n",
    "    quizFile.close()\n",
    "    answerKeyFile.close()"
   ]
  },
  {
   "cell_type": "code",
   "execution_count": null,
   "metadata": {},
   "outputs": [],
   "source": [
    "import os\n",
    "os.getcwd()"
   ]
  }
 ],
 "metadata": {
  "kernelspec": {
   "display_name": "Python 3",
   "language": "python",
   "name": "python3"
  },
  "language_info": {
   "codemirror_mode": {
    "name": "ipython",
    "version": 3
   },
   "file_extension": ".py",
   "mimetype": "text/x-python",
   "name": "python",
   "nbconvert_exporter": "python",
   "pygments_lexer": "ipython3",
   "version": "3.6.3"
  }
 },
 "nbformat": 4,
 "nbformat_minor": 2
}
