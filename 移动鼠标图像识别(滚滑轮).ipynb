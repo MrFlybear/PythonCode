{
 "cells": [
  {
   "cell_type": "code",
   "execution_count": null,
   "metadata": {},
   "outputs": [],
   "source": [
    "import pyautogui\n",
    "pyautogui.PAUSE=1\n",
    "pyautogui.FAILSAFE=True"
   ]
  },
  {
   "cell_type": "code",
   "execution_count": null,
   "metadata": {},
   "outputs": [],
   "source": [
    "import pyautogui\n",
    "for i in range(10):\n",
    "    pyautogui.moveTo(100,100,duration=0.25)\n",
    "    pyautogui.moveTo(200,100,duration=0.25)\n",
    "    pyautogui.moveTo(200,200,duration=0.25)\n",
    "    pyautogui.moveTo(100,200,duration=0.25)"
   ]
  },
  {
   "cell_type": "code",
   "execution_count": null,
   "metadata": {},
   "outputs": [],
   "source": [
    "import pyautogui\n",
    "for i  in range(10):\n",
    "    pyautogui.moveRel(100,0,duration=0.25)\n",
    "    pyautogui.moveRel(0,100,duration=0.25)"
   ]
  },
  {
   "cell_type": "code",
   "execution_count": null,
   "metadata": {},
   "outputs": [],
   "source": [
    "#相对移动\n",
    "import pyautogui\n",
    "for i in range(10):\n",
    "    pyautogui.moveRel(100,0,duration=0.25)\n",
    "    pyautogui.moveRel(0,100,duration=0.25)\n",
    "    pyautogui.moveRel(-100,0,duration=0.25)\n",
    "    pyautogui.moveRel(0,-100,duration=0.25)"
   ]
  },
  {
   "cell_type": "code",
   "execution_count": null,
   "metadata": {},
   "outputs": [],
   "source": [
    "#找鼠标的位置\n",
    "import pyautogui\n",
    "pyautogui.position()\n",
    "pyautogui.position()\n",
    "pyautogui.position()"
   ]
  },
  {
   "cell_type": "code",
   "execution_count": null,
   "metadata": {},
   "outputs": [],
   "source": [
    "import pyautogui\n",
    "print('Press Ctrl-C to quit.')\n",
    "try:\n",
    "    while True:\n",
    "        x,y=pyautogui.position()\n",
    "        #rjust是在前str后面左边留空格，右对齐\n",
    "        positionStr='X:'+str(x).rjust(4)+'Y: '+str(y).rjust(4)\n",
    "        pixelColor=pyautogui.screenshot().getpixel((x,y))\n",
    "        positionStr+='RGB:('+str(pixelColor[0]).rjust(3)\n",
    "        positionStr+=','+str(pixelColor[1]).rjust(3)\n",
    "        positionStr+=','+str(pixelColor[2]).rjust(3)+')'\n",
    "        print(positionStr,end='')\n",
    "        print('\\b'*len(positionStr),end='',flush=True)\n",
    "except KeyboardInterrupt:\n",
    "    print('\\nDone')\n",
    "   "
   ]
  },
  {
   "cell_type": "code",
   "execution_count": null,
   "metadata": {},
   "outputs": [],
   "source": [
    "#点击鼠标\n",
    "import pyautogui\n",
    "pyautogui.click(10,5)"
   ]
  },
  {
   "cell_type": "code",
   "execution_count": null,
   "metadata": {},
   "outputs": [],
   "source": [
    "#画图\n",
    "import pyautogui,time\n",
    "time.sleep(5)\n",
    "pyautogui.click()#开始画图\n",
    "distance=200\n",
    "while distance>0:\n",
    "    pyautogui.dragRel(distance,0,duration=0.2)\n",
    "    distance=distance-5\n",
    "    pyautogui.dragRel(0,distance,duration=0.2)\n",
    "    pyautogui.dragRel(-distance,0,duration=0.2)\n",
    "    distance=distance-5\n",
    "    pyautogui.dragRel(0,-distance,duration=0.2)"
   ]
  },
  {
   "cell_type": "code",
   "execution_count": null,
   "metadata": {},
   "outputs": [],
   "source": [
    "#滚滑轮\n",
    "import pyautogui,pyperclip\n",
    "numbers=''\n",
    "for i in range(200):\n",
    "    numbers=numbers+str(i)+'\\n'\n",
    "pyperclip.copy(numbers)"
   ]
  },
  {
   "cell_type": "code",
   "execution_count": 21,
   "metadata": {},
   "outputs": [],
   "source": [
    "import time,pyautogui\n",
    "time.sleep(5)\n",
    "pyautogui.scroll(-1000)"
   ]
  },
  {
   "cell_type": "code",
   "execution_count": 23,
   "metadata": {},
   "outputs": [],
   "source": [
    "import time,pyautogui\n",
    "time.sleep(5)\n",
    "pyautogui.press('end')"
   ]
  },
  {
   "cell_type": "code",
   "execution_count": null,
   "metadata": {},
   "outputs": [],
   "source": [
    "import pyautogui\n",
    "im=pyautogui.screenshot()\n",
    "im.getpixel((0,0))\n",
    "print(im.getpixel((50,200)))\n",
    "pyautogui.pixelMatchesColor(50,200,(253,232,208))"
   ]
  },
  {
   "cell_type": "code",
   "execution_count": 3,
   "metadata": {},
   "outputs": [
    {
     "data": {
      "text/plain": [
       "Box(left=1490, top=111, width=128, height=64)"
      ]
     },
     "execution_count": 3,
     "metadata": {},
     "output_type": "execute_result"
    }
   ],
   "source": [
    "#图像识别\n",
    "import pyautogui,os\n",
    "os.chdir(r'C:\\Users\\xxcmt\\Desktop\\文档\\automate_online-materials')\n",
    "pyautogui.locateOnScreen('logout.PNG')\n",
    "\n"
   ]
  },
  {
   "cell_type": "code",
   "execution_count": 17,
   "metadata": {},
   "outputs": [],
   "source": [
    "import pyautogui,time\n",
    "def commentAfterDelay():\n",
    "    pyautogui.click(100,100);pyautogui.typewrite(\"In IDLE,ALT-3 comments out a line.\")\n",
    "    #time.sleep(2)\n",
    "    #pyautogui.hotkey('shift','3')\n",
    "commentAfterDelay()"
   ]
  }
 ],
 "metadata": {
  "kernelspec": {
   "display_name": "Python 3",
   "language": "python",
   "name": "python3"
  },
  "language_info": {
   "codemirror_mode": {
    "name": "ipython",
    "version": 3
   },
   "file_extension": ".py",
   "mimetype": "text/x-python",
   "name": "python",
   "nbconvert_exporter": "python",
   "pygments_lexer": "ipython3",
   "version": "3.7.3"
  }
 },
 "nbformat": 4,
 "nbformat_minor": 2
}
