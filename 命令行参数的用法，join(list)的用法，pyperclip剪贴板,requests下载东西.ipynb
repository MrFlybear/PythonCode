{
 "cells": [
  {
   "cell_type": "code",
   "execution_count": null,
   "metadata": {
    "collapsed": true
   },
   "outputs": [],
   "source": [
    "import webbrowser,sys\n",
    "if len(sys.argv)>1:\n",
    "    #command line，从命令行中获得地址\n",
    "    address=''.join(sys.argv[1:])\n",
    "else:\n",
    "    #从剪贴板中获得地址\n",
    "    address=pyperclip.paste()\n",
    "webbrowser.open('https://www.google.com/search?source=hp&ei=UkZ7XKCeBZbB-wTehLKAAQ&q=' + address)"
   ]
  },
  {
   "cell_type": "code",
   "execution_count": 13,
   "metadata": {
    "collapsed": true,
    "scrolled": false
   },
   "outputs": [],
   "source": [
    "import requests\n",
    "try:\n",
    "    res=requests.get('https://automatetheboringstuff.com/files/rj.txt')\n",
    "    res.raise_for_status()\n",
    "except Exception as exc:\n",
    "    print('we have a problem:%s'%(exc))\n",
    "rjtxt=open(r'C:\\Users\\xxcmt\\Desktop\\test\\rj.txt','wb')\n",
    "for chunk in res.iter_content(100000):\n",
    "    rjtxt.write(chunk)\n",
    "rjtxt.close()"
   ]
  },
  {
   "cell_type": "code",
   "execution_count": 1,
   "metadata": {},
   "outputs": [
    {
     "name": "stdout",
     "output_type": "stream",
     "text": [
      "C:\\Users\\xxcmt\n"
     ]
    }
   ],
   "source": [
    "import os\n",
    "print(os.path.dirname(os.getcwd()))"
   ]
  },
  {
   "cell_type": "code",
   "execution_count": 3,
   "metadata": {
    "collapsed": true
   },
   "outputs": [],
   "source": [
    "import webbrowser,pyperclip\n",
    "webbrowser.open('http://music.zhuolin.wang/')\n",
    "userid='1792511907'\n",
    "pyperclip.copy(userid)"
   ]
  },
  {
   "cell_type": "code",
   "execution_count": 6,
   "metadata": {},
   "outputs": [
    {
     "name": "stdout",
     "output_type": "stream",
     "text": [
      "['', 'C:\\\\Users\\\\xxcmt\\\\Anaconda3\\\\python36.zip', 'C:\\\\Users\\\\xxcmt\\\\Anaconda3\\\\DLLs', 'C:\\\\Users\\\\xxcmt\\\\Anaconda3\\\\lib', 'C:\\\\Users\\\\xxcmt\\\\Anaconda3', 'C:\\\\Users\\\\xxcmt\\\\Anaconda3\\\\lib\\\\site-packages', 'C:\\\\Users\\\\xxcmt\\\\Anaconda3\\\\lib\\\\site-packages\\\\Babel-2.5.0-py3.6.egg', 'C:\\\\Users\\\\xxcmt\\\\Anaconda3\\\\lib\\\\site-packages\\\\win32', 'C:\\\\Users\\\\xxcmt\\\\Anaconda3\\\\lib\\\\site-packages\\\\win32\\\\lib', 'C:\\\\Users\\\\xxcmt\\\\Anaconda3\\\\lib\\\\site-packages\\\\Pythonwin', 'C:\\\\Users\\\\xxcmt\\\\Anaconda3\\\\lib\\\\site-packages\\\\IPython\\\\extensions', 'C:\\\\Users\\\\xxcmt\\\\.ipython']\n",
      "C:\\Users\\xxcmt\\My python code\n"
     ]
    }
   ],
   "source": [
    "import sys\n",
    "print(sys.path)\n",
    "print(os.getcwd())"
   ]
  }
 ],
 "metadata": {
  "kernelspec": {
   "display_name": "Python 3",
   "language": "python",
   "name": "python3"
  },
  "language_info": {
   "codemirror_mode": {
    "name": "ipython",
    "version": 3
   },
   "file_extension": ".py",
   "mimetype": "text/x-python",
   "name": "python",
   "nbconvert_exporter": "python",
   "pygments_lexer": "ipython3",
   "version": "3.6.3"
  }
 },
 "nbformat": 4,
 "nbformat_minor": 2
}
