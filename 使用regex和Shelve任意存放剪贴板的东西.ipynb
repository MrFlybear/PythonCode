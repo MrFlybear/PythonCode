{
 "cells": [
  {
   "cell_type": "code",
   "execution_count": 19,
   "metadata": {},
   "outputs": [
    {
     "name": "stdout",
     "output_type": "stream",
     "text": [
      "请输入你想放入的shelve:ajskfljla\n",
      "如果你想存东西到ajskfljla shelf上请输入save ???,如果你想看ajskfljla shelf上的所有东西输入list，如果你想取出东西输入???jsfkadljasdf\n",
      "not in\n"
     ]
    }
   ],
   "source": [
    "#Usage:save <keyword>-Saves clipboard to keyword\n",
    "#<keyword>-loads keyword to clipboard\n",
    "#list-loads all keywords to clipboard\n",
    "import shelve,pyperclip,sys,re\n",
    "mcb=input('请输入你想放入的shelve:')\n",
    "mcbShelf=shelve.open(mcb)\n",
    "wf=input('如果你想存东西到%s shelf上请输入save ???,如果你想看%s shelf上的所有东西输入list，如果你想取出东西输入???'%(mcb,mcb))\n",
    "#Save clipborad content.\n",
    "saveclip=re.compile(r'save (\\w*)')\n",
    "listclip=re.compile(r'list')\n",
    "loadclip=re.compile(r'\\w+')\n",
    "if saveclip.search(wf):\n",
    "    sa=saveclip.search(wf)\n",
    "    mcbShelf[sa.group(1)]=pyperclip.paste()\n",
    "    print(mcbShelf[sa.group(1)])\n",
    "elif listclip.search(wf):\n",
    "    print(list(mcbShelf.keys()))\n",
    "elif loadclip.search(wf):\n",
    "    lc=loadclip.search(wf)\n",
    "    if lc.group() in mcbShelf:\n",
    "        pyperclip.copy(mcbShelf[lc.group()])\n",
    "        print(mcbShelf[lc.group()])\n",
    "    else:\n",
    "        print('not in')\n",
    "else:\n",
    "    print('非法输入')\n",
    "mcbShelf.close()    \n",
    "\n",
    "#    mcbShelf[sys.argv[2]]=pyperclip.paste()\n",
    "#elif len(sys.argv)==2:\n",
    "    #List keywords and load content\n",
    "#    if sys.argv[1].lower()=='list':\n",
    "#        pyperclip.copy(str(list(mcbShelf.keys())))\n",
    "#    elif sys.argv[1] in mcbShelf:\n",
    "#        pyperclip.copy(mcbShelf[sys.argv[1]])\n",
    "#mcbShelf.close()\n",
    "\n"
   ]
  }
 ],
 "metadata": {
  "kernelspec": {
   "display_name": "Python 3",
   "language": "python",
   "name": "python3"
  },
  "language_info": {
   "codemirror_mode": {
    "name": "ipython",
    "version": 3
   },
   "file_extension": ".py",
   "mimetype": "text/x-python",
   "name": "python",
   "nbconvert_exporter": "python",
   "pygments_lexer": "ipython3",
   "version": "3.6.3"
  }
 },
 "nbformat": 4,
 "nbformat_minor": 2
}
