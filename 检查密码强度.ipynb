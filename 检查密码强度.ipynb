{
 "cells": [
  {
   "cell_type": "code",
   "execution_count": 7,
   "metadata": {},
   "outputs": [
    {
     "name": "stdout",
     "output_type": "stream",
     "text": [
      "输入的密码至少有一个大写字母，一个小字母，一个数字，且长度要大于8：杨万里看见撒旦反抗撒旦艰苦奋斗\n",
      "含非法字符，只能为字母加数字的组合\n"
     ]
    }
   ],
   "source": [
    "import re\n",
    "#a+\" \"least eight characters long, contains both uppercase and lowercase characters, and has at least one digit\n",
    "password=input('输入的密码至少有一个大写字母，一个小字母，一个数字，且长度要大于8：')\n",
    "if re.compile(r'''[^a-zA-Z0-9]''',re.VERBOSE).findall(password)!=[]:\n",
    "    print('含非法字符，只能为字母加数字的组合')\n",
    "elif len(password)<8:\n",
    "    print('长度要大于8')\n",
    "elif re.compile(r'''\\d''',re.VERBOSE).findall(password)==[]:\n",
    "    print('要有一个数字')\n",
    "elif re.compile(r'''[a-z]''',re.VERBOSE).findall(password)==[]:\n",
    "    print('要有一个小写字母')\n",
    "elif re.compile(r'''[A-Z]''',re.VERBOSE).findall(password)==[]:\n",
    "    print('要有一个大写字母')\n",
    "else:\n",
    "    print('通过')"
   ]
  }
 ],
 "metadata": {
  "kernelspec": {
   "display_name": "Python 3",
   "language": "python",
   "name": "python3"
  },
  "language_info": {
   "codemirror_mode": {
    "name": "ipython",
    "version": 3
   },
   "file_extension": ".py",
   "mimetype": "text/x-python",
   "name": "python",
   "nbconvert_exporter": "python",
   "pygments_lexer": "ipython3",
   "version": "3.6.3"
  }
 },
 "nbformat": 4,
 "nbformat_minor": 2
}
