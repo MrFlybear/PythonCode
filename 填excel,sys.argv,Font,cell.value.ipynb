{
 "cells": [
  {
   "cell_type": "code",
   "execution_count": null,
   "metadata": {},
   "outputs": [],
   "source": [
    "import openpyxl,os,sys\n",
    "from openpyxl.styles import Font\n",
    "os.chdir(r'C:\\Users\\xxcmt\\Desktop\\文档\\excelSpreadsheets')\n",
    "wb=openpyxl.Workbook()\n",
    "#命名表格\n",
    "wb.create_sheet(index=0,title='First Sheet')\n",
    "sheet=wb.active\n",
    "Boldfont=Font(bold=True)\n",
    "#先填横纵1到6\n",
    "for i in range(1,int(sys.argv[1])+1):\n",
    "    sheet.cell(row=i+1,column=1).value=i\n",
    "    sheet.cell(row=i+1,column=1).font=Boldfont\n",
    "    sheet.cell(row=2,column=i+1).value=i\n",
    "    sheet.cell(row=1,column=i+1).value=i\n",
    "    sheet.cell(row=1,column=i+1).font=Boldfont\n",
    "#再从3开始往下填\n",
    "for i in range(3,int(sys.argv[1])+2):\n",
    "    for j in range(2,int(sys.argv[1])+2):\n",
    "        sheet.cell(row=i,column=j).value=sheet.cell(row=i-1,column=j).value+sheet.cell(row=1,column=j).value\n",
    "print('good job')\n",
    "wb.save('xiong.xlsx')"
   ]
  }
 ],
 "metadata": {
  "kernelspec": {
   "display_name": "Python 3",
   "language": "python",
   "name": "python3"
  },
  "language_info": {
   "codemirror_mode": {
    "name": "ipython",
    "version": 3
   },
   "file_extension": ".py",
   "mimetype": "text/x-python",
   "name": "python",
   "nbconvert_exporter": "python",
   "pygments_lexer": "ipython3",
   "version": "3.7.3"
  }
 },
 "nbformat": 4,
 "nbformat_minor": 2
}
