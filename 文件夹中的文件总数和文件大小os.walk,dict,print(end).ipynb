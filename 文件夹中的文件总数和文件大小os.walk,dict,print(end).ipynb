{
 "cells": [
  {
   "cell_type": "code",
   "execution_count": 36,
   "metadata": {},
   "outputs": [
    {
     "name": "stdout",
     "output_type": "stream",
     "text": [
      "请输入你想查找的文件夹，我将告诉你哪个文件夹中含有最多的文件，哪个文件夹中占了最大的磁盘空间：C:\\Users\\xxcmt\\Desktop\\test\n",
      "拥有最多文件的文件夹是:test\\hello,test\\spam1\\hello2,拥有的文件数是：73\n",
      "占最多空间的文件夹是:test,其大小是,206770字节\n"
     ]
    }
   ],
   "source": [
    "'''Find the folder in a directory tree that has the greatest number of files\n",
    "or the folder that uses the most disk space没办法了，我能达到的最大效率就是这个样子了\n",
    "慢也没有办法'''\n",
    "import os\n",
    "folder=input(\"请输入你想查找的文件夹，我将告诉你哪个文件夹中含有最多的文件，哪个文件夹中占了最大的磁盘空间：\")\n",
    "#用dict装上所有文件的数目属性\n",
    "def findThebigestFloder(folder):\n",
    "    #调整当前工作路径\n",
    "    dirfolder=os.path.dirname(folder)\n",
    "    os.chdir(dirfolder)\n",
    "    #用两个dict装最多的文件的文件夹和最大占用空间的文件夹，因为有可能出现相等的情况，所以使用dict来装\n",
    "    bigestfiles={'filename':0}\n",
    "    bigestsize={'filename':0}\n",
    "    for foldername,subfolders,filenames in os.walk(os.path.basename(folder)):\n",
    "        #统计每个文件夹的文件数目fn为总的文件数目，totalsize为所有文件的大小\n",
    "        fn,totalsize=0,0\n",
    "        for filename in filenames:\n",
    "            fn=fn+1\n",
    "            totalsize=totalsize+os.path.getsize(os.path.join(foldername,filename))\n",
    "        if fn>list(bigestfiles.values())[0]:\n",
    "            bigestfiles.clear()\n",
    "            bigestfiles[foldername]=fn\n",
    "        elif fn==list(bigestfiles.values())[0]:\n",
    "            bigestfiles[foldername]=fn\n",
    "        if totalsize>list(bigestsize.values())[0]:\n",
    "            bigestsize.clear()\n",
    "            bigestsize[foldername]=totalsize\n",
    "        elif totalsize==list(bigestsize.values())[0]:\n",
    "            bigestsize[foldername]=totalsize   \n",
    "        #foldergram[foldername]=(fn,totalsize)\n",
    "    \n",
    "    #l表示文件名，m是文件个数，n是所有文件大小\n",
    "    '''\n",
    "    for l,(m,n) in foldergram.items():\n",
    "        if m>list(bigestfiles.values())[0]:\n",
    "            bigestfiles.clear()\n",
    "            bigestfiles[l]=m\n",
    "        elif m==list(bigestfiles.values())[0]:\n",
    "            bigestfiles[l]=m\n",
    "        if n>list(bigestsize.values())[0]:\n",
    "            bigestsize.clear()\n",
    "            bigestsize[l]=n\n",
    "        elif n==list(bigestsize.values())[0]:\n",
    "            bigestsize[l]=n   \n",
    "    '''\n",
    "    print('拥有最多文件的文件夹是:',end='')\n",
    "    for i in bigestfiles.keys():\n",
    "        print(i,end=',')\n",
    "    print('拥有的文件数是：%d'%(list(bigestfiles.values())[0]))\n",
    "    print('占最多空间的文件夹是:',end='')\n",
    "    for i in bigestsize.keys():\n",
    "        print(i,end=',')\n",
    "    print('其大小是,%d字节'%(list(bigestsize.values())[0]))\n",
    "findThebigestFloder(folder)"
   ]
  }
 ],
 "metadata": {
  "kernelspec": {
   "display_name": "Python 3",
   "language": "python",
   "name": "python3"
  },
  "language_info": {
   "codemirror_mode": {
    "name": "ipython",
    "version": 3
   },
   "file_extension": ".py",
   "mimetype": "text/x-python",
   "name": "python",
   "nbconvert_exporter": "python",
   "pygments_lexer": "ipython3",
   "version": "3.6.3"
  }
 },
 "nbformat": 4,
 "nbformat_minor": 2
}
