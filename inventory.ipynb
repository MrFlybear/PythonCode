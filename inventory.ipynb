{
 "cells": [
  {
   "cell_type": "code",
   "execution_count": null,
   "metadata": {},
   "outputs": [],
   "source": [
    "h={'rope':1,'torch':6,'gold coin':42,'dagger':1,'arrow':12}\n",
    "def displayInventory(inventory):\n",
    "    num=0\n",
    "    for key,value in inventory.items():\n",
    "        num=num+value\n",
    "        print(value,key)\n",
    "    print('total:'+str(num))\n",
    "def addToInventory(inventory,addItems):\n",
    "    for i in addItems:\n",
    "        if i not in inventory:\n",
    "            inventory[i]=1\n",
    "        else:\n",
    "            inventory[i]+=1\n",
    "dragonLoot=['panda','bamboo','panda','python']\n",
    "addToInventory(h,dragonLoot)\n",
    "displayInventory(h)\n"
   ]
  },
  {
   "cell_type": "code",
   "execution_count": 3,
   "metadata": {},
   "outputs": [
    {
     "name": "stdout",
     "output_type": "stream",
     "text": [
      "Dear Alice,\\n\n",
      "Eve's cat has been arrested for catnapping, cat burglary, and extortion.\n",
      "Sincerely, Bob\n"
     ]
    }
   ],
   "source": [
    "print(r'''Dear Alice,\\n\n",
    "Eve's cat has been arrested for catnapping, cat burglary, and extortion.\n",
    "Sincerely, Bob''')"
   ]
  }
 ],
 "metadata": {
  "kernelspec": {
   "display_name": "Python 3",
   "language": "python",
   "name": "python3"
  },
  "language_info": {
   "codemirror_mode": {
    "name": "ipython",
    "version": 3
   },
   "file_extension": ".py",
   "mimetype": "text/x-python",
   "name": "python",
   "nbconvert_exporter": "python",
   "pygments_lexer": "ipython3",
   "version": "3.6.3"
  }
 },
 "nbformat": 4,
 "nbformat_minor": 2
}
