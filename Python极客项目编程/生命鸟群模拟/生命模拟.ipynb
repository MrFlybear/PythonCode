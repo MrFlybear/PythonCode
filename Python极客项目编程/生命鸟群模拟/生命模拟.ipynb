{
 "cells": [
  {
   "cell_type": "code",
   "execution_count": 4,
   "metadata": {},
   "outputs": [
    {
     "data": {
      "text/plain": [
       "<matplotlib.image.AxesImage at 0x268b9ffb5c0>"
      ]
     },
     "execution_count": 4,
     "metadata": {},
     "output_type": "execute_result"
    },
    {
     "data": {
      "image/png": "[encoded data removed]",
      "text/plain": [
       "<Figure size 432x288 with 1 Axes>"
      ]
     },
     "metadata": {
      "needs_background": "light"
     },
     "output_type": "display_data"
    }
   ],
   "source": [
    "import numpy as np\n",
    "import matplotlib.pyplot as plt\n",
    "import matplotlib.animation as animation\n",
    "x=np.array([[0,255,255],\n",
    "        [255,0,0],\n",
    "        [0,0,255]])\n",
    "plt.imshow(x,interpolation='nearest')\n"
   ]
  },
  {
   "cell_type": "code",
   "execution_count": 10,
   "metadata": {},
   "outputs": [
    {
     "data": {
      "text/plain": [
       "<matplotlib.image.AxesImage at 0x20c8c6e8b38>"
      ]
     },
     "execution_count": 10,
     "metadata": {},
     "output_type": "execute_result"
    },
    {
     "data": {
      "image/png": "[encoded data removed]",
      "text/plain": [
       "<Figure size 432x288 with 1 Axes>"
      ]
     },
     "metadata": {
      "needs_background": "light"
     },
     "output_type": "display_data"
    }
   ],
   "source": [
    "import numpy as np\n",
    "import matplotlib.pyplot as plt\n",
    "import matplotlib.animation as animation\n",
    "x=np.random.choice([0,255],10*10,p=[0.5,0.5]).reshape(10,10)\n",
    "plt.imshow(x,interpolation='nearest')"
   ]
  },
  {
   "cell_type": "code",
   "execution_count": 30,
   "metadata": {},
   "outputs": [
    {
     "ename": "AttributeError",
     "evalue": "'ArgumentParser' object has no attribute 'parser_args'",
     "output_type": "error",
     "traceback": [
      "\u001b[1;31m---------------------------------------------------------------------------\u001b[0m",
      "\u001b[1;31mAttributeError\u001b[0m                            Traceback (most recent call last)",
      "\u001b[1;32m<ipython-input-30-f81baf6a90cb>\u001b[0m in \u001b[0;36m<module>\u001b[1;34m\u001b[0m\n\u001b[0;32m     87\u001b[0m     \u001b[0mplt\u001b[0m\u001b[1;33m.\u001b[0m\u001b[0mshow\u001b[0m\u001b[1;33m(\u001b[0m\u001b[1;33m)\u001b[0m\u001b[1;33m\u001b[0m\u001b[1;33m\u001b[0m\u001b[0m\n\u001b[0;32m     88\u001b[0m \u001b[1;32mif\u001b[0m \u001b[0m__name__\u001b[0m\u001b[1;33m==\u001b[0m\u001b[1;34m'__main__'\u001b[0m\u001b[1;33m:\u001b[0m\u001b[1;33m\u001b[0m\u001b[1;33m\u001b[0m\u001b[0m\n\u001b[1;32m---> 89\u001b[1;33m     \u001b[0mmain\u001b[0m\u001b[1;33m(\u001b[0m\u001b[1;33m)\u001b[0m\u001b[1;33m\u001b[0m\u001b[1;33m\u001b[0m\u001b[0m\n\u001b[0m\u001b[0;32m     90\u001b[0m \u001b[1;33m\u001b[0m\u001b[0m\n",
      "\u001b[1;32m<ipython-input-30-f81baf6a90cb>\u001b[0m in \u001b[0;36mmain\u001b[1;34m()\u001b[0m\n\u001b[0;32m     56\u001b[0m     \u001b[0mparser\u001b[0m\u001b[1;33m.\u001b[0m\u001b[0madd_argument\u001b[0m\u001b[1;33m(\u001b[0m\u001b[1;34m'--glider'\u001b[0m\u001b[1;33m,\u001b[0m\u001b[0maction\u001b[0m\u001b[1;33m=\u001b[0m\u001b[1;34m'store_true'\u001b[0m\u001b[1;33m,\u001b[0m\u001b[0mrequired\u001b[0m\u001b[1;33m=\u001b[0m\u001b[1;32mFalse\u001b[0m\u001b[1;33m)\u001b[0m\u001b[1;33m\u001b[0m\u001b[1;33m\u001b[0m\u001b[0m\n\u001b[0;32m     57\u001b[0m     \u001b[0mparser\u001b[0m\u001b[1;33m.\u001b[0m\u001b[0madd_argument\u001b[0m\u001b[1;33m(\u001b[0m\u001b[1;34m'--gosper'\u001b[0m\u001b[1;33m,\u001b[0m\u001b[0maction\u001b[0m\u001b[1;33m=\u001b[0m\u001b[1;34m'store_true'\u001b[0m\u001b[1;33m,\u001b[0m\u001b[0mrequired\u001b[0m\u001b[1;33m=\u001b[0m\u001b[1;32mFalse\u001b[0m\u001b[1;33m)\u001b[0m\u001b[1;33m\u001b[0m\u001b[1;33m\u001b[0m\u001b[0m\n\u001b[1;32m---> 58\u001b[1;33m     \u001b[0margs\u001b[0m\u001b[1;33m=\u001b[0m\u001b[0mparser\u001b[0m\u001b[1;33m.\u001b[0m\u001b[0mparser_args\u001b[0m\u001b[1;33m(\u001b[0m\u001b[1;33m)\u001b[0m\u001b[1;33m\u001b[0m\u001b[1;33m\u001b[0m\u001b[0m\n\u001b[0m\u001b[0;32m     59\u001b[0m     \u001b[1;31m#设置飞翔机的大小\u001b[0m\u001b[1;33m\u001b[0m\u001b[1;33m\u001b[0m\u001b[1;33m\u001b[0m\u001b[0m\n\u001b[0;32m     60\u001b[0m     \u001b[0mN\u001b[0m\u001b[1;33m=\u001b[0m\u001b[1;36m100\u001b[0m\u001b[1;33m\u001b[0m\u001b[1;33m\u001b[0m\u001b[0m\n",
      "\u001b[1;31mAttributeError\u001b[0m: 'ArgumentParser' object has no attribute 'parser_args'"
     ]
    }
   ],
   "source": [
    "import sys,argparse\n",
    "import numpy as np\n",
    "import matplotlib.pyplot as plt\n",
    "import matplotlib.animation as animation\n",
    "\n",
    "ON=255\n",
    "OFF=0\n",
    "\"vals是一个list：【255，0】，ON是255是黄色，OFF是0是蓝色\"\n",
    "vals=[ON,OFF]\n",
    "\n",
    "def randomGrid(N):\n",
    "    \"返回一个NXN的随机矩阵\"\n",
    "    return np.random.choice(vals,N*N,p=[0.2,0.8]).reshape(N,N)\n",
    "\n",
    "def addGlider(i,j,grid):\n",
    "    '''增加一个滑翔机在左上角0是蓝色，255是黄色'''\n",
    "    glider=np.array([\n",
    "        [0,255,255],\n",
    "        [255,0,0],\n",
    "        [0,0,255]\n",
    "    ])\n",
    "    grid[i:i+3,j:j+3]=grider\n",
    "\n",
    "def update(frameNum,img,grid,N):\n",
    "    newGrid=grid.copy()\n",
    "    for i in range(N):\n",
    "        for j in range(N):\n",
    "            #以i,j为中心的total相加,因为是一个闭环，加减的部分可能超过边界\n",
    "            #(i-1,j-1);(i-1,j);(i-1,j+1)\n",
    "            #(i,j-1);(i,j);(i,j+1)\n",
    "            #(i+1,j-1);(i+1,j),(i+1,j+1)\n",
    "            total=int((grid[(i-1)%N,(j-1)%N]+grid[(i-1)%N,j]+grid[(i-1)%N,(j+1)%N]+\n",
    "                       grid[i,(j-1)%N]+grid[i,j]+grid[i,(j+1)%N]+\n",
    "                       grid[(i+1)%N,(j-1)%N]+grid[(i+1)%N,j]+grid[(i+1)%N,(j+1)%N])/255)\n",
    "            #应用生命模拟的规则\n",
    "            if grid[i,j]==ON:\n",
    "                if (total<2) or (total>3):\n",
    "                    newGrid[i,j]=OFF\n",
    "            else:\n",
    "                if total==3:\n",
    "                    newGrid[i,j]=ON\n",
    "    #更新数据把变更后的值储入图片，并将grid也重置并返回img\n",
    "    img.set_data(newGrid)\n",
    "    grid[:]=newGrid[:]\n",
    "    return img\n",
    "    \n",
    "def main():\n",
    "    #搞命令行参数\n",
    "    #sys.argv[0]是脚本名称\n",
    "    #粘贴命令行\n",
    "    parser=argparse.ArgumentParser(description=\"运行生命模拟游戏\")\n",
    "    #添加参数\n",
    "    parser.add_argument('--grid-size',dest='N',required=False)\n",
    "    parser.add_argument('--mov--file',dest='movfile',required=False)\n",
    "    parser.add_argument('--interval',dest='interval',required=False)\n",
    "    parser.add_argument('--glider',action='store_true',required=False)\n",
    "    parser.add_argument('--gosper',action='store_true',required=False)\n",
    "    args=parser.parse_args()\n",
    "    #设置飞翔机的大小\n",
    "    N=100\n",
    "    #args.N是grid的大小，grid存在\n",
    "    if args.N and int(args.N)>8:\n",
    "        N=int(args.N)\n",
    "    #设置动态更新的间隔\n",
    "    updateInterval=50\n",
    "    if args.interval:\n",
    "        updateInterval=int(args.interval)\n",
    "    grid=np.array([])\n",
    "    #检查飞翔机是否特别\n",
    "    if args.glider:\n",
    "        grid=np.zero(N*N).reshap(N,N)\n",
    "        addGlider(1,1,grid)\n",
    "    else:\n",
    "        #设置飞翔机用on,off\n",
    "        grid=randomGrid(N)\n",
    "    #生成子图，相当于fig = plt.figure(),ax = fig.add_subplot(),其中ax的函数参数表示把当前画布进行分割\n",
    "    fig,ax=plt.subplots()\n",
    "    img=ax.imshow(grid,interpolation='nearest')\n",
    "    ani=animation.FuncAnimation(fig,update,fargs=(img,grid,N,),\n",
    "                               frames=10,\n",
    "                               interval=updateInterval,\n",
    "                               save_count=50)\n",
    "    #帧数多少\n",
    "    #设置输出文件\n",
    "    if args.movfile:\n",
    "        ani.save(args.movfile,fps=30,extra_arg=['-vcodec','libx264'])\n",
    "    plt.show()\n",
    "if __name__=='__main__':\n",
    "    main()\n",
    "    "
   ]
  },
  {
   "cell_type": "code",
   "execution_count": 7,
   "metadata": {},
   "outputs": [
    {
     "data": {
      "image/png": "[encoded data removed]",
      "text/plain": [
       "<Figure size 432x288 with 1 Axes>"
      ]
     },
     "metadata": {
      "needs_background": "light"
     },
     "output_type": "display_data"
    }
   ],
   "source": [
    "import matplotlib.pyplot as plt\n",
    "#plt的用法，定坐标大小\n",
    "plt.plot([1,2,3,4,5,100])\n",
    "#定坐标名称\n",
    "plt.ylabel('some numbers')\n",
    "plt.xlabel('hello world')\n",
    "plt.show()"
   ]
  },
  {
   "cell_type": "code",
   "execution_count": 14,
   "metadata": {},
   "outputs": [
    {
     "data": {
      "image/png": "[encoded data removed]",
      "text/plain": [
       "<Figure size 432x288 with 1 Axes>"
      ]
     },
     "metadata": {
      "needs_background": "light"
     },
     "output_type": "display_data"
    }
   ],
   "source": [
    "import matplotlib.pyplot as plt\n",
    "#表示里面的点，ro表示红色圆点\n",
    "plt.plot([1,2,3,4], [1,4,9,16], 'ro')\n",
    "#使用axis方便的设置x轴y轴的长度大小\n",
    "plt.axis([0, 4, 0, 16])\n",
    "plt.show()"
   ]
  },
  {
   "cell_type": "code",
   "execution_count": 19,
   "metadata": {},
   "outputs": [
    {
     "name": "stdout",
     "output_type": "stream",
     "text": [
      "[0.2 0.4 0.6 0.8 1.  1.2 1.4 1.6 1.8 2.  2.2 2.4 2.6 2.8 3.  3.2 3.4 3.6\n",
      " 3.8 4.  4.2 4.4 4.6 4.8 5. ]\n"
     ]
    },
    {
     "data": {
      "image/png": "[encoded data removed]",
      "text/plain": [
       "<Figure size 432x288 with 1 Axes>"
      ]
     },
     "metadata": {
      "needs_background": "light"
     },
     "output_type": "display_data"
    }
   ],
   "source": [
    "import numpy as np\n",
    "import matplotlib.pyplot as plt\n",
    "\n",
    "# 0到5之间每隔0.2取一个数\n",
    "t = np.arange(0.2, 5.2, 0.2)\n",
    "print(t)\n",
    "\n",
    "# 红色的破折号，蓝色的方块，绿色的三角形\n",
    "plt.plot(t, t, 'r--', t, t**2, 'bs', t, t**3, 'g^')\n",
    "plt.show()"
   ]
  },
  {
   "cell_type": "code",
   "execution_count": 20,
   "metadata": {},
   "outputs": [
    {
     "data": {
      "image/png": "[encoded data removed]",
      "text/plain": [
       "<Figure size 288x288 with 4 Axes>"
      ]
     },
     "metadata": {
      "needs_background": "light"
     },
     "output_type": "display_data"
    }
   ],
   "source": [
    "fig=plt.figure(num=1,figsize=(4,4))\n",
    "ax1=fig.add_subplot(221)###可从图中看到，我们的画布是分为2x2的区域,并选择第一个子图              \n",
    "ax1.plot([1,2,3,4],[1,2,3,4])\n",
    "ax2=fig.add_subplot(222)\n",
    "ax2.plot([1,2,3,4],[2,2,3,4])\n",
    "ax3=fig.add_subplot(223)\n",
    "ax3.plot([1,2,3,4],[1,2,2,4])\n",
    "ax4=fig.add_subplot(224)\n",
    "ax4.plot([1,2,3,4],[1,2,3,3])\n",
    "plt.show()"
   ]
  },
  {
   "cell_type": "code",
   "execution_count": 28,
   "metadata": {},
   "outputs": [
    {
     "name": "stdout",
     "output_type": "stream",
     "text": [
      "(array([0.        , 0.0494739 , 0.0989478 , 0.1484217 , 0.1978956 ,\n",
      "       0.2473695 , 0.2968434 , 0.3463173 , 0.3957912 , 0.4452651 ,\n",
      "       0.494739  , 0.5442129 , 0.5936868 , 0.6431607 , 0.6926346 ,\n",
      "       0.7421085 , 0.7915824 , 0.8410563 , 0.8905302 , 0.9400041 ,\n",
      "       0.989478  , 1.0389519 , 1.0884258 , 1.1378997 , 1.1873736 ,\n",
      "       1.2368475 , 1.2863214 , 1.3357953 , 1.3852692 , 1.4347431 ,\n",
      "       1.484217  , 1.5336909 , 1.5831648 , 1.6326387 , 1.6821126 ,\n",
      "       1.7315865 , 1.7810604 , 1.8305343 , 1.8800082 , 1.9294821 ,\n",
      "       1.978956  , 2.0284299 , 2.0779038 , 2.1273777 , 2.1768516 ,\n",
      "       2.2263255 , 2.2757994 , 2.3252733 , 2.3747472 , 2.4242211 ,\n",
      "       2.473695  , 2.5231689 , 2.5726428 , 2.6221167 , 2.6715906 ,\n",
      "       2.7210645 , 2.7705384 , 2.8200123 , 2.8694862 , 2.9189601 ,\n",
      "       2.968434  , 3.0179079 , 3.0673818 , 3.1168557 , 3.1663296 ,\n",
      "       3.2158035 , 3.2652774 , 3.3147513 , 3.3642252 , 3.4136991 ,\n",
      "       3.463173  , 3.5126469 , 3.5621208 , 3.6115947 , 3.6610686 ,\n",
      "       3.7105425 , 3.7600164 , 3.8094903 , 3.8589642 , 3.9084381 ,\n",
      "       3.957912  , 4.0073859 , 4.0568598 , 4.1063337 , 4.1558076 ,\n",
      "       4.2052815 , 4.2547554 , 4.3042293 , 4.3537032 , 4.40317711,\n",
      "       4.45265101, 4.50212491, 4.55159881, 4.60107271, 4.65054661,\n",
      "       4.70002051, 4.74949441, 4.79896831, 4.84844221, 4.89791611,\n",
      "       4.94739001, 4.99686391, 5.04633781, 5.09581171, 5.14528561,\n",
      "       5.19475951, 5.24423341, 5.29370731, 5.34318121, 5.39265511,\n",
      "       5.44212901, 5.49160291, 5.54107681, 5.59055071, 5.64002461,\n",
      "       5.68949851, 5.73897241, 5.78844631, 5.83792021, 5.88739411,\n",
      "       5.93686801, 5.98634191, 6.03581581, 6.08528971, 6.13476361,\n",
      "       6.18423751, 6.23371141, 6.28318531]),)\n"
     ]
    }
   ],
   "source": [
    "import numpy as np\n",
    "import matplotlib.pyplot as plt\n",
    "from matplotlib.animation import FuncAnimation\n",
    "\n",
    "frames=np.linspace(0, 2*np.pi, 128),\n",
    "                \n",
    "print(frames)"
   ]
  }
 ],
 "metadata": {
  "kernelspec": {
   "display_name": "Python 3",
   "language": "python",
   "name": "python3"
  },
  "language_info": {
   "codemirror_mode": {
    "name": "ipython",
    "version": 3
   },
   "file_extension": ".py",
   "mimetype": "text/x-python",
   "name": "python",
   "nbconvert_exporter": "python",
   "pygments_lexer": "ipython3",
   "version": "3.7.3"
  }
 },
 "nbformat": 4,
 "nbformat_minor": 2
}
