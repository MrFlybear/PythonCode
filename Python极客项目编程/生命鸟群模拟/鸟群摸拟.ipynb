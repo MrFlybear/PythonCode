{
 "cells": [
  {
   "source": [
    "import math\n",
    "import numpy as np\n",
    "width,height=640,480\n",
    "#好家伙可以啊，很好用，不枉我这时间消耗\n",
    "N=1222\n",
    "pos=[width/2.0,height/2.0]+10*np.random.rand(N*2).reshape(N,2)\n",
    "angles=2*math.pi*np.random.rand(N)\n",
    "vel=np.array(list(zip(np.sin(angles),np.cos(angles))))\n",
    "print(vel)\n"
   ],
   "cell_type": "code",
   "metadata": {},
   "execution_count": 15,
   "outputs": [
    {
     "output_type": "stream",
     "name": "stdout",
     "text": [
      "[[ 0.92997367 -0.36762614]\n [-0.86562344  0.50069557]\n [-0.27043376 -0.96273858]\n ...\n [-0.92769249  0.37334522]\n [-0.46449685  0.88557477]\n [ 0.00206317 -0.99999787]]\n"
     ]
    }
   ]
  },
  {
   "cell_type": "code",
   "execution_count": null,
   "metadata": {},
   "outputs": [],
   "source": [
    "import math\n",
    "import numpy as np\n",
    "width,height,N=640,480,10\n",
    "#rand（0,1）平均取值-0.5所以是（-0.5,0.5）\n",
    "pos=[width/2.0,height/2.0]+10*(np.random.rand(N*2)-0.5).reshape(N,2)\n",
    "#边界条件\n",
    "def applyBC(self):\n",
    "    deltaR=2.0\n",
    "    for coord in self.pos:\n",
    "        if coord[0]>width+deltaR:\n",
    "            coord[0]=-deltaR\n",
    "        if coord[0]<-deltaR:\n",
    "            coord[0]=width+deltaR\n",
    "        if coord[1]>height+deltaR:\n",
    "            coord[1]=-deltaR\n",
    "        if coord[1]<-detaR:\n",
    "            coord[1]=height+deltaR\n",
    "#利用matplotlib绘制类鸟群\n",
    "fig=plt.figure()\n",
    "ax=plt.axes(xlim=(0,width),ylim=(0,height))\n",
    "#头\n",
    "pts,=ax.plot([],[],markersize=10,c='k',marker='o',ls='None')\n",
    "#喙\n",
    "beak,=ax.plot([],[],markersize=4,c='r',marker='o',ls='None')\n",
    "#看不懂（添加鼠标按钮事件）\n",
    "anim=animation.FuncAnimation(fig,tick,fargs=(pts,beak,boids),interval=50)\n",
    "#头部的位置，10个单位\n",
    "vec=self.pos+10*self.vel/self.maxVel\n",
    "#更新reshape,轴set_data,偶数元素（x轴的值），奇数元素（y轴的值）\n",
    "beak.set_data(vec.reshape(2*self.N)[::2], vec.reshape(2*self.N)[1::2])\n",
    "import numpy as np\n",
    "from scipy.spatial.distance import squareform,pdist,cdist\n",
    "def test2(pos,radius):\n",
    "    #距离阵列看不懂,计算每两点之间的距离\n",
    "    distMatrix=squareform(pdist(pos))\n",
    "    #应用规则\n",
    "    D=distMatrix<radius\n",
    "    #计算速度\n",
    "    vel=pos*D.sum(axis=1).reshape(N,1)-D.dot(pos)\n",
    "    return vel\n",
    "    \n",
    "\n"
   ]
  },
  {
   "cell_type": "code",
   "execution_count": null,
   "metadata": {},
   "outputs": [],
   "source": [
    "import numpy as np\n",
    "from scipy.spatial.distance import squareform,pdist\n",
    "\n",
    "x=np.array([[0.0,0.0],[1.0,1.0],[2.0,2.0]])\n",
    "pos=np.array([5])\n",
    "distMatrix=squareform(pdist(x))\n",
    "print(\"--------------------------\")\n",
    "print(\"--------------------------\")\n",
    "print(\"--------------------------\")\n",
    "print(distMatrix)\n",
    "print(\"--------------------------\")\n",
    "print(\"--------------------------\")\n",
    "print(\"--------------------------\")\n",
    "print(distMatrix.sum())\n",
    "print(\"--------------------------\")\n",
    "print(\"--------------------------\")\n",
    "print(\"----axis=1是横着加--------\")\n",
    "print(distMatrix.sum(axis=1))\n",
    "print(\"--------------------------\")\n",
    "print(\"--------------------------\")\n",
    "print(\"----axis=0是竖着加--------\")\n",
    "print(distMatrix.sum(axis=0))\n",
    "print(\"--------------------------\")\n",
    "print(\"--------------------------\")\n",
    "print(\"--------------------------\")\n",
    "D=distMatrix<1.4\n",
    "print(D)\n",
    "print(\"--------------------------\")\n",
    "print(\"--------------------------\")\n",
    "print(\"--------------------------\")\n",
    "print(D.sum(axis=1))\n",
    "print(\"--------------------------\")\n",
    "print(\"--------------------------\")\n",
    "print(\"--------------------------\")\n",
    "print(distMatrix.sum(axis=1).dot(pos))\n",
    "#pos*D.sum(axis=1).reshape(N,1)-D.dot(pos)"
   ]
  }
 ],
 "metadata": {
  "kernelspec": {
   "name": "python373jvsc74a57bd05589094a3fba37a290e6ebab059201c6ecb01303144baa9234b79ca9817d6916",
   "display_name": "Python 3.7.3 64-bit ('base': conda)"
  },
  "language_info": {
   "codemirror_mode": {
    "name": "ipython",
    "version": 3
   },
   "file_extension": ".py",
   "mimetype": "text/x-python",
   "name": "python",
   "nbconvert_exporter": "python",
   "pygments_lexer": "ipython3",
   "version": "3.7.3"
  }
 },
 "nbformat": 4,
 "nbformat_minor": 2
}