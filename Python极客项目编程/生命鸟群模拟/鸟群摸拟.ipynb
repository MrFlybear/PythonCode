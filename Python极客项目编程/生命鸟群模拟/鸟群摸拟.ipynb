{
 "cells": [
  {
   "cell_type": "code",
   "execution_count": null,
   "metadata": {},
   "outputs": [],
   "source": [
    "import math\n",
    "import numpy as np\n",
    "width,height=640,480\n",
    "pos=[width/2.0,height/2.0]+10*np.random.rand(N*2).reshape(N,2)\n",
    "angles=2*math.pi*np.random.rand(N)\n",
    "vel=np.array(list(zip(np.sin(angles),np.cos(anglesles))))\n"
   ]
  },
  {
   "cell_type": "code",
   "execution_count": 7,
   "metadata": {},
   "outputs": [
    {
     "name": "stdout",
     "output_type": "stream",
     "text": [
      "[[319.92776225 244.2739016 ]\n",
      " [323.77880757 238.5825984 ]\n",
      " [318.42779269 241.61490916]\n",
      " [323.1626958  242.72209057]\n",
      " [320.07694634 241.37351323]\n",
      " [320.38691286 240.82463557]\n",
      " [323.19166383 244.57453607]\n",
      " [322.33605913 242.8164477 ]\n",
      " [318.97076344 238.99240618]\n",
      " [317.99855093 242.25682724]]\n"
     ]
    }
   ],
   "source": [
    "import math\n",
    "import numpy as np\n",
    "width,height,N=640,480,10\n",
    "#rand（0,1）平均取值-0.5所以是（-0.5,0.5）\n",
    "pos=[width/2.0,height/2.0]+10*(np.random.rand(N*2)-0.5).reshape(N,2)\n",
    "#边界条件\n",
    "def applyBC(self):\n",
    "    deltaR=2.0\n",
    "    for coord in self.pos:\n",
    "        if coord[0]>width+deltaR:\n",
    "            coord[0]=-deltaR\n",
    "        if coord[0]<-deltaR:\n",
    "            coord[0]=width+deltaR\n",
    "        if coord[1]>height+deltaR:\n",
    "            coord[1]=-deltaR\n",
    "        if coord[1]<-detaR:\n",
    "            coord[1]=height+deltaR\n",
    "#利用matplotlib绘制类鸟群\n",
    "fig=plt.figure()\n",
    "ax=plt.axes(xlim=(0,width),ylim=(0,height))\n",
    "#头\n",
    "pts,=ax.plot([],[],markersize=10,c='k',marker='o',ls='None')\n",
    "#喙\n",
    "beak,=ax.plot([],[],markersize=4,c='r',marker='o',ls='None')\n",
    "#看不懂（添加鼠标按钮事件）\n",
    "anim=animation.FuncAnimation(fig,tick,fargs=(pts,beak,boids),interval=50)\n",
    "#头部的位置，10个单位\n",
    "vec=self.pos+10*self.vel/self.maxVel\n",
    "#更新reshape,轴set_data,偶数元素（x轴的值），奇数元素（y轴的值）\n",
    "beak.set_data(vec.reshape(2*self.N)[::2], vec.reshape(2*self.N)[1::2])\n",
    "import numpy as np\n",
    "from scipy.spatial.distance import squareform,pdist,cdist\n",
    "def test2(pos,radius):\n",
    "    #距离阵列看不懂,计算每两点之间的距离\n",
    "    distMatrix=squareform(pdist(pos))\n",
    "    #应用规则\n",
    "    D=distMatrix<radius\n",
    "    #计算速度\n",
    "    vel=pos*D.sum(axis=1).reshape(N,1)-D.dot(pos)\n",
    "    return vel\n",
    "    \n",
    "\n"
   ]
  },
  {
   "cell_type": "code",
   "execution_count": 41,
   "metadata": {},
   "outputs": [
    {
     "name": "stdout",
     "output_type": "stream",
     "text": [
      "--------------------------\n",
      "--------------------------\n",
      "--------------------------\n",
      "[[0.         1.41421356 2.82842712]\n",
      " [1.41421356 0.         1.41421356]\n",
      " [2.82842712 1.41421356 0.        ]]\n",
      "--------------------------\n",
      "--------------------------\n",
      "--------------------------\n",
      "11.313708498984761\n",
      "--------------------------\n",
      "--------------------------\n",
      "----axis=1是横着加--------\n",
      "[4.24264069 2.82842712 4.24264069]\n",
      "--------------------------\n",
      "--------------------------\n",
      "----axis=0是竖着加--------\n",
      "[4.24264069 2.82842712 4.24264069]\n",
      "--------------------------\n",
      "--------------------------\n",
      "--------------------------\n",
      "[[ True False False]\n",
      " [False  True False]\n",
      " [False False  True]]\n",
      "--------------------------\n",
      "--------------------------\n",
      "--------------------------\n",
      "[1 1 1]\n",
      "--------------------------\n",
      "--------------------------\n",
      "--------------------------\n"
     ]
    },
    {
     "ename": "ValueError",
     "evalue": "shapes (3,) and (1,) not aligned: 3 (dim 0) != 1 (dim 0)",
     "output_type": "error",
     "traceback": [
      "\u001b[1;31m---------------------------------------------------------------------------\u001b[0m",
      "\u001b[1;31mValueError\u001b[0m                                Traceback (most recent call last)",
      "\u001b[1;32m<ipython-input-41-0de58225cc50>\u001b[0m in \u001b[0;36m<module>\u001b[1;34m\u001b[0m\n\u001b[0;32m     33\u001b[0m \u001b[0mprint\u001b[0m\u001b[1;33m(\u001b[0m\u001b[1;34m\"--------------------------\"\u001b[0m\u001b[1;33m)\u001b[0m\u001b[1;33m\u001b[0m\u001b[1;33m\u001b[0m\u001b[0m\n\u001b[0;32m     34\u001b[0m \u001b[0mprint\u001b[0m\u001b[1;33m(\u001b[0m\u001b[1;34m\"--------------------------\"\u001b[0m\u001b[1;33m)\u001b[0m\u001b[1;33m\u001b[0m\u001b[1;33m\u001b[0m\u001b[0m\n\u001b[1;32m---> 35\u001b[1;33m \u001b[0mprint\u001b[0m\u001b[1;33m(\u001b[0m\u001b[0mdistMatrix\u001b[0m\u001b[1;33m.\u001b[0m\u001b[0msum\u001b[0m\u001b[1;33m(\u001b[0m\u001b[0maxis\u001b[0m\u001b[1;33m=\u001b[0m\u001b[1;36m1\u001b[0m\u001b[1;33m)\u001b[0m\u001b[1;33m.\u001b[0m\u001b[0mdot\u001b[0m\u001b[1;33m(\u001b[0m\u001b[0mpos\u001b[0m\u001b[1;33m)\u001b[0m\u001b[1;33m)\u001b[0m\u001b[1;33m\u001b[0m\u001b[1;33m\u001b[0m\u001b[0m\n\u001b[0m\u001b[0;32m     36\u001b[0m \u001b[1;31m#pos*D.sum(axis=1).reshape(N,1)-D.dot(pos)\u001b[0m\u001b[1;33m\u001b[0m\u001b[1;33m\u001b[0m\u001b[1;33m\u001b[0m\u001b[0m\n",
      "\u001b[1;31mValueError\u001b[0m: shapes (3,) and (1,) not aligned: 3 (dim 0) != 1 (dim 0)"
     ]
    }
   ],
   "source": [
    "import numpy as np\n",
    "from scipy.spatial.distance import squareform,pdist\n",
    "\n",
    "x=np.array([[0.0,0.0],[1.0,1.0],[2.0,2.0]])\n",
    "pos=np.array([5])\n",
    "distMatrix=squareform(pdist(x))\n",
    "print(\"--------------------------\")\n",
    "print(\"--------------------------\")\n",
    "print(\"--------------------------\")\n",
    "print(distMatrix)\n",
    "print(\"--------------------------\")\n",
    "print(\"--------------------------\")\n",
    "print(\"--------------------------\")\n",
    "print(distMatrix.sum())\n",
    "print(\"--------------------------\")\n",
    "print(\"--------------------------\")\n",
    "print(\"----axis=1是横着加--------\")\n",
    "print(distMatrix.sum(axis=1))\n",
    "print(\"--------------------------\")\n",
    "print(\"--------------------------\")\n",
    "print(\"----axis=0是竖着加--------\")\n",
    "print(distMatrix.sum(axis=0))\n",
    "print(\"--------------------------\")\n",
    "print(\"--------------------------\")\n",
    "print(\"--------------------------\")\n",
    "D=distMatrix<1.4\n",
    "print(D)\n",
    "print(\"--------------------------\")\n",
    "print(\"--------------------------\")\n",
    "print(\"--------------------------\")\n",
    "print(D.sum(axis=1))\n",
    "print(\"--------------------------\")\n",
    "print(\"--------------------------\")\n",
    "print(\"--------------------------\")\n",
    "print(distMatrix.sum(axis=1).dot(pos))\n",
    "#pos*D.sum(axis=1).reshape(N,1)-D.dot(pos)"
   ]
  }
 ],
 "metadata": {
  "kernelspec": {
   "display_name": "Python 3",
   "language": "python",
   "name": "python3"
  },
  "language_info": {
   "codemirror_mode": {
    "name": "ipython",
    "version": 3
   },
   "file_extension": ".py",
   "mimetype": "text/x-python",
   "name": "python",
   "nbconvert_exporter": "python",
   "pygments_lexer": "ipython3",
   "version": "3.7.3"
  }
 },
 "nbformat": 4,
 "nbformat_minor": 2
}
