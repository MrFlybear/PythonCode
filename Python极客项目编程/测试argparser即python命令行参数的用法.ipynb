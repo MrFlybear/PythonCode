{
 "cells": [
  {
   "cell_type": "code",
   "execution_count": 1,
   "metadata": {},
   "outputs": [],
   "source": [
    "import re,argparse\n",
    "import sys\n",
    "from matplotlib import pyplot\n",
    "import plistlib\n",
    "import numpy as np\n",
    "import pprint\n",
    "def main():\n",
    "    descStr='''这是一个测试argparser的试验'''\n",
    "    parser=argparse.ArgumentParser(description=descStr)\n",
    "    group=parser.add_mutually_exclusive_group()\n",
    "    group.add_argument('--common',nargs='*',dest='plFiles',required=False)\n",
    "    group.add_argument('--stats',dest='plFile',required=False)\n",
    "    group.add_argument('--dup',dest='plFileD',required=False)\n",
    "    args=parser.parse_args()\n",
    "    if args.plFiles:\n",
    "        print('plFiles is done')\n",
    "    elif args.plFile:\n",
    "        print('plFile is done')\n",
    "    elif args.plFileD:\n",
    "        print('plFileD is done')\n",
    "    else:\n",
    "        print(\"There are not the tracks you are looking for.\")\n",
    "        \n",
    "if __name__=='__main__':\n",
    "    main()"
   ]
  },
  {
   "cell_type": "code",
   "execution_count": 3,
   "metadata": {},
   "outputs": [
    {
     "name": "stdout",
     "output_type": "stream",
     "text": [
      "{'SameName': (['a', 'b', 'c', 'd'], 3)}\n"
     ]
    }
   ],
   "source": [
    "SameNameDict={'SameName':(['a','b','c'],3)}\n",
    "SameNameDict['SameName'][0].append('d')\n",
    "print(SameNameDict)"
   ]
  },
  {
   "cell_type": "code",
   "execution_count": 5,
   "metadata": {},
   "outputs": [
    {
     "name": "stdout",
     "output_type": "stream",
     "text": [
      "(1, 2, 3, [4])\n",
      "[4, 5]\n"
     ]
    }
   ],
   "source": [
    "c=(1,2,3,[4])\n",
    "print(c)\n",
    "d=c[3]\n",
    "d.append(5)\n",
    "print(d)"
   ]
  },
  {
   "cell_type": "code",
   "execution_count": 6,
   "metadata": {},
   "outputs": [
    {
     "name": "stdout",
     "output_type": "stream",
     "text": [
      "2\n"
     ]
    }
   ],
   "source": [
    "a={'w':1,'c':3}\n",
    "print(len(a))"
   ]
  }
 ],
 "metadata": {
  "kernelspec": {
   "display_name": "Python 3",
   "language": "python",
   "name": "python3"
  },
  "language_info": {
   "codemirror_mode": {
    "name": "ipython",
    "version": 3
   },
   "file_extension": ".py",
   "mimetype": "text/x-python",
   "name": "python",
   "nbconvert_exporter": "python",
   "pygments_lexer": "ipython3",
   "version": "3.7.3"
  }
 },
 "nbformat": 4,
 "nbformat_minor": 2
}
