{
 "cells": [
  {
   "cell_type": "code",
   "execution_count": 1,
   "metadata": {},
   "outputs": [],
   "source": [
    "import re,argparse\n",
    "import sys\n",
    "from matplotlib import pyplot\n",
    "import plistlib\n",
    "import numpy as np\n",
    "import pprint\n",
    "def main():\n",
    "    descStr='''这是一个测试argparser的试验'''\n",
    "    parser=argparse.ArgumentParser(description=descStr)\n",
    "    group=parser.add_mutually_exclusive_group()\n",
    "    group.add_argument('--common',nargs='*',dest='plFiles',required=False)\n",
    "    group.add_argument('--stats',dest='plFile',required=False)\n",
    "    group.add_argument('--dup',dest='plFileD',required=False)\n",
    "    args=parser.parse_args()\n",
    "    if args.plFiles:\n",
    "        print('plFiles is done')\n",
    "    elif args.plFile:\n",
    "        print('plFile is done')\n",
    "    elif args.plFileD:\n",
    "        print('plFileD is done')\n",
    "    else:\n",
    "        print(\"There are not the tracks you are looking for.\")\n",
    "        \n",
    "if __name__=='__main__':\n",
    "    main()"
   ]
  }
 ],
 "metadata": {
  "kernelspec": {
   "display_name": "Python 3",
   "language": "python",
   "name": "python3"
  },
  "language_info": {
   "codemirror_mode": {
    "name": "ipython",
    "version": 3
   },
   "file_extension": ".py",
   "mimetype": "text/x-python",
   "name": "python",
   "nbconvert_exporter": "python",
   "pygments_lexer": "ipython3",
   "version": "3.7.3"
  }
 },
 "nbformat": 4,
 "nbformat_minor": 2
}
