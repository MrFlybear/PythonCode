{
 "cells": [
  {
   "cell_type": "code",
   "execution_count": null,
   "metadata": {},
   "outputs": [],
   "source": [
    "theBoard={'top-L':' ','top-M':' ','top-R':' ',\n",
    "         'mid-L':' ','mid-M':' ','mid-R':' ',\n",
    "         'low-L':' ','low-M':' ','low-R':' '}\n",
    "def printBoard(board):\n",
    "    print(board['top-L']+'|'+board['top-M']+'|'+board['top-R'])\n",
    "    print('-+-+-')\n",
    "    print(board['mid-L']+'|'+board['mid-M']+'|'+board['mid-R'])\n",
    "    print('-+-+-')\n",
    "    print(board['low-L']+'|'+board['low-M']+'|'+board['low-R'])\n",
    "turn='X'\n",
    "for i in range(9):\n",
    "    printBoard(theBoard)\n",
    "    print('Turn for'+turn+'.Move on which space?')\n",
    "    move=input()\n",
    "    theBoard[move]=turn\n",
    "    if turn=='X':\n",
    "        turn='O'\n",
    "    else:\n",
    "        turn='X'\n",
    "printBoard(theBoard)\n"
   ]
  },
  {
   "cell_type": "code",
   "execution_count": null,
   "metadata": {},
   "outputs": [],
   "source": [
    "allGuests={'Alice':{'apples':5,'pretzels':12},\n",
    "          'Bob':{'ham sandwiches':3,'apples':2},\n",
    "          'Carol':{'cups':3,'apple pies':1}}\n",
    "def totalBrought(guests,item):\n",
    "    numBrought=0\n",
    "    for k,v in guests.items():\n",
    "        numBrought=numBrought+v.get(item,0)\n",
    "    return numBrought\n",
    "print('-Apples '+str(totalBrought(allGuests,'apples')))"
   ]
  },
  {
   "cell_type": "code",
   "execution_count": null,
   "metadata": {},
   "outputs": [],
   "source": [
    "h={'rope':1,'torch':6,'gold coin':42,'dagger':1,'arrow':12}\n",
    "num=0\n",
    "for key,value in h:\n",
    "    num=num+value\n",
    "    print(key,value)\n",
    "print('total:'+num)"
   ]
  }
 ],
 "metadata": {
  "kernelspec": {
   "display_name": "Python 3",
   "language": "python",
   "name": "python3"
  },
  "language_info": {
   "codemirror_mode": {
    "name": "ipython",
    "version": 3
   },
   "file_extension": ".py",
   "mimetype": "text/x-python",
   "name": "python",
   "nbconvert_exporter": "python",
   "pygments_lexer": "ipython3",
   "version": "3.6.3"
  }
 },
 "nbformat": 4,
 "nbformat_minor": 2
}
