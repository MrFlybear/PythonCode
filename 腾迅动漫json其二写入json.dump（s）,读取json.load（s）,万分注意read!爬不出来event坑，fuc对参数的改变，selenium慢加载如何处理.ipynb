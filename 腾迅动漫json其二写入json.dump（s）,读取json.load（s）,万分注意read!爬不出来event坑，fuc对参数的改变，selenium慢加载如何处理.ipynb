{
 "cells": [
  {
   "cell_type": "code",
   "execution_count": null,
   "metadata": {},
   "outputs": [],
   "source": [
    "import os\n",
    "os.chdir(r'C:\\Users\\xxcmt\\Desktop\\文档\\automate_online-materials')\n",
    "fileObj=open('hello.txt','w')\n",
    "fileObj.write('Hello world!')\n",
    "fileObj.close()\n",
    " fileObj.close()\n",
    "    \n",
    "import subprocess\n",
    "subprocess.Popen(['start','hello.txt'],shell=True)\n"
   ]
  },
  {
   "cell_type": "code",
   "execution_count": null,
   "metadata": {},
   "outputs": [],
   "source": [
    "import time,datetime，requests\n",
    "delta=datetime.timedelta(days=1)\n",
    "dt=datetime.datetime(2019,5,12,8)\n",
    "print(dt)\n",
    "while True:\n",
    "    if delta.total_seconds()>0:\n",
    "        print('还没到运行的时候')\n",
    "        halfdaydelta=datetime.timedelta(hours=12)\n",
    "        delta=delta-halfdaydelta\n",
    "        time.sleep(halfdaydelta)\n",
    "    else:\n",
    "        #运行查看漫画程序\n",
    "        \n",
    "        delta=datetime.timedelta(days=1)\n",
    "    \n",
    "    \n",
    "    \n",
    "    \n",
    "\n"
   ]
  },
  {
   "cell_type": "code",
   "execution_count": null,
   "metadata": {},
   "outputs": [],
   "source": [
    "import time,subprocess,os\n",
    "os.chdir(r'C:\\Users\\xxcmt\\Desktop\\文档\\automate_online-materials')\n",
    "timeLeft=60\n",
    "while timeLeft>0:\n",
    "    print(timeLeft,end='')\n",
    "    time.sleep(1)\n",
    "    timeLeft=timeLeft-1\n",
    "subprocess.Popen(['start',r'C:\\Users\\xxcmt\\Desktop\\文档\\automate_online-materials\\alarm.wav'],shell=True)"
   ]
  },
  {
   "cell_type": "code",
   "execution_count": 6,
   "metadata": {},
   "outputs": [
    {
     "name": "stdout",
     "output_type": "stream",
     "text": [
      "加载入文件完成...\n"
     ]
    },
    {
     "data": {
      "text/plain": [
       "\"\\nwith open(r'log.json','r') as load_f:\\n    print(type(load_f))\\n    load_dict=json.load(load_f)\\n    print(load_dict)\\n#    print(load_dict)\\n#    print(load_f.read())\\n\""
      ]
     },
     "execution_count": 6,
     "metadata": {},
     "output_type": "execute_result"
    }
   ],
   "source": [
    "import os,json\n",
    "os.chdir(r'C:/Users/xxcmt/Desktop/文档/automate_online-materials/comicPictures/')\n",
    "dictcomic={}\n",
    "with open(r'log.json','w') as f:\n",
    "    json.dump(dictcomic,f,ensure_ascii=False)\n",
    "    print(\"清空日志...\")\n",
    "'''\n",
    "with open(r'log.json','r') as load_f:\n",
    "    print(type(load_f))\n",
    "    load_dict=json.load(load_f)\n",
    "    print(load_dict)\n",
    "#    print(load_dict)\n",
    "#    print(load_f.read())\n",
    "'''\n",
    "\n"
   ]
  },
  {
   "cell_type": "code",
   "execution_count": 9,
   "metadata": {},
   "outputs": [
    {
     "ename": "KeyboardInterrupt",
     "evalue": "",
     "output_type": "error",
     "traceback": [
      "\u001b[1;31m---------------------------------------------------------------------------\u001b[0m",
      "\u001b[1;31mKeyboardInterrupt\u001b[0m                         Traceback (most recent call last)",
      "\u001b[1;32m<ipython-input-9-df22ccfb509b>\u001b[0m in \u001b[0;36m<module>\u001b[1;34m\u001b[0m\n\u001b[0;32m      3\u001b[0m \u001b[0moneday\u001b[0m\u001b[1;33m=\u001b[0m\u001b[0mdelta\u001b[0m\u001b[1;33m.\u001b[0m\u001b[0mtotal_seconds\u001b[0m\u001b[1;33m(\u001b[0m\u001b[1;33m)\u001b[0m\u001b[1;33m\u001b[0m\u001b[1;33m\u001b[0m\u001b[0m\n\u001b[0;32m      4\u001b[0m \u001b[1;32mwhile\u001b[0m \u001b[0moneday\u001b[0m\u001b[1;33m>\u001b[0m\u001b[1;36m0\u001b[0m\u001b[1;33m:\u001b[0m\u001b[1;33m\u001b[0m\u001b[1;33m\u001b[0m\u001b[0m\n\u001b[1;32m----> 5\u001b[1;33m     \u001b[0mtime\u001b[0m\u001b[1;33m.\u001b[0m\u001b[0msleep\u001b[0m\u001b[1;33m(\u001b[0m\u001b[1;36m1\u001b[0m\u001b[1;33m)\u001b[0m\u001b[1;33m\u001b[0m\u001b[1;33m\u001b[0m\u001b[0m\n\u001b[0m\u001b[0;32m      6\u001b[0m     \u001b[0moneday\u001b[0m\u001b[1;33m=\u001b[0m\u001b[0moneday\u001b[0m\u001b[1;33m-\u001b[0m\u001b[1;36m1\u001b[0m\u001b[1;33m\u001b[0m\u001b[1;33m\u001b[0m\u001b[0m\n\u001b[0;32m      7\u001b[0m     \u001b[0msubprocess\u001b[0m\u001b[1;33m.\u001b[0m\u001b[0mPopen\u001b[0m\u001b[1;33m(\u001b[0m\u001b[1;33m[\u001b[0m\u001b[1;34mr'C:\\Users\\xxcmt\\Anaconda3\\python.exe'\u001b[0m\u001b[1;33m,\u001b[0m\u001b[1;34mr'C:\\Users\\xxcmt\\Downloads\\downLoadComic.py'\u001b[0m\u001b[1;33m]\u001b[0m\u001b[1;33m,\u001b[0m\u001b[0mshell\u001b[0m\u001b[1;33m=\u001b[0m\u001b[1;32mTrue\u001b[0m\u001b[1;33m)\u001b[0m\u001b[1;33m\u001b[0m\u001b[1;33m\u001b[0m\u001b[0m\n",
      "\u001b[1;31mKeyboardInterrupt\u001b[0m: "
     ]
    }
   ],
   "source": [
    "import datetime,time,sys,subprocess\n",
    "delta=datetime.timedelta(days=1)\n",
    "oneday=delta.total_seconds()\n",
    "while oneday>0:\n",
    "    time.sleep(1)\n",
    "    oneday=oneday-1\n",
    "    subprocess.Popen([r'C:\\Users\\xxcmt\\Anaconda3\\python.exe',r'C:\\Users\\xxcmt\\Downloads\\downLoadComic.py'],shell=True)\n",
    "    \n"
   ]
  },
  {
   "cell_type": "code",
   "execution_count": 5,
   "metadata": {},
   "outputs": [
    {
     "name": "stdout",
     "output_type": "stream",
     "text": [
      "打开日志检查是否为最新章\n",
      "检测到最新章为恶偶[公告-休更2周]，开始下载...\n",
      "1\n",
      "1\n",
      "1\n",
      "1\n",
      "picture 0 has downloaded\n",
      "done\n"
     ]
    }
   ],
   "source": [
    "#爬虫有学问，骚年还得多看书!!!!!!!!!!!!!!!!\n",
    "from selenium import webdriver\n",
    "import time,pprint,bs4,os\n",
    "from selenium.webdriver.common.keys import Keys\n",
    "import requests,threading\n",
    "import json,sys\n",
    "\n",
    "def getLatesturl():\n",
    "    os.chdir(r'C:\\Users\\xxcmt\\Desktop\\文档\\automate_online-materials')\n",
    "    res=requests.get('https://ac.qq.com/Comic/comicInfo/id/525099')\n",
    "    soup=bs4.BeautifulSoup(res.text)\n",
    "    #检查是否为最新html \n",
    "    capterElem=soup.select('#chapter > div.works-chapter-top.subscribe-wrap > ul > li:nth-child(2) > a')\n",
    "    latestCapterName=capterElem[0].get_text()\n",
    "    with open(r'.\\comicPictures\\log.json','r') as load_f:\n",
    "        latestCapter_dict=json.load(load_f)\n",
    "    print('打开日志检查是否为最新章')\n",
    "    latestCapterName='恶偶'+latestCapterName#完善日志的key\n",
    "    if latestCapterName not in latestCapter_dict.keys():\n",
    "        latestComicurl='https://ac.qq.com/'+capterElem[0].get('href')\n",
    "        latestCapter_dict[latestCapterName]=latestComicurl\n",
    "        #将最新章的日志写入\n",
    "        with open(r'.\\comicPictures\\log.json','w') as f:\n",
    "            json.dump(latestCapter_dict,f,ensure_ascii=False)\n",
    "        eouFloder=os.path.join(r'C:\\Users\\xxcmt\\Desktop\\文档\\automate_online-materials\\comicPictures','恶偶',latestCapterName)\n",
    "        os.makedirs(eouFloder,exist_ok=True)\n",
    "        print(\"检测到最新章为%s，开始下载...\"%latestCapterName)\n",
    "        return latestComicurl,eouFloder\n",
    "    else:\n",
    "        print('已经为最新章节')\n",
    "        return -1,-1\n",
    "   \n",
    "lastUrl,picture_Floder=getLatesturl()\n",
    "if lastUrl!=-1:\n",
    "    browser = webdriver.Firefox()\n",
    "    browser.get(lastUrl)\n",
    "    time.sleep(2)\n",
    "    htmlElem = browser.find_element_by_tag_name('html')\n",
    "else:\n",
    "    os._exit(0)\n",
    "    \n",
    "#模拟pressDown的动作，并更新源码\n",
    "def pressPageDown():\n",
    "    htmlElem.send_keys(Keys.PAGE_DOWN)\n",
    "    htmlElem.send_keys(Keys.PAGE_DOWN)\n",
    "    htmlElem.send_keys(Keys.PAGE_DOWN)\n",
    "    htmlElem.send_keys(Keys.PAGE_DOWN) \n",
    "    time.sleep(2)\n",
    "    html_text=browser.page_source\n",
    "    os.chdir(r'C:\\Users\\xxcmt\\Desktop\\文档\\automate_online-materials')\n",
    "    with open('badidol.html','w',encoding='utf-8') as f:\n",
    "        f.write(html_text)\n",
    "            \n",
    "#读取源码，检查是否下载完\n",
    "increasePageNum={}\n",
    "def isCompleteDownLoad():\n",
    "    with open('badidol.html','r',encoding='utf-8') as f:\n",
    "        soup=bs4.BeautifulSoup(f,'html')\n",
    "    imgElems=soup.select('#comicContain  li  img')\n",
    "    for i in imgElems:\n",
    "        if i.get('src').startswith('https://manhua.qpic.cn/manhua_detail') is not True:\n",
    "            imgElems.remove(i)\n",
    "    print('已加载%s张图片'%len(imgElems))\n",
    "    #因为缓存的原因，所以容错机制连续4次press没有变化的情况，表示加载完毕\n",
    "    if len(imgElems) not in increasePageNum.keys():\n",
    "        increasePageNum[len(imgElems)]=0\n",
    "        return 0,imgElems\n",
    "    else:\n",
    "        increasePageNum[len(imgElems)]=increasePageNum[len(imgElems)]+1\n",
    "        if increasePageNum[len(imgElems)]==3:\n",
    "            return 1,imgElems\n",
    "        else:\n",
    "            return 0,imgElems\n",
    "           \n",
    "#先pressdown一次，再检查，如此往覆,返回完整的imgElems\n",
    "def downloadLazyComic():\n",
    "    pressPageDown()\n",
    "    isComplete,imgElems=isCompleteDownLoad()\n",
    "    while isComplete==0:\n",
    "        pressPageDown()\n",
    "        isComplete,imgElems=isCompleteDownLoad()\n",
    "    return imgElems\n",
    "\n",
    "#多线程下载\n",
    "imgElems=downloadLazyComic()\n",
    "browser.quit()\n",
    "\n",
    "os.chdir(picture_Floder)\n",
    "#分成5或者6个线程\n",
    "i=5\n",
    "while True:\n",
    "    step=len(imgElems)//i\n",
    "    if step==0:\n",
    "        i=i-1\n",
    "    else:\n",
    "        break\n",
    "        \n",
    "#下载从a到b的图像\n",
    "def downloadComic(a,b):\n",
    "    for i in range (a,b):\n",
    "        url=imgElems[i].get('src')\n",
    "        res=requests.get(url)\n",
    "        imageFile=open(str(i+1)+'.jpg','wb') \n",
    "        for chunk in res.iter_content(100000):\n",
    "            imageFile.write(chunk)\n",
    "        imageFile.close()\n",
    "        print('picture %s has downloaded'%(i+1))\n",
    "\n",
    "downloadThreads=[]\n",
    "for i in range(0,len(imgElems),step):\n",
    "    downloadThread=threading.Thread(target=downloadComic,args=(i,min(i+step,len(imgElems))))\n",
    "    downloadThreads.append(downloadThread)\n",
    "    downloadThread.start()\n",
    "for downloadThread in downloadThreads:\n",
    "    downloadThread.join()\n",
    "print('done')\n",
    "\n",
    "\n",
    "\n",
    "    \n",
    "\n"
   ]
  },
  {
   "cell_type": "code",
   "execution_count": null,
   "metadata": {},
   "outputs": [],
   "source": [
    "#写一个判断是否下载完整的fuc，输入为html_text，返回为true,false,参数部分为list,imgElems,\n",
    "import os,requests,bs4\n",
    "os.chdir(r'C:\\Users\\xxcmt\\Desktop\\文档\\automate_online-materials')\n",
    "#放图像的list\n",
    "def isCompleteDownLoad():\n",
    "    with open('badidol.html','r',encoding='utf-8') as f:\n",
    "        soup=bs4.BeautifulSoup(f,'html')\n",
    "    imgElems=soup.select('#comicContain  li  img')\n",
    "    for i in imgElems:\n",
    "        if i.get('src').startswith('https://manhua.qpic.cn/manhua_detail') is not True:\n",
    "            imgElems.remove(i)\n",
    "    pageElems=soup.select('#comicContain li div em')\n",
    "    print(len(imgElems))\n",
    "    return (len(pageElems)==len(imgElems),imgElems)\n",
    "isCompleteDownLoad,imgElems=isCompleteDownLoad()\n",
    "if isCompleteDownLoad:\n",
    "    print('OK')\n",
    "print(len(imgElems))\n",
    "\n",
    "    "
   ]
  },
  {
   "cell_type": "code",
   "execution_count": null,
   "metadata": {},
   "outputs": [],
   "source": [
    "hello=['hello','world']\n",
    "def printhello(hello):\n",
    "    hello.remove('hello')\n",
    "    print(hello[0])\n",
    "printhello(hello)\n",
    "print(hello[0])"
   ]
  }
 ],
 "metadata": {
  "kernelspec": {
   "display_name": "Python 3",
   "language": "python",
   "name": "python3"
  },
  "language_info": {
   "codemirror_mode": {
    "name": "ipython",
    "version": 3
   },
   "file_extension": ".py",
   "mimetype": "text/x-python",
   "name": "python",
   "nbconvert_exporter": "python",
   "pygments_lexer": "ipython3",
   "version": "3.7.3"
  }
 },
 "nbformat": 4,
 "nbformat_minor": 2
}
