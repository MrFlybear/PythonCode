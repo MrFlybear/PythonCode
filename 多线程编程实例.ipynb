{
 "cells": [
  {
   "cell_type": "code",
   "execution_count": null,
   "metadata": {},
   "outputs": [],
   "source": [
    "import requests,os,bs4,threading\n",
    "os.chdir(r'C:\\Users\\xxcmt\\Desktop\\文档\\automate_online-materials')\n",
    "os.makedirs('xkcd',exist_ok=True)\n",
    "\n",
    "def downloadXkcd(startComic,endComic):\n",
    "    for urlNumber in range(startComic,endComic):\n",
    "        print('Downloading page http://xkcd.com/%s...'%(urlNumber))\n",
    "        res=requests.get('http://xkcd.com/%s'%(urlNumber))\n",
    "        res.raise_for_status()\n",
    "        \n",
    "        soup=bs4.BeautifulSoup(res.text)\n",
    "        \n",
    "        #Find the URL of the comic image.\n",
    "        comicElem=soup.select('#comic img')\n",
    "        if comicElem==[]:\n",
    "            print('Could not find comic image.')\n",
    "        else:\n",
    "            comicUrl=comicElem[0].get('src')\n",
    "            comicUrl='http:'+comicUrl\n",
    "            #Download the image.\n",
    "            print('Downloading image %s...'%(comicUrl))\n",
    "            res=requests.get(comicUrl)\n",
    "            res.raise_for_status()\n",
    "            #Save the image to ./xkcd\n",
    "            imageFile=open(os.path.join('xkcd',os.path.basename(comicUrl)),'wb')\n",
    "            for chunk in res.iter_content(100000):\n",
    "                imageFile.write(chunk)\n",
    "            imageFile.close()\n",
    "#多线程开始你的表演\n",
    "downloadThreads=[]\n",
    "for i in range(0,1400,100):\n",
    "    downloadThread=threading.Thread(target=downloadXkcd,args=(i,i+99))\n",
    "    downloadThreads.append(downloadThread)\n",
    "    downloadThread.start()\n",
    "for downloadThread in downloadThreads:\n",
    "    downloadThread.join()\n",
    "print('Done.')\n",
    "\n"
   ]
  },
  {
   "cell_type": "code",
   "execution_count": 10,
   "metadata": {},
   "outputs": [
    {
     "name": "stdout",
     "output_type": "stream",
     "text": [
      "0 3\n",
      "3 6\n",
      "6 9\n",
      "9 12\n",
      "12 15\n",
      "15 16\n"
     ]
    }
   ],
   "source": [
    "for i in range (0,16,16//17):\n",
    "    print(i,min(i+16//5,16))"
   ]
  }
 ],
 "metadata": {
  "kernelspec": {
   "display_name": "Python 3",
   "language": "python",
   "name": "python3"
  },
  "language_info": {
   "codemirror_mode": {
    "name": "ipython",
    "version": 3
   },
   "file_extension": ".py",
   "mimetype": "text/x-python",
   "name": "python",
   "nbconvert_exporter": "python",
   "pygments_lexer": "ipython3",
   "version": "3.7.3"
  }
 },
 "nbformat": 4,
 "nbformat_minor": 2
}
