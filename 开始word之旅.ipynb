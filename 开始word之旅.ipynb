{
 "cells": [
  {
   "cell_type": "code",
   "execution_count": null,
   "metadata": {},
   "outputs": [],
   "source": [
    "import docx,os\n",
    "os.chdir(r'C:\\Users\\xxcmt\\Desktop\\文档\\automate_online-materials')\n",
    "doc=docx.Document('demo.docx')\n",
    "len(doc.paragraphs)\n",
    "doc.paragraphs[0].text\n",
    "print(doc.paragraphs[1].text)\n",
    "len(doc.paragraphs[1].runs)\n",
    "print(doc.paragraphs[1].runs[0].text)\n",
    "print(doc.paragraphs[1].runs[1].text)\n",
    "print(doc.paragraphs[1].runs[2].text)\n",
    "print(doc.paragraphs[1].runs[3].text)\n",
    "print(doc.paragraphs[1].runs[4].text)"
   ]
  },
  {
   "cell_type": "code",
   "execution_count": null,
   "metadata": {},
   "outputs": [],
   "source": [
    "import docx,os\n",
    "os.chdir(r'C:\\Users\\xxcmt\\Desktop\\文档\\automate_online-materials')\n",
    "doc=docx.Document('demo.docx')\n",
    "doc.paragraphs[0].text\n",
    "doc.paragraphs[0].style\n",
    "doc.paragraphs[0].style='Normal'\n",
    "doc.paragraphs[1].text\n",
    "print(doc.paragraphs[1].runs[0].text)\n",
    "doc.paragraphs[1].runs[0].style='Quote'\n",
    "doc.save('xiong.docx')"
   ]
  },
  {
   "cell_type": "code",
   "execution_count": null,
   "metadata": {},
   "outputs": [],
   "source": [
    "#创建word并添加文字\n",
    "import docx,os\n",
    "os.chdir(r'C:\\Users\\xxcmt\\Desktop\\文档\\automate_online-materials')\n",
    "doc=docx.Document()\n",
    "doc.add_paragraph('Hello World!')\n",
    "paraObj1=doc.add_paragraph('This is a second paragraph.')\n",
    "paraObj2=doc.add_paragraph('This is a yet another paragraph.')\n",
    "paraObj1.add_run('This text is being added to the second paragraph.')\n",
    "doc.save('multipleParagraphs.docx')"
   ]
  },
  {
   "cell_type": "code",
   "execution_count": 7,
   "metadata": {},
   "outputs": [],
   "source": [
    "#创建word并添加几级标题,插入图片\n",
    "import docx,os\n",
    "os.chdir(r'C:\\Users\\xxcmt\\Desktop\\文档\\automate_online-materials')\n",
    "doc=docx.Document()\n",
    "doc.add_heading('0级标题',0)\n",
    "doc.add_heading('1级标题',1)\n",
    "doc.add_heading('2级标题',2)\n",
    "doc.add_heading('3级标题',3)\n",
    "doc.add_heading('4级标题',4)\n",
    "doc.add_picture('zophie.png',width=docx.shared.Inches(1),height=docx.shared.Cm(4))\n",
    "doc.save('headings.docx')"
   ]
  },
  {
   "cell_type": "code",
   "execution_count": 6,
   "metadata": {},
   "outputs": [],
   "source": [
    "#换页符\n",
    "import docx,os\n",
    "doc=docx.Document()\n",
    "doc.add_paragraph('This is on the first page!')\n",
    "doc.paragraphs[0].runs[0].add_break(docx.text.run.WD_BREAK.PAGE)\n",
    "doc.add_paragraph('This is on the second page!')\n",
    "doc.save('twoPage.docx')"
   ]
  }
 ],
 "metadata": {
  "kernelspec": {
   "display_name": "Python 3",
   "language": "python",
   "name": "python3"
  },
  "language_info": {
   "codemirror_mode": {
    "name": "ipython",
    "version": 3
   },
   "file_extension": ".py",
   "mimetype": "text/x-python",
   "name": "python",
   "nbconvert_exporter": "python",
   "pygments_lexer": "ipython3",
   "version": "3.7.3"
  }
 },
 "nbformat": 4,
 "nbformat_minor": 2
}
