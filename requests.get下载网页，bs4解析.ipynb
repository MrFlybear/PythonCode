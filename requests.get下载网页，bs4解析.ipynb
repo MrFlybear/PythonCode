{
 "cells": [
  {
   "cell_type": "code",
   "execution_count": 11,
   "metadata": {},
   "outputs": [
    {
     "data": {
      "text/plain": [
       "bs4.BeautifulSoup"
      ]
     },
     "execution_count": 11,
     "metadata": {},
     "output_type": "execute_result"
    }
   ],
   "source": [
    "import bs4,requests\n",
    "res=requests.get('https://www.codecademy.com/')\n",
    "res.raise_for_status()\n",
    "#exampFile=open(r'C:\\Users\\xxcmt\\Desktop\\htmltest.html')\n",
    "noStarchSoup=bs4.BeautifulSoup(exampFile,'html.parser')\n",
    "type(noStarchSoup)"
   ]
  },
  {
   "cell_type": "code",
   "execution_count": 23,
   "metadata": {
    "scrolled": true
   },
   "outputs": [
    {
     "data": {
      "text/plain": [
       "{'id': 'author'}"
      ]
     },
     "execution_count": 23,
     "metadata": {},
     "output_type": "execute_result"
    }
   ],
   "source": [
    "import bs4\n",
    "exampleFile=open(r'C:\\Users\\xxcmt\\Desktop\\htmltest.html')\n",
    "exampleSoup=bs4.BeautifulSoup(exampleFile.read(),'html.parser')\n",
    "elems=exampleSoup.select('#author')\n",
    "type(elems)\n",
    "len(elems)\n",
    "type(elems[0])\n",
    "elems[0].getText()\n",
    "str(elems[0])\n",
    "elems[0].attrs"
   ]
  }
 ],
 "metadata": {
  "kernelspec": {
   "display_name": "Python 3",
   "language": "python",
   "name": "python3"
  },
  "language_info": {
   "codemirror_mode": {
    "name": "ipython",
    "version": 3
   },
   "file_extension": ".py",
   "mimetype": "text/x-python",
   "name": "python",
   "nbconvert_exporter": "python",
   "pygments_lexer": "ipython3",
   "version": "3.6.3"
  }
 },
 "nbformat": 4,
 "nbformat_minor": 2
}
