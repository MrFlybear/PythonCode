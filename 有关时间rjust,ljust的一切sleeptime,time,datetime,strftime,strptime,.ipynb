{
 "cells": [
  {
   "cell_type": "code",
   "execution_count": null,
   "metadata": {},
   "outputs": [],
   "source": [
    "import time\n",
    "time.time()"
   ]
  },
  {
   "cell_type": "code",
   "execution_count": null,
   "metadata": {},
   "outputs": [],
   "source": [
    "import time\n",
    "print('Press ENTER to begin.Afterwards,press ENTER to \"click\" the stopwatch.Press Ctrl-C to quit.')\n",
    "input\n",
    "print('Started.')\n",
    "startTime=time.time()\n",
    "lastTime=startTime\n",
    "lapNum=1\n",
    "try:\n",
    "    while True:\n",
    "        input()\n",
    "        lapTime=round(time.time()-lastTime,2)\n",
    "        totalTime=round(time.time()-startTime,2)\n",
    "        #Lap # 1: 3.56 ( 3.56)\n",
    "        print('Lap # '+str(lapNum)+':'+str(totalTime).rjust(6)+' '+'('+str(lapTime).rjust(6)+')')\n",
    "       # print('Lap #%s:%s(%s)'%(lapNum,totalTime,lapTime),end='')\n",
    "        lapNum+=1\n",
    "        lastTime=time.time()\n",
    "except KeyboardInterrupt:\n",
    "    print('\\nDone.')\n"
   ]
  },
  {
   "cell_type": "code",
   "execution_count": null,
   "metadata": {},
   "outputs": [],
   "source": [
    "import datetime,time\n",
    "#datetime.datetime.now()\n",
    "delta=datetime.timedelta(days=11,hours=10,minutes=9,seconds=9)\n",
    "delta.total_seconds()\n",
    "#dt=datetime.datetime(2019, 5, 10, 8, 5, 19, 288685)\n",
    "#print(dt.year,dt.month,dt.day)\n",
    "#print(dt.hour,dt.minute,dt.second)\n",
    "datetime.datetime.fromtimestamp(10086)\n",
    "datetime.datetime.fromtimestamp(time.time())"
   ]
  },
  {
   "cell_type": "code",
   "execution_count": null,
   "metadata": {},
   "outputs": [],
   "source": [
    "#持续时间,时间加减\n",
    "import datetime\n",
    "delta=datetime.timedelta(days=11,hours=10,minutes=9,seconds=9)\n",
    "delta.total_seconds()\n",
    "dt=datetime.datetime.now()\n",
    "thousandDays=datetime.timedelta(days=1000)\n",
    "dt+thousandDays\n",
    "#datetime.datetime.fromtimestamp(dt+thousandDays)"
   ]
  },
  {
   "cell_type": "code",
   "execution_count": 3,
   "metadata": {},
   "outputs": [
    {
     "name": "stdout",
     "output_type": "stream",
     "text": [
      "2015/10/21 16:29:10\n",
      "04:29\n",
      "October of '15\n"
     ]
    },
    {
     "data": {
      "text/plain": [
       "datetime.datetime(2063, 11, 1, 0, 0)"
      ]
     },
     "execution_count": 3,
     "metadata": {},
     "output_type": "execute_result"
    }
   ],
   "source": [
    "import datetime\n",
    "#转化成对人友好的格式\n",
    "oct21st=datetime.datetime(2015, 10, 21, 16, 29, 10)\n",
    "#2015/10/21 16:29:10\n",
    "print(oct21st.strftime('%Y/%m/%d %H:%M:%S'))\n",
    "#04:29 PM\n",
    "print(oct21st.strftime('%I:%M %p'))\n",
    "#October of '15\n",
    "print(oct21st.strftime(\"%B of '%y\"))\n",
    "#转化成机器友好的格式,大小写敏感\n",
    "datetime.datetime.strptime('October 21,2015','%B %d,%Y')\n",
    "datetime.datetime.strptime('2015/10/21 16:29:00','%Y/%m/%d %H:%M:%S')\n",
    "datetime.datetime.strptime(\"October of 2015\",\"%B of %Y\")\n",
    "datetime.datetime.strptime(\"November of '63\",\"%B of '%y\")"
   ]
  }
 ],
 "metadata": {
  "kernelspec": {
   "display_name": "Python 3",
   "language": "python",
   "name": "python3"
  },
  "language_info": {
   "codemirror_mode": {
    "name": "ipython",
    "version": 3
   },
   "file_extension": ".py",
   "mimetype": "text/x-python",
   "name": "python",
   "nbconvert_exporter": "python",
   "pygments_lexer": "ipython3",
   "version": "3.7.3"
  }
 },
 "nbformat": 4,
 "nbformat_minor": 2
}
