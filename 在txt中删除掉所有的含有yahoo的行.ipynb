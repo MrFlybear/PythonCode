{
 "cells": [
  {
   "cell_type": "code",
   "execution_count": 2,
   "metadata": {},
   "outputs": [
    {
     "name": "stdout",
     "output_type": "stream",
     "text": [
      "<_io.TextIOWrapper name='C:\\\\Users\\\\xxcmt\\\\Desktop\\\\ss\\\\test.txt' mode='r' encoding='utf-16'>\n"
     ]
    }
   ],
   "source": [
    "import re\n",
    "fp=open(r'C:\\Users\\xxcmt\\Desktop\\ss\\test.txt',encoding='utf-16')\n",
    "result_test=open(r'C:\\Users\\xxcmt\\Desktop\\ss\\result_test.txt','w')\n",
    "for line in fp:\n",
    "    if re.search('yahoo',line)!=None:\n",
    "        #写也是一件难事啊\n",
    "        result_test.write(line)\n",
    "print(fp)\n",
    "fp.close()\n",
    "result_test.close()"
   ]
  }
 ],
 "metadata": {
  "kernelspec": {
   "display_name": "Python 3",
   "language": "python",
   "name": "python3"
  },
  "language_info": {
   "codemirror_mode": {
    "name": "ipython",
    "version": 3
   },
   "file_extension": ".py",
   "mimetype": "text/x-python",
   "name": "python",
   "nbconvert_exporter": "python",
   "pygments_lexer": "ipython3",
   "version": "3.6.3"
  }
 },
 "nbformat": 4,
 "nbformat_minor": 2
}
