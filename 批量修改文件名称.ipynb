{
 "cells": [
  {
   "cell_type": "code",
   "execution_count": 20,
   "metadata": {},
   "outputs": [
    {
     "name": "stdout",
     "output_type": "stream",
     "text": [
      "American date 01-03-2014eggs.zip mm:01,dd:03,yyyy:2014\n",
      "Renaming \"C:\\Users\\xxcmt\\xiong\\01-03-2014eggs.zip\" to \"C:\\Users\\xxcmt\\xiong\\03-01-2014eggs.zip\"...\n",
      "American date spam4-4-1984.txt mm:4,dd:4,yyyy:1984\n",
      "Renaming \"C:\\Users\\xxcmt\\xiong\\spam4-4-1984.txt\" to \"C:\\Users\\xxcmt\\xiong\\spam4-4-1984.txt\"...\n"
     ]
    }
   ],
   "source": [
    "import shutil,os,re\n",
    "#识别美国时间的regex\n",
    "Am_date=re.compile(r'^(.*?)([0-1]?\\d)-([0-3]?\\d)-((19|20)?\\d\\d)(.*?)$')\n",
    "#遍历你所需要的文件夹C:\\Users\\xxcmt\\xiong为例\n",
    "os.chdir(r'C:\\Users\\xxcmt\\xiong')\n",
    "absWorkingDir=os.path.abspath('.')\n",
    "for filename in os.listdir():\n",
    "    amdate=Am_date.search(filename)\n",
    "#拆分美国时间，注意括号和group()的配合用法\n",
    "    if amdate!=None:\n",
    "        print('American date %s mm:%s,dd:%s,yyyy:%s'%(amdate.group(0),amdate.group(2),amdate.group(3),amdate.group(4)))\n",
    "        beforedate=amdate.group(1)\n",
    "        mm=amdate.group(2)\n",
    "        dd=amdate.group(3)\n",
    "        yy=amdate.group(4)\n",
    "        afterdate=amdate.group(6)\n",
    "        #改成欧洲时间格式的文件\n",
    "        eufilename=beforedate+dd+'-'+mm+'-'+yy+afterdate\n",
    "        amfilename=os.path.join(absWorkingDir,filename)\n",
    "        eufilename=os.path.join(absWorkingDir,eufilename)\n",
    "        print('Renaming \"%s\" to \"%s\"...'%(amfilename,eufilename))\n",
    "        #在当前文件夹完成转换\n",
    "        shutil.move(amfilename,eufilename)\n",
    "\n",
    "        \n"
   ]
  }
 ],
 "metadata": {
  "kernelspec": {
   "display_name": "Python 3",
   "language": "python",
   "name": "python3"
  },
  "language_info": {
   "codemirror_mode": {
    "name": "ipython",
    "version": 3
   },
   "file_extension": ".py",
   "mimetype": "text/x-python",
   "name": "python",
   "nbconvert_exporter": "python",
   "pygments_lexer": "ipython3",
   "version": "3.6.3"
  }
 },
 "nbformat": 4,
 "nbformat_minor": 2
}
