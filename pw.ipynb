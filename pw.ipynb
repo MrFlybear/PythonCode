{
 "cells": [
  {
   "cell_type": "code",
   "execution_count": 1,
   "metadata": {
    "scrolled": true
   },
   "outputs": [
    {
     "name": "stdout",
     "output_type": "stream",
     "text": [
      "There is no account named-f\n"
     ]
    }
   ],
   "source": [
    "#An insecure password locker program\n",
    "PASSWORDS={\n",
    "    'email':'F7minlBDDuvMJuxESSKHFhTxFtjVB6',\n",
    "    'blog':'VmALvQyKAxiVH5G8v01if1MLZF3sdt',\n",
    "    'luggage':'12345'\n",
    "}\n",
    "import sys,pyperclip\n",
    "if len(sys.argv)<2:\n",
    "    print('Usage:python pw.py[account]-copy account password')\n",
    "    sys.exit()\n",
    "account=sys.argv[1]\n",
    "\n",
    "if account in PASSWORDS:\n",
    "    pyperclip.copy(PASSWORD[account])\n",
    "    print('Password for'+account+'copied to clipboard.')\n",
    "else:\n",
    "    print('There is no account named'+account)"
   ]
  }
 ],
 "metadata": {
  "kernelspec": {
   "display_name": "Python 3",
   "language": "python",
   "name": "python3"
  },
  "language_info": {
   "codemirror_mode": {
    "name": "ipython",
    "version": 3
   },
   "file_extension": ".py",
   "mimetype": "text/x-python",
   "name": "python",
   "nbconvert_exporter": "python",
   "pygments_lexer": "ipython3",
   "version": "3.6.3"
  }
 },
 "nbformat": 4,
 "nbformat_minor": 2
}
