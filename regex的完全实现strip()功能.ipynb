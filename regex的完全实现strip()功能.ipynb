{
 "cells": [
  {
   "cell_type": "code",
   "execution_count": 17,
   "metadata": {},
   "outputs": [
    {
     "name": "stdout",
     "output_type": "stream",
     "text": [
      "re.compile('^[aliec ]*', re.IGNORECASE)\n",
      "re.compile('[aliec ]*$', re.IGNORECASE)\n",
      "ts apples.Carol eats 7 cats.ss\n",
      "ts apples.Carol eats 7 cats.ss\n"
     ]
    },
    {
     "data": {
      "text/plain": [
       "\"\\nstripHRegex=re.compile(r'((^[laiec]*)(.*))',re.I)\\nstripHead=stripHRegex.search('Alice eats apples.Carol eats 7 cats.ssailce').group(3)\\n#print(stremoveRegex.search('Alice eats apples.Carol eats 7 cats.alice').groups())\\nprint(stripHead)\\nstripTRegex=re.compile(r'[laiec]*$',re.I)\\n#stripTail=stripTRegex.search(stripHead)\\nstart,end=stripTRegex.search(stripHead).span()\\nprint(stripHead[:start])\\n\""
      ]
     },
     "execution_count": 17,
     "metadata": {},
     "output_type": "execute_result"
    }
   ],
   "source": [
    "'''\n",
    "strip(),不区分顺序，区分大小写，可输入字符串，re.I可以删除\n",
    "'''\n",
    "import re\n",
    "def strip_specify_word(raw,word=' '):  \n",
    "    head_re_raw='^['+word+']*'\n",
    "    headRegex=re.compile(head_re_raw,re.I)\n",
    "    print(headRegex)\n",
    "    beforestart,start=headRegex.search(raw).span()\n",
    "    tail_re_raw='['+word+']*$'\n",
    "    tailRegex=re.compile(tail_re_raw,re.I)\n",
    "    print(tailRegex)\n",
    "    end,afterend=tailRegex.search(raw).span()\n",
    "    rawstriped=raw[start:end]\n",
    "    return rawstriped\n",
    "print(strip_specify_word('Alice eats apples.Carol eats 7 cats.ssailce','aliec'))\n",
    "test='Alice eats apples.Carol eats 7 cats.ssailce'\n",
    "print(test.strip('Aaliec '))\n",
    "\n",
    "\n",
    "    \n",
    "\n",
    "\n",
    "    \n",
    "\n",
    "\n"
   ]
  }
 ],
 "metadata": {
  "kernelspec": {
   "display_name": "Python 3",
   "language": "python",
   "name": "python3"
  },
  "language_info": {
   "codemirror_mode": {
    "name": "ipython",
    "version": 3
   },
   "file_extension": ".py",
   "mimetype": "text/x-python",
   "name": "python",
   "nbconvert_exporter": "python",
   "pygments_lexer": "ipython3",
   "version": "3.6.3"
  }
 },
 "nbformat": 4,
 "nbformat_minor": 2
}
