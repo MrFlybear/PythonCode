{
 "cells": [
  {
   "cell_type": "code",
   "execution_count": 11,
   "metadata": {},
   "outputs": [
    {
     "name": "stdout",
     "output_type": "stream",
     "text": [
      "[8, 5, 5]\n",
      "  apples Alice  dogs \n",
      "\n",
      " oranges   Bob  cats \n",
      "\n",
      "cherries Carol moose \n",
      "\n",
      "  banana David goose \n",
      "\n"
     ]
    }
   ],
   "source": [
    "tableData=[['apples', 'oranges', 'cherries', 'banana'],\n",
    "           ['Alice', 'Bob', 'Carol', 'David'],\n",
    "           ['dogs', 'cats', 'moose', 'goose']]\n",
    "def printTable(tableData):\n",
    "    colWidths=[0]*len(tableData)\n",
    "    #Find the longest item and store it in the list\n",
    "    for i in range(len(colWidths)):\n",
    "        max=0\n",
    "        for j in tableData[i]:\n",
    "            if max<len(j):\n",
    "                max=len(j)\n",
    "            colWidths[i]=max\n",
    "    print(colWidths)\n",
    "                \n",
    "    #reverse the the list and print it     \n",
    "    for j in range(len(tableData[0])):\n",
    "        for i in range(len(tableData)):\n",
    "            print(tableData[i][j].rjust(colWidths[i]),end=' ')\n",
    "        print('\\n')\n",
    "printTable(tableData)\n",
    "        \n",
    "            \n",
    "        \n",
    "    "
   ]
  }
 ],
 "metadata": {
  "kernelspec": {
   "display_name": "Python 3",
   "language": "python",
   "name": "python3"
  },
  "language_info": {
   "codemirror_mode": {
    "name": "ipython",
    "version": 3
   },
   "file_extension": ".py",
   "mimetype": "text/x-python",
   "name": "python",
   "nbconvert_exporter": "python",
   "pygments_lexer": "ipython3",
   "version": "3.6.3"
  }
 },
 "nbformat": 4,
 "nbformat_minor": 2
}
