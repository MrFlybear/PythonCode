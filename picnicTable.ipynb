{
 "cells": [
  {
   "cell_type": "code",
   "execution_count": 13,
   "metadata": {},
   "outputs": [
    {
     "name": "stdout",
     "output_type": "stream",
     "text": [
      "---PICNIC ITEM---\n",
      "sandwiches..    4\n",
      "apple.......   12\n",
      "cups........    4\n",
      "cookies..... 8000\n",
      "-----------PICNIC ITEM------------\n",
      "sandwiches....................   4\n",
      "apple.........................  12\n",
      "cups..........................   4\n",
      "cookies.......................8000\n"
     ]
    }
   ],
   "source": [
    "def printPicnic(itemsDict,leftWidth,rightWidth):\n",
    "    print('PICNIC ITEM'.center(leftWidth+rightWidth,'-'))\n",
    "    for k,v in itemsDict.items():\n",
    "        print(k.ljust(leftWidth,'.')+str(v).rjust(rightWidth))\n",
    "picnicItems={'sandwiches':4,'apple':12,'cups':4,'cookies':8000}\n",
    "printPicnic(picnicItems,12,5)\n",
    "printPicnic(picnicItems,30,4)"
   ]
  }
 ],
 "metadata": {
  "kernelspec": {
   "display_name": "Python 3",
   "language": "python",
   "name": "python3"
  },
  "language_info": {
   "codemirror_mode": {
    "name": "ipython",
    "version": 3
   },
   "file_extension": ".py",
   "mimetype": "text/x-python",
   "name": "python",
   "nbconvert_exporter": "python",
   "pygments_lexer": "ipython3",
   "version": "3.6.3"
  }
 },
 "nbformat": 4,
 "nbformat_minor": 2
}
