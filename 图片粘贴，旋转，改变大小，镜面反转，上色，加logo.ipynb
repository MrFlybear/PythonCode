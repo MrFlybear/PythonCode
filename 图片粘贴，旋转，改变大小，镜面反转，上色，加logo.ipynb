{
 "cells": [
  {
   "cell_type": "code",
   "execution_count": null,
   "metadata": {},
   "outputs": [],
   "source": [
    "#粘贴\n",
    "import os\n",
    "from PIL import Image\n",
    "os.chdir(r'C:\\Users\\xxcmt\\Desktop\\文档\\automate_online-materials')\n",
    "catIm=Image.open('zophie.png')\n",
    "faceIm=catIm.crop((335,345,565,560))\n",
    "catImWidth,catImHeight=catIm.size\n",
    "faceImWidth,faceImHeight=faceIm.size\n",
    "catCopyTwo=catIm.copy()\n",
    "for left in range(0,catImWidth,faceImWidth):\n",
    "    for top in range(0,catImHeight,faceImHeight):\n",
    "        print(left,top)\n",
    "        catCopyTwo.paste(faceIm,(left,top))\n",
    "catCopyTwo.save('tiled.png')\n"
   ]
  },
  {
   "cell_type": "code",
   "execution_count": null,
   "metadata": {},
   "outputs": [],
   "source": [
    "#改变大小\n",
    "import os\n",
    "from PIL import Image\n",
    "os.chdir(r'C:\\Users\\xxcmt\\Desktop\\文档\\automate_online-materials')\n",
    "catIm=Image.open('zophie.png')\n",
    "width,height=catIm.size\n",
    "quartersizedIm=catIm.resize((int(width/2),int(height/2)))\n",
    "quartersizedIm.save('quartersized.png')\n",
    "svelteIm=catIm.resize((width,height+300))\n",
    "svelteIm.save('svelte.png')"
   ]
  },
  {
   "cell_type": "code",
   "execution_count": null,
   "metadata": {},
   "outputs": [],
   "source": [
    "#旋转\n",
    "import os\n",
    "from PIL import Image\n",
    "os.chdir(r'C:\\Users\\xxcmt\\Desktop\\文档\\automate_online-materials')\n",
    "catIm=Image.open('zophie.png')\n",
    "catIm.rotate(6).save('rotated6.png')\n",
    "catIm.rotate(6,expand=True).save('rotated6_expanded.png')"
   ]
  },
  {
   "cell_type": "code",
   "execution_count": null,
   "metadata": {},
   "outputs": [],
   "source": [
    "#镜面翻转\n",
    "import os\n",
    "from PIL import Image\n",
    "os.chdir(r'C:\\Users\\xxcmt\\Desktop\\文档\\automate_online-materials')\n",
    "catIm=Image.open('zophie.png')\n",
    "catIm.transpose(Image.FLIP_LEFT_RIGHT).save('horizontal_flip.png')\n",
    "catIm.transpose(Image.FLIP_TOP_BOTTOM).save('vertical_flip.png')"
   ]
  },
  {
   "cell_type": "code",
   "execution_count": null,
   "metadata": {},
   "outputs": [],
   "source": [
    "#上色\n",
    "import os\n",
    "from PIL import Image\n",
    "os.chdir(r'C:\\Users\\xxcmt\\Desktop\\文档\\automate_online-materials')\n",
    "im=Image.new('RGBA',(100,100))\n",
    "print(im.getpixel((0,0)))\n",
    "for x in range(100):\n",
    "    for y in range(50):\n",
    "        im.putpixel((x,y),(210,210,210))\n",
    "from PIL import ImageColor\n",
    "for x in range(100):\n",
    "    for y in range(50,100):\n",
    "        im.putpixel((x,y),ImageColor.getcolor('darkgray','RGBA'))\n",
    "print(im.getpixel((0,0)))\n",
    "im.getpixel((0,51))\n",
    "im.save('putPixel.png')\n",
    "\n"
   ]
  },
  {
   "cell_type": "code",
   "execution_count": null,
   "metadata": {},
   "outputs": [],
   "source": [
    "#加logo\n",
    "import os\n",
    "from PIL import Image\n",
    "os.chdir(r'C:\\Users\\xxcmt\\Desktop\\文档\\automate_online-materials')\n",
    "SQUARE_FIT_SIZE=300\n",
    "LOGO_FILENAME='catlogo.png'\n",
    "logoIm=Image.open(LOGO_FILENAME)\n",
    "logoWidth,logoHeight=logoIm.size\n",
    "logoHeight=int(75/logoWidth*logoHeight)\n",
    "logoWidth=75\n",
    "logoIm=logoIm.resize((75,logoHeight))\n",
    "os.makedirs('withLogo',exist_ok=True)\n",
    "for filename in os.listdir('.'):\n",
    "    if not (filename.endswith('.png') or filename.endswith('.jpg')) or filename==LOGO_FILENAME:\n",
    "        continue\n",
    "    im=Image.open(filename)\n",
    "    width,height=im.size\n",
    "    if width>SQUARE_FIT_SIZE or height>SQUARE_FIT_SIZE:\n",
    "        if width>height:\n",
    "            height=int((SQUARE_FIT_SIZE/width)*height)\n",
    "            width=SQUARE_FIT_SIZE\n",
    "        else:\n",
    "            width=int((SQUARE_FIT_SIZE/height)*width)\n",
    "            height=SQUARE_FIT_SIZE\n",
    "        print('Resizing%s...'%(filename))\n",
    "        im=im.resize((width,height))\n",
    "        print('Adding logo to %s...'%(filename))\n",
    "        im.paste(logoIm,(width-logoWidth,height-logoHeight),logoIm)\n",
    "        im.save(os.path.join('withLogo',filename))\n",
    "                     \n",
    "                     "
   ]
  },
  {
   "cell_type": "code",
   "execution_count": null,
   "metadata": {},
   "outputs": [],
   "source": [
    "#画直线，\n",
    "import os\n",
    "from PIL import Image,ImageDraw\n",
    "os.chdir(r'C:\\Users\\xxcmt\\Desktop\\文档\\automate_online-materials')\n",
    "im=Image.new('RGBA',(200,200),'white')\n",
    "draw=ImageDraw.Draw(im)\n",
    "draw.line([(10,10),(190,10),(190,190),(10,190),(10,10)],fill='black')\n",
    "draw.rectangle((20,30,60,60),fill='blue')\n",
    "draw.ellipse((120,30,160,60),fill='red')\n",
    "draw.polygon(((57,87),(79,62),(94,85),(120,90),(103,113)),fill='brown')\n",
    "for i in range(100,200,10):\n",
    "    draw.line([(i,0),(200,i-100)],fill='green')\n",
    "im.save('drawing.png')"
   ]
  },
  {
   "cell_type": "code",
   "execution_count": null,
   "metadata": {
    "scrolled": true
   },
   "outputs": [],
   "source": [
    "#画’曲线‘\n",
    "import os\n",
    "from PIL import Image,ImageDraw\n",
    "os.chdir(r'C:\\Users\\xxcmt\\Desktop\\文档\\automate_online-materials')\n",
    "im=Image.new('RGBA',(200,200),'white')\n",
    "draw=ImageDraw.Draw(im)\n",
    "for i in range(100,200,10):\n",
    "    go=input()\n",
    "    if go=='g':\n",
    "        draw.line([(i,0),(200,i-100)],fill='green')\n",
    "        im.save(str(i)+'drawing.png')\n",
    "    else:\n",
    "        print('error')\n",
    "        break"
   ]
  },
  {
   "cell_type": "code",
   "execution_count": 10,
   "metadata": {},
   "outputs": [],
   "source": [
    "#在白板上写字\n",
    "from PIL import ImageFont,Image,ImageDraw\n",
    "import os\n",
    "os.chdir(r'C:\\Users\\xxcmt\\Desktop\\文档\\automate_online-materials')\n",
    "im=Image.new('RGBA',(200,200),'white')\n",
    "draw=ImageDraw.Draw(im)\n",
    "draw.text((20,150),'Hello',fill='purple')\n",
    "fontsFloder='C:\\Windows\\Fonts'\n",
    "arialFont=ImageFont.truetype(os.path.join(fontsFloder,'arial.ttf'),32)\n",
    "draw.text((100,150),'Howdy',fill='gray',font=arialFont)\n",
    "im.save('text.png')"
   ]
  }
 ],
 "metadata": {
  "kernelspec": {
   "display_name": "Python 3",
   "language": "python",
   "name": "python3"
  },
  "language_info": {
   "codemirror_mode": {
    "name": "ipython",
    "version": 3
   },
   "file_extension": ".py",
   "mimetype": "text/x-python",
   "name": "python",
   "nbconvert_exporter": "python",
   "pygments_lexer": "ipython3",
   "version": "3.7.3"
  }
 },
 "nbformat": 4,
 "nbformat_minor": 2
}
