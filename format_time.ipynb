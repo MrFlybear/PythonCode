{
 "cells": [
  {
   "cell_type": "code",
   "execution_count": 8,
   "metadata": {},
   "outputs": [
    {
     "name": "stdout",
     "output_type": "stream",
     "text": [
      "1539222687\n",
      "1 51 27\n"
     ]
    }
   ],
   "source": [
    "import time\n",
    "#print time now\n",
    "time_now=int(time.time())\n",
    "print(time_now)\n",
    "def get_seconds(s):\n",
    "    seconds=s%60\n",
    "    return(seconds)\n",
    "\n",
    "def get_minutes(s):\n",
    "    minutes=(s//60)%60\n",
    "    return(minutes)\n",
    "\n",
    "def get_hours(s):\n",
    "    hours=((s//60)//60)%24\n",
    "    return(hours)\n",
    "    \n",
    "def format_time(t):\n",
    "    s=get_seconds(t)\n",
    "    m=get_minutes(t)\n",
    "    h=get_hours(t)\n",
    "    print(h,m,s)\n",
    "format_time(time_now)\n",
    "    "
   ]
  }
 ],
 "metadata": {
  "kernelspec": {
   "display_name": "Python 3",
   "language": "python",
   "name": "python3"
  },
  "language_info": {
   "codemirror_mode": {
    "name": "ipython",
    "version": 3
   },
   "file_extension": ".py",
   "mimetype": "text/x-python",
   "name": "python",
   "nbconvert_exporter": "python",
   "pygments_lexer": "ipython3",
   "version": "3.6.3"
  }
 },
 "nbformat": 4,
 "nbformat_minor": 2
}
