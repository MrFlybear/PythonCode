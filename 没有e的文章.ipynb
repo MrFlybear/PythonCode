{
 "cells": [
  {
   "cell_type": "code",
   "execution_count": 7,
   "metadata": {},
   "outputs": [
    {
     "name": "stdout",
     "output_type": "stream",
     "text": [
      "0.3307383423103621\n"
     ]
    }
   ],
   "source": [
    "import re\n",
    "\n",
    "def has_no_e(s):\n",
    "    return re.search(r'[eE]',s)==None\n",
    "\n",
    "fin=open('C:\\word.txt')\n",
    "sum1=0\n",
    "num=0\n",
    "for line in fin:\n",
    "    sum1=sum1+1\n",
    "    word=line.strip()\n",
    "    if(has_no_e(word)):\n",
    "        num=num+1\n",
    "percent=num/sum1\n",
    "print(percent)\n",
    "\n",
    "\n",
    "\n",
    "\n",
    "    \n",
    "\n",
    "    \n",
    "    \n",
    "\n",
    "    "
   ]
  }
 ],
 "metadata": {
  "kernelspec": {
   "display_name": "Python 3",
   "language": "python",
   "name": "python3"
  },
  "language_info": {
   "codemirror_mode": {
    "name": "ipython",
    "version": 3
   },
   "file_extension": ".py",
   "mimetype": "text/x-python",
   "name": "python",
   "nbconvert_exporter": "python",
   "pygments_lexer": "ipython3",
   "version": "3.6.3"
  }
 },
 "nbformat": 4,
 "nbformat_minor": 2
}
