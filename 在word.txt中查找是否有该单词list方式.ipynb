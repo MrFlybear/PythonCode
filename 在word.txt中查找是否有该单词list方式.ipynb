{
 "cells": [
  {
   "cell_type": "code",
   "execution_count": 9,
   "metadata": {},
   "outputs": [
    {
     "name": "stdout",
     "output_type": "stream",
     "text": [
      "zoo\n",
      "找到了\n"
     ]
    }
   ],
   "source": [
    "h=[]\n",
    "fp=open('C:\\word.txt')\n",
    "for line in fp:\n",
    "    word=line.strip()\n",
    "    h.append(word)\n",
    "def findinlist(s):\n",
    "     if s in h:\n",
    "        print('找到了')\n",
    "     else:\n",
    "        print('没找到啊')\n",
    "s=input()\n",
    "findinlist(s)"
   ]
  }
 ],
 "metadata": {
  "kernelspec": {
   "display_name": "Python 3",
   "language": "python",
   "name": "python3"
  },
  "language_info": {
   "codemirror_mode": {
    "name": "ipython",
    "version": 3
   },
   "file_extension": ".py",
   "mimetype": "text/x-python",
   "name": "python",
   "nbconvert_exporter": "python",
   "pygments_lexer": "ipython3",
   "version": "3.6.3"
  }
 },
 "nbformat": 4,
 "nbformat_minor": 2
}
