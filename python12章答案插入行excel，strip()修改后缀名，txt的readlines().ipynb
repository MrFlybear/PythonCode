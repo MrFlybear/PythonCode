{
 "cells": [
  {
   "cell_type": "code",
   "execution_count": null,
   "metadata": {},
   "outputs": [],
   "source": [
    "import openpyxl,sys,os\n",
    "wb1=openpyxl.load_workbook(sys.argv[3])\n",
    "sheet1=wb1.active\n",
    "wb2=openpyxl.Workbook()\n",
    "sheet2=wb2.create_sheet(index=0,title='插入'+sys.argv[2]+'行之后的表')\n",
    "#复制n行之前\n",
    "for i in range(1,int(sys.argv[1])):\n",
    "    for j in range(1,int(sheet1.max_column)+1):\n",
    "        sheet2.cell(row=i,column=j).value=sheet1.cell(row=i,column=j).value\n",
    "#n-1+m行之后的事情\n",
    "for i in range(int(sys.argv[1]),sheet1.max_row+1):\n",
    "    for j in range(1,int(sheet1.max_column)+1):\n",
    "        sheet2.cell(row=int(sys.argv[2])+i,column=j).value=sheet1.cell(row=i,column=j).value\n",
    "wb2.save(sys.argv[3].strip('.xlsx')+'插入后'+'.xlsx')\n",
    "print('the file is:%s'%(os.path.basename(sys.argv[3].strip('.xlsx')+'插入后'+'.xlsx')))\n",
    "print('done')\n",
    "\n",
    "\n",
    "\n",
    "\n"
   ]
  },
  {
   "cell_type": "code",
   "execution_count": 4,
   "metadata": {},
   "outputs": [
    {
     "name": "stdout",
     "output_type": "stream",
     "text": [
      "done.file name is :翻转styled.xlsx\n"
     ]
    }
   ],
   "source": [
    "#把表格翻转一下\n",
    "import openpyxl,sys,os\n",
    "os.chdir(r'C:\\Users\\xxcmt\\Desktop\\文档\\excelSpreadsheets')\n",
    "wb1=openpyxl.load_workbook('styled.xlsx')\n",
    "sheet1=wb1.active\n",
    "wb2=openpyxl.Workbook()\n",
    "sheet2=wb2.active\n",
    "for i in range(1,sheet1.max_row+1):\n",
    "    for j in range(1,sheet1.max_column+1):\n",
    "        sheet2.cell(row=j,column=i).value=sheet1.cell(row=i,column=j).value\n",
    "wb2.save('翻转styled.xlsx')\n",
    "print('done.file name is :翻转styled.xlsx')\n",
    "        \n",
    "\n"
   ]
  },
  {
   "cell_type": "code",
   "execution_count": 6,
   "metadata": {},
   "outputs": [],
   "source": [
    "#txt按行写入\n",
    "import openpyxl,os\n",
    "os.chdir(r'C:\\Users\\xxcmt\\Desktop\\文档\\excelSpreadsheets')\n",
    "fp=open(r'C:\\Users\\xxcmt\\Desktop\\文档\\linktest.txt')\n",
    "wb=openpyxl.Workbook()\n",
    "sheet=wb.active\n",
    "i=0\n",
    "for line in fp.readlines():\n",
    "    i=i+1\n",
    "    sheet.cell(row=i,column=1).value=line\n",
    "wb.save('txt按行写入excel.xlsx')\n",
    "\n",
    "    "
   ]
  }
 ],
 "metadata": {
  "kernelspec": {
   "display_name": "Python 3",
   "language": "python",
   "name": "python3"
  },
  "language_info": {
   "codemirror_mode": {
    "name": "ipython",
    "version": 3
   },
   "file_extension": ".py",
   "mimetype": "text/x-python",
   "name": "python",
   "nbconvert_exporter": "python",
   "pygments_lexer": "ipython3",
   "version": "3.7.3"
  }
 },
 "nbformat": 4,
 "nbformat_minor": 2
}
