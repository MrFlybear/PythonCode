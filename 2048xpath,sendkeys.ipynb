{
 "cells": [
  {
   "cell_type": "code",
   "execution_count": 4,
   "metadata": {},
   "outputs": [
    {
     "name": "stdout",
     "output_type": "stream",
     "text": [
      "restarting...\n"
     ]
    }
   ],
   "source": [
    "from selenium import webdriver\n",
    "from selenium.webdriver.common.keys import Keys\n",
    "import time\n",
    "browser=webdriver.Firefox()\n",
    "browser.get('https://play2048.co/')\n",
    "startbtn_Elem=browser.find_element_by_xpath('/html/body/div[3]/div[2]/a')\n",
    "startbtn_Elem.click()\n",
    "print('restarting...')\n",
    "time.sleep(5)\n",
    "html_Elem=browser.find_element_by_tag_name('html')\n",
    "for i in range(1000):\n",
    "    html_Elem.send_keys(Keys.UP)\n",
    "    html_Elem.send_keys(Keys.RIGHT)\n",
    "    html_Elem.send_keys(Keys.DOWN)\n",
    "    html_Elem.send_keys(Keys.LEFT)\n",
    "\n"
   ]
  }
 ],
 "metadata": {
  "kernelspec": {
   "display_name": "Python 3",
   "language": "python",
   "name": "python3"
  },
  "language_info": {
   "codemirror_mode": {
    "name": "ipython",
    "version": 3
   },
   "file_extension": ".py",
   "mimetype": "text/x-python",
   "name": "python",
   "nbconvert_exporter": "python",
   "pygments_lexer": "ipython3",
   "version": "3.7.3"
  }
 },
 "nbformat": 4,
 "nbformat_minor": 2
}
