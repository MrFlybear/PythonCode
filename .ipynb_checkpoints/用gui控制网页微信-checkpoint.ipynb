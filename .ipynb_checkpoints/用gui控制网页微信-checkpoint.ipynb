{
 "cells": [
  {
   "cell_type": "code",
   "execution_count": 5,
   "metadata": {},
   "outputs": [
    {
     "name": "stdout",
     "output_type": "stream",
     "text": [
      "there you have 5 seconds to switch to the wechat webpage...\n",
      "finding mg PNG......\n",
      "click 750,980\n"
     ]
    }
   ],
   "source": [
    "import pyautogui,os,time,pyperclip\n",
    "os.chdir(r'C:\\Users\\xxcmt\\Desktop\\文档\\automate_online-materials')\n",
    "print('there you have 5 seconds to switch to the wechat webpage...')\n",
    "time.sleep(5)\n",
    "def sendmessage(usename,msg):\n",
    "    pyautogui.locateOnScreen('zoom.PNG')\n",
    "    switch_wechat=pyautogui.locateOnScreen('zoom.PNG')\n",
    "    pyautogui.doubleClick()(switch_wechat)\n",
    "    pyautogui.moveRel(30,0)\n",
    "    pyautogui.click()\n",
    "    pyperclip.copy(usename)\n",
    "    pyautogui.hotkey('ctrl', 'v')\n",
    "    pyautogui.press('enter')\n",
    "    #找输入框\n",
    "    print('finding mg PNG......')\n",
    "    message_place=pyautogui.locateOnScreen('mg.PNG')\n",
    "    x,y=pyautogui.center(message_place)\n",
    "    x=x+80\n",
    "    y=y+80\n",
    "    print('click %s,%s'%(x,y))\n",
    "    pyautogui.click(x,y)\n",
    "    pyperclip.copy(msg)\n",
    "    pyautogui.hotkey('ctrl','v')\n",
    "    pyautogui.press('enter')\n",
    "\n",
    "sendmessage('cmt','金子')\n",
    "    "
   ]
  }
 ],
 "metadata": {
  "kernelspec": {
   "display_name": "Python 3",
   "language": "python",
   "name": "python3"
  },
  "language_info": {
   "codemirror_mode": {
    "name": "ipython",
    "version": 3
   },
   "file_extension": ".py",
   "mimetype": "text/x-python",
   "name": "python",
   "nbconvert_exporter": "python",
   "pygments_lexer": "ipython3",
   "version": "3.7.3"
  }
 },
 "nbformat": 4,
 "nbformat_minor": 2
}
