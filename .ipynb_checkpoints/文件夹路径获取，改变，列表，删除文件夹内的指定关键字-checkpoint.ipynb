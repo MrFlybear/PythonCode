{
 "cells": [
  {
   "cell_type": "code",
   "execution_count": 6,
   "metadata": {},
   "outputs": [
    {
     "name": "stdout",
     "output_type": "stream",
     "text": [
      "C:\\Users\\xxcmt\n"
     ]
    }
   ],
   "source": [
    "import os \n",
    "import re\n",
    "#当前路径\n",
    "print(os.getcwd())\n",
    "#改变路径\n",
    "#os.chdir(pathname)\n",
    "#以列表的形式含盖当前路径下所有文件\n",
    "#print(os.listdir())\n",
    "#re表达式匹配关键字\n",
    "keywordregex=re.compile(r'hello')\n",
    "for filename in os.listdir():\n",
    "    keyword=keywordregex.search(filename)\n",
    "    if keyword!=None:\n",
    "        os.unlink(filename)\n"
   ]
  }
 ],
 "metadata": {
  "kernelspec": {
   "display_name": "Python 3",
   "language": "python",
   "name": "python3"
  },
  "language_info": {
   "codemirror_mode": {
    "name": "ipython",
    "version": 3
   },
   "file_extension": ".py",
   "mimetype": "text/x-python",
   "name": "python",
   "nbconvert_exporter": "python",
   "pygments_lexer": "ipython3",
   "version": "3.7.3"
  }
 },
 "nbformat": 4,
 "nbformat_minor": 2
}
