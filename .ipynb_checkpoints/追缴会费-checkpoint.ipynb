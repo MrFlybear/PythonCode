{
 "cells": [
  {
   "cell_type": "code",
   "execution_count": 15,
   "metadata": {},
   "outputs": [
    {
     "name": "stdout",
     "output_type": "stream",
     "text": [
      "sending email to alice@example.com...\n",
      "Subject: Jun 2014 dues unpaid.\n",
      "\n",
      "Dear Alice,Records show that you have not paid dues for Jun 2014. Please make this payment as soon as possible. Thank you!'\n",
      "sending email to bob@example.com...\n",
      "Subject: Jun 2014 dues unpaid.\n",
      "\n",
      "Dear Bob,Records show that you have not paid dues for Jun 2014. Please make this payment as soon as possible. Thank you!'\n",
      "sending email to eve@example.com...\n",
      "Subject: Jun 2014 dues unpaid.\n",
      "\n",
      "Dear Eve,Records show that you have not paid dues for Jun 2014. Please make this payment as soon as possible. Thank you!'\n"
     ]
    },
    {
     "data": {
      "text/plain": [
       "(221, b'Bye')"
      ]
     },
     "execution_count": 15,
     "metadata": {},
     "output_type": "execute_result"
    }
   ],
   "source": [
    "import openpyxl,smtplib,sys,os\n",
    "os.chdir(r'C:\\Users\\xxcmt\\Desktop\\文档\\automate_online-materials')\n",
    "wb=openpyxl.load_workbook('duesRecords.xlsx')\n",
    "sheet=wb['Sheet1']\n",
    "lastCol=sheet.max_column\n",
    "latestMonth=sheet.cell(row=1,column=lastCol).value\n",
    "unpaidMembers={}\n",
    "for r in range(2,sheet.max_row+1):\n",
    "    payment=sheet.cell(row=r,column=lastCol).value\n",
    "    if payment !='paid':\n",
    "        name=sheet.cell(row=r,column=1).value\n",
    "        email=sheet.cell(row=r,column=2).value\n",
    "        unpaidMembers[name]=email\n",
    "#开始发信\n",
    "smtpObj=smtplib.SMTP('smtp.qq.com',587)\n",
    "smtpObj.ehlo()\n",
    "smtpObj.starttls()\n",
    "#要开启SMTP获得授权码\n",
    "smtpObj.login('1036433209@qq.com','ztmgnjogoyjhbedh')\n",
    "for name,email in unpaidMembers.items():\n",
    "    #居然是空格不够，也是醉了\n",
    "    body=\"Subject: %s dues unpaid.\\n\\nDear %s,Records show that you have not paid dues for %s. Please make this payment as soon as possible. Thank you!'\" % (latestMonth, name, latestMonth)\n",
    "    print('sending email to %s...'%email)\n",
    "    print(body)\n",
    "    smtpObj.sendmail('1036433209@qq.com','18675883490@163.com',body)\n",
    "smtpObj.quit()\n",
    "\n",
    "\n"
   ]
  }
 ],
 "metadata": {
  "kernelspec": {
   "display_name": "Python 3",
   "language": "python",
   "name": "python3"
  },
  "language_info": {
   "codemirror_mode": {
    "name": "ipython",
    "version": 3
   },
   "file_extension": ".py",
   "mimetype": "text/x-python",
   "name": "python",
   "nbconvert_exporter": "python",
   "pygments_lexer": "ipython3",
   "version": "3.7.3"
  }
 },
 "nbformat": 4,
 "nbformat_minor": 2
}
