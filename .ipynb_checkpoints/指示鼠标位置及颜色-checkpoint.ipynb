{
 "cells": [
  {
   "cell_type": "code",
   "execution_count": null,
   "metadata": {},
   "outputs": [],
   "source": [
    "import pyautogui\n",
    "print('Press Ctrl-C to quit.')\n",
    "try:\n",
    "    while True:\n",
    "        x,y=pyautogui.position()\n",
    "        #rjust是在前str后面左边留空格，右对齐\n",
    "        positionStr='X:'+str(x).rjust(4)+'Y:'+str(y).rjust(4)\n",
    "        pixelColor=pyautogui.screenshot().getpixel((x,y))\n",
    "        #pixelColor是一个（x,y,z）\n",
    "        positionStr+=' RGB:('+str(pixelColor[0]).rjust(3)\n",
    "        positionStr+=','+str(pixelColor[1]).rjust(3)\n",
    "        positionStr+=','+str(pixelColor[2]).rjust(3)+')'\n",
    "        print(positionStr,end='')\n",
    "        print('\\b'*len(positionStr),end='',flush=True)\n",
    "except KeyboardInterrupt:\n",
    "    print('\\nDone')"
   ]
  }
 ],
 "metadata": {
  "kernelspec": {
   "display_name": "Python 3",
   "language": "python",
   "name": "python3"
  },
  "language_info": {
   "codemirror_mode": {
    "name": "ipython",
    "version": 3
   },
   "file_extension": ".py",
   "mimetype": "text/x-python",
   "name": "python",
   "nbconvert_exporter": "python",
   "pygments_lexer": "ipython3",
   "version": "3.7.3"
  }
 },
 "nbformat": 4,
 "nbformat_minor": 2
}
