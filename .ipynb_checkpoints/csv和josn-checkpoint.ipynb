{
 "cells": [
  {
   "cell_type": "code",
   "execution_count": null,
   "metadata": {},
   "outputs": [],
   "source": [
    "import csv,os\n",
    "os.chdir(r'C:\\Users\\xxcmt\\Desktop\\文档\\automate_online-materials')\n",
    "exampleFile=open('example.csv')\n",
    "exampleReader=csv.reader(exampleFile)\n",
    "#exampleData=list(exampleReader)\n",
    "#exampleData\n",
    "for row in exampleReader:\n",
    "    print('Row#'+str(exampleReader.line_num)+' '+str(row))"
   ]
  },
  {
   "cell_type": "code",
   "execution_count": null,
   "metadata": {},
   "outputs": [],
   "source": [
    "import csv,os\n",
    "os.chdir(r'C:\\Users\\xxcmt\\Desktop\\文档\\automate_online-materials')\n",
    "#outputFile=open('output.csv','w',newline='')\n",
    "outputFile=open('output2.csv','w')\n",
    "outputWriter=csv.writer(outputFile)\n",
    "outputWriter.writerow(['spam','eggs','bacon','ham'])\n",
    "outputWriter.writerow(['Hello,world!','eggs','bacon','ham'])\n",
    "outputWriter.writerow([1,2,3.141592,4])\n",
    "outputFile.close()"
   ]
  },
  {
   "cell_type": "code",
   "execution_count": 5,
   "metadata": {},
   "outputs": [],
   "source": [
    "import csv,os\n",
    "os.chdir(r'C:\\Users\\xxcmt\\Desktop\\文档\\automate_online-materials')\n",
    "csvFile=open('example2.csv','w',newline='')\n",
    "csvWriter=csv.writer(csvFile,delimiter='熊',lineterminator='\\r\\n\\r\\n\\r\\n')\n",
    "#在txt中空一行为\\r\\n\n",
    "csvWriter.writerow(['apples','oranges','grapes'])\n",
    "csvWriter.writerow(['eggs','bacon','ham'])\n",
    "csvWriter.writerow(['spam', 'spam', 'spam', 'spam', 'spam', 'spam'])\n",
    "csvFile.close()"
   ]
  },
  {
   "cell_type": "code",
   "execution_count": 12,
   "metadata": {
    "scrolled": true
   },
   "outputs": [
    {
     "name": "stdout",
     "output_type": "stream",
     "text": [
      "adding csv files from .\\example.csv\n",
      "adding csv files from .\\example1.csv\n",
      "adding csv files from .\\example2.csv\n",
      "adding csv files from .\\output.csv\n",
      "adding csv files from .\\output2.csv\n",
      "adding csv files from .\\headerRemoved\\example1_headless.csv\n",
      "adding csv files from .\\headerRemoved\\example2_headless.csv\n",
      "adding csv files from .\\headerRemoved\\example_headless.csv\n",
      "adding csv files from .\\headerRemoved\\output2_headless.csv\n",
      "adding csv files from .\\headerRemoved\\output_headless.csv\n",
      "adding csv files from .\\headerRemoved\\subfile\\example2_headless.csv\n",
      "adding csv files from .\\subfile\\example2.csv\n",
      "[[], ['eggs\\tbacon\\tham'], [], ['spam\\tspam\\tspam\\tspam\\tspam\\tspam'], []]\n",
      "example_headless.csv have created\n",
      "[['eggs熊bacon熊ham'], ['spam熊spam熊spam熊spam熊spam熊spam']]\n",
      "example1_headless.csv have created\n",
      "[[], [], ['eggs熊bacon熊ham'], [], [], ['spam熊spam熊spam熊spam熊spam熊spam'], [], []]\n",
      "example2_headless.csv have created\n",
      "[[], ['Hello,world!', 'eggs', 'bacon', 'ham'], [], ['1', '2', '3.141592', '4'], []]\n",
      "output_headless.csv have created\n",
      "[[], ['Hello,world!', 'eggs', 'bacon', 'ham'], [], ['1', '2', '3.141592', '4'], []]\n",
      "output2_headless.csv have created\n",
      "[['spam熊spam熊spam熊spam熊spam熊spam']]\n",
      "example1_headless_headless.csv have created\n",
      "[[], ['eggs熊bacon熊ham'], [], [], ['spam熊spam熊spam熊spam熊spam熊spam'], [], []]\n",
      "example2_headless_headless.csv have created\n",
      "[['eggs\\tbacon\\tham'], [], ['spam\\tspam\\tspam\\tspam\\tspam\\tspam'], []]\n",
      "example_headless_headless.csv have created\n",
      "[['Hello,world!', 'eggs', 'bacon', 'ham'], [], ['1', '2', '3.141592', '4'], []]\n",
      "output2_headless_headless.csv have created\n",
      "[['Hello,world!', 'eggs', 'bacon', 'ham'], [], ['1', '2', '3.141592', '4'], []]\n",
      "output_headless_headless.csv have created\n",
      "[[], ['eggs熊bacon熊ham'], [], [], ['spam熊spam熊spam熊spam熊spam熊spam'], [], []]\n",
      "example2_headless_headless.csv have created\n",
      "[[], [], ['eggs熊bacon熊ham'], [], [], ['spam熊spam熊spam熊spam熊spam熊spam'], [], []]\n",
      "example2_headless.csv have created\n"
     ]
    }
   ],
   "source": [
    "#去掉所有csv的第一行\n",
    "import csv,os\n",
    "os.chdir(r'C:\\Users\\xxcmt\\Desktop\\文档\\automate_online-materials')\n",
    "os.makedirs('headerRemoved',exist_ok=True)\n",
    "csvfiles=[]\n",
    "for foldername,subfolders,filenames in os.walk('.'):\n",
    "    for filename in filenames:\n",
    "        if filename.endswith('.csv')==True:\n",
    "            #获得绝对路径的一种方式\n",
    "            print('adding csv files from %s'%(os.path.join(foldername,filename)))\n",
    "            csvfiles.append(os.path.join(foldername,filename))\n",
    "for csvfile in csvfiles:\n",
    "    tempcsvRows=[]\n",
    "    csvFileObj=open(csvfile)\n",
    "    readerObj=csv.reader(csvFileObj)\n",
    "    for row in readerObj:\n",
    "        if readerObj.line_num==1:\n",
    "            continue\n",
    "        tempcsvRows.append(row)\n",
    "    csvFileObj.close()\n",
    "    #判断路径\n",
    "    if os.path.exists(os.path.join('headerRemoved',os.path.dirname(csvfile)))==False:\n",
    "        os.makedirs(os.path.join('headerRemoved',os.path.dirname(csvfile)),exist_ok=True)\n",
    "    csvFileObj=open(os.path.join('headerRemoved',csvfile[:-4]+'_headless.csv'),'w',newline='')\n",
    "    csvWriter=csv.writer(csvFileObj)\n",
    "    print(tempcsvRows)\n",
    "    for row in tempcsvRows:\n",
    "        csvWriter.writerow(row)\n",
    "    csvFileObj.close()\n",
    "    print('%s have created'%(os.path.basename(csvfile)[:-4]+'_headless.csv'))\n",
    "    "
   ]
  }
 ],
 "metadata": {
  "kernelspec": {
   "display_name": "Python 3",
   "language": "python",
   "name": "python3"
  },
  "language_info": {
   "codemirror_mode": {
    "name": "ipython",
    "version": 3
   },
   "file_extension": ".py",
   "mimetype": "text/x-python",
   "name": "python",
   "nbconvert_exporter": "python",
   "pygments_lexer": "ipython3",
   "version": "3.7.3"
  }
 },
 "nbformat": 4,
 "nbformat_minor": 2
}
