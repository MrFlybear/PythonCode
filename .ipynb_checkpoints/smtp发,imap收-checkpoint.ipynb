{
 "cells": [
  {
   "cell_type": "code",
   "execution_count": null,
   "metadata": {},
   "outputs": [],
   "source": [
    "import smtplib\n",
    "smtpObj=smtplib.SMTP('smtp.qq.com',587)\n",
    "smtpObj.ehlo()\n",
    "smtpObj.starttls()\n",
    "#要开启SMTP获得授权码\n",
    "smtpObj.login('1036433209@qq.com','ztmgnjogoyjhbedh')\n",
    "smtpObj.sendmail('1036433209@qq.com','1754690142@qq.com','Subject:test.\\ntesttesttest')\n",
    "smtpObj.quit()\n"
   ]
  },
  {
   "cell_type": "code",
   "execution_count": 22,
   "metadata": {},
   "outputs": [
    {
     "name": "stdout",
     "output_type": "stream",
     "text": [
      "[((b'\\\\NoSelect', b'\\\\HasChildren'), b'/', '其他文件夹'),\n",
      " ((b'\\\\HasNoChildren',), b'/', 'INBOX'),\n",
      " ((b'\\\\HasNoChildren',), b'/', 'Sent Messages'),\n",
      " ((b'\\\\HasNoChildren',), b'/', 'Drafts'),\n",
      " ((b'\\\\HasNoChildren',), b'/', 'Deleted Messages'),\n",
      " ((b'\\\\HasNoChildren',), b'/', 'Junk'),\n",
      " ((b'\\\\HasNoChildren',), b'/', '其他文件夹/xiong'),\n",
      " ((b'\\\\HasNoChildren',), b'/', '其他文件夹/QQ邮件订阅'),\n",
      " ((b'\\\\HasNoChildren',), b'/', '其他文件夹/xiang')]\n",
      "[2, 3, 4, 5, 6, 7, 8, 9, 10, 11]\n",
      "defaultdict(<class 'dict'>,\n",
      "            {9: {b'BODY[]': b'From: \"=?gb18030?B?0NzP6A==?=\" <1036433209@qq.co'\n",
      "                            b'm>\\r\\nTo: \"=?gb18030?B?Y210NTIwMTMxNA==?=\" <cm'\n",
      "                            b't5201314@qq.com>\\r\\nSubject: cmt5201314cmt5201'\n",
      "                            b'314\\r\\nMime-Version: 1.0\\r\\nContent-Type: multip'\n",
      "                            b'art/alternative;\\r\\n\\tboundary=\"----=_NextPart_'\n",
      "                            b'5CC2E3E1_0AA46D28_5B703F0F\"\\r\\nContent-Transfe'\n",
      "                            b'r-Encoding: 8Bit\\r\\nDate: Fri, 26 Apr 2019 18:'\n",
      "                            b'56:33 +0800\\r\\nX-Priority: 3\\r\\nMessage-ID: <ten'\n",
      "                            b'cent_DC1900621BE05384F0C4D22A1B22C8331706@qq.com'\n",
      "                            b'>\\r\\nX-QQ-MIME: TCMime 1.0 by Tencent\\r\\nX-Maile'\n",
      "                            b'r: QQMail 2.x\\r\\nX-QQ-Mailer: QQMail 2.x\\r\\n'\n",
      "                            b'\\r\\nThis is a multi-part message in MIME forma'\n",
      "                            b't.\\r\\n\\r\\n------=_NextPart_5CC2E3E1_0AA46D28_5B7'\n",
      "                            b'03F0F\\r\\nContent-Type: text/plain;\\r\\n\\tcharset=\"'\n",
      "                            b'gb18030\"\\r\\nContent-Transfer-Encoding: base64\\r'\n",
      "                            b'\\n\\r\\n\\r\\n\\r\\n------=_NextPart_5CC2E3E1_0AA46D2'\n",
      "                            b'8_5B703F0F\\r\\nContent-Type: text/html;\\r\\n\\tchars'\n",
      "                            b'et=\"gb18030\"\\r\\nContent-Transfer-Encoding: bas'\n",
      "                            b'e64\\r\\n\\r\\nPGJyPg==\\r\\n\\r\\n------=_NextPart_5CC2'\n",
      "                            b'E3E1_0AA46D28_5B703F0F--\\r\\n\\r\\n',\n",
      "                 b'SEQ': 8}})\n",
      "cmt5201314cmt5201314\n"
     ]
    },
    {
     "data": {
      "text/plain": [
       "b'LOGOUT received'"
      ]
     },
     "execution_count": 22,
     "metadata": {},
     "output_type": "execute_result"
    }
   ],
   "source": [
    "import imapclient,pprint\n",
    "imapObj=imapclient.IMAPClient('imap.qq.com',ssl=True)\n",
    "imapObj.login('1036433209@qq.com','zgckbsunfdgwbddh')\n",
    "#显示有什么文件夹\n",
    "pprint.pprint(imapObj.list_folders())\n",
    "imapObj.select_folder('Drafts',readonly=True)\n",
    "#len(imapObj.search(['ALL']))\n",
    "#应该是协议问题反正不行，显示邮件uid\n",
    "pprint.pprint(imapObj.search(['SINCE 01-May-2019']))\n",
    "rawMessages=imapObj.fetch(9,['BODY[]'])\n",
    "import pprint\n",
    "#查看邮件字典关键字\n",
    "pprint.pprint(rawMessages)\n",
    "import pyzmail\n",
    "message=pyzmail.PyzMessage.factory(rawMessages[9][b'BODY[]'])\n",
    "#获得邮件主题\n",
    "print(message.get_subject())\n",
    "message.text_part!=None\n",
    "#获得邮件纯文本\n",
    "message.text_part.get_payload().decode(message.text_part.charset)\n",
    "#message.html_part!=None\n",
    "#message.html_part.get_payload().decode(message.html_part.charset)\n",
    "#删除邮件\n",
    "imapObj.delete_messages(1)\n",
    "imapObj.expunge()\n",
    "#退出\n",
    "imapObj.logout()"
   ]
  },
  {
   "cell_type": "code",
   "execution_count": null,
   "metadata": {},
   "outputs": [],
   "source": [
    "'''\n",
    "\n",
    "'''"
   ]
  }
 ],
 "metadata": {
  "kernelspec": {
   "display_name": "Python 3",
   "language": "python",
   "name": "python3"
  },
  "language_info": {
   "codemirror_mode": {
    "name": "ipython",
    "version": 3
   },
   "file_extension": ".py",
   "mimetype": "text/x-python",
   "name": "python",
   "nbconvert_exporter": "python",
   "pygments_lexer": "ipython3",
   "version": "3.7.3"
  }
 },
 "nbformat": 4,
 "nbformat_minor": 2
}
