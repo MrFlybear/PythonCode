{
 "cells": [
  {
   "cell_type": "code",
   "execution_count": null,
   "metadata": {},
   "outputs": [],
   "source": [
    "\n",
    "'''stringOfJsonData='{\"name\":\"Zophie\",\"isCat\":true,\"miceCaught\":0,\"felineIQ\":null}'\n",
    "import json\n",
    "jsonDataAsPythonValue=json.loads(stringOfJsonData)\n",
    "jsonDataAsPythonValue'''\n",
    "pythonValue={'isCat':True,'miceCaught':0,'name':'Zophie','felineIQ':None}\n",
    "import json\n",
    "stringOfJosnData=json.dumps(pythonValue)\n",
    "stringOfJsonData"
   ]
  },
  {
   "cell_type": "code",
   "execution_count": null,
   "metadata": {},
   "outputs": [],
   "source": [
    "import json,request,sys\n",
    "if len(sys.argv)<2:\n",
    "    print('Usage:quickWeather.py location')\n",
    "    sys.exit()\n",
    "location=''.join(sys.argv[1:])\n"
   ]
  },
  {
   "cell_type": "code",
   "execution_count": null,
   "metadata": {},
   "outputs": [],
   "source": [
    "import requests,json,pprint\n",
    "url='http://wthrcdn.etouch.cn/weather_mini?citykey=101280101'\n",
    "response=requests.get(url)\n",
    "response.raise_for_status()\n",
    "#load json as a python data\n",
    "jsonWeatherData=json.loads(response.text)\n",
    "pprint.pprint(jsonWeatherData)\n",
    "w=jsonWeatherData['data']\n",
    "print('city is %s'%(w['city']))\n",
    "for i in w['forecast']:\n",
    "    print(i['date'],i['high'],i['low'],i['type'])\n",
    "#print(w['forecast'][0]['date'])\n",
    "#print(w['forecast'][0]['high'])\n",
    "#print(w['forecast'][0]['low'])\n",
    "#print(w['forecast'][0]['type'])\n"
   ]
  },
  {
   "cell_type": "code",
   "execution_count": 1,
   "metadata": {},
   "outputs": [
    {
     "name": "stdout",
     "output_type": "stream",
     "text": [
      "load censuspopdata.xlsx...\n"
     ]
    },
    {
     "ename": "KeyError",
     "evalue": "'Worksheet <Worksheet \"Population by Census Tract\"> does not exist.'",
     "output_type": "error",
     "traceback": [
      "\u001b[1;31m---------------------------------------------------------------------------\u001b[0m",
      "\u001b[1;31mKeyError\u001b[0m                                  Traceback (most recent call last)",
      "\u001b[1;32m<ipython-input-1-0ac500d05323>\u001b[0m in \u001b[0;36m<module>\u001b[1;34m\u001b[0m\n\u001b[0;32m      8\u001b[0m     \u001b[0mwb\u001b[0m\u001b[1;33m=\u001b[0m\u001b[0mopenpyxl\u001b[0m\u001b[1;33m.\u001b[0m\u001b[0mload_workbook\u001b[0m\u001b[1;33m(\u001b[0m\u001b[0mexcelFile\u001b[0m\u001b[1;33m)\u001b[0m\u001b[1;33m\u001b[0m\u001b[1;33m\u001b[0m\u001b[0m\n\u001b[0;32m      9\u001b[0m     \u001b[1;32mfor\u001b[0m \u001b[0msheetName\u001b[0m \u001b[1;32min\u001b[0m \u001b[0mwb\u001b[0m\u001b[1;33m:\u001b[0m\u001b[1;33m\u001b[0m\u001b[1;33m\u001b[0m\u001b[0m\n\u001b[1;32m---> 10\u001b[1;33m         \u001b[0msheet\u001b[0m\u001b[1;33m=\u001b[0m\u001b[0mwb\u001b[0m\u001b[1;33m[\u001b[0m\u001b[0msheetName\u001b[0m\u001b[1;33m]\u001b[0m\u001b[1;33m\u001b[0m\u001b[1;33m\u001b[0m\u001b[0m\n\u001b[0m\u001b[0;32m     11\u001b[0m         \u001b[0mcsvFilename\u001b[0m\u001b[1;33m=\u001b[0m\u001b[0mexcelFile\u001b[0m\u001b[1;33m[\u001b[0m\u001b[1;33m:\u001b[0m\u001b[1;33m-\u001b[0m\u001b[1;36m4\u001b[0m\u001b[1;33m]\u001b[0m\u001b[1;33m+\u001b[0m\u001b[1;34m'_'\u001b[0m\u001b[1;33m+\u001b[0m\u001b[0msheetName\u001b[0m\u001b[1;33m+\u001b[0m\u001b[1;34m'.csv'\u001b[0m\u001b[1;33m\u001b[0m\u001b[1;33m\u001b[0m\u001b[0m\n\u001b[0;32m     12\u001b[0m         \u001b[0mcsvObjFile\u001b[0m\u001b[1;33m=\u001b[0m\u001b[0mopen\u001b[0m\u001b[1;33m(\u001b[0m\u001b[0mos\u001b[0m\u001b[1;33m.\u001b[0m\u001b[0mpath\u001b[0m\u001b[1;33m.\u001b[0m\u001b[0mjoin\u001b[0m\u001b[1;33m(\u001b[0m\u001b[1;34m'excel2csv'\u001b[0m\u001b[1;33m,\u001b[0m\u001b[0mcsvFilename\u001b[0m\u001b[1;33m)\u001b[0m\u001b[1;33m,\u001b[0m\u001b[1;34m'w'\u001b[0m\u001b[1;33m,\u001b[0m\u001b[0mnewline\u001b[0m\u001b[1;33m=\u001b[0m\u001b[1;34m''\u001b[0m\u001b[1;33m)\u001b[0m\u001b[1;33m\u001b[0m\u001b[1;33m\u001b[0m\u001b[0m\n",
      "\u001b[1;32m~\\Anaconda3\\lib\\site-packages\\openpyxl\\workbook\\workbook.py\u001b[0m in \u001b[0;36m__getitem__\u001b[1;34m(self, key)\u001b[0m\n\u001b[0;32m    275\u001b[0m             \u001b[1;32mif\u001b[0m \u001b[0msheet\u001b[0m\u001b[1;33m.\u001b[0m\u001b[0mtitle\u001b[0m \u001b[1;33m==\u001b[0m \u001b[0mkey\u001b[0m\u001b[1;33m:\u001b[0m\u001b[1;33m\u001b[0m\u001b[1;33m\u001b[0m\u001b[0m\n\u001b[0;32m    276\u001b[0m                 \u001b[1;32mreturn\u001b[0m \u001b[0msheet\u001b[0m\u001b[1;33m\u001b[0m\u001b[1;33m\u001b[0m\u001b[0m\n\u001b[1;32m--> 277\u001b[1;33m         \u001b[1;32mraise\u001b[0m \u001b[0mKeyError\u001b[0m\u001b[1;33m(\u001b[0m\u001b[1;34m\"Worksheet {0} does not exist.\"\u001b[0m\u001b[1;33m.\u001b[0m\u001b[0mformat\u001b[0m\u001b[1;33m(\u001b[0m\u001b[0mkey\u001b[0m\u001b[1;33m)\u001b[0m\u001b[1;33m)\u001b[0m\u001b[1;33m\u001b[0m\u001b[1;33m\u001b[0m\u001b[0m\n\u001b[0m\u001b[0;32m    278\u001b[0m \u001b[1;33m\u001b[0m\u001b[0m\n\u001b[0;32m    279\u001b[0m     \u001b[1;32mdef\u001b[0m \u001b[0m__delitem__\u001b[0m\u001b[1;33m(\u001b[0m\u001b[0mself\u001b[0m\u001b[1;33m,\u001b[0m \u001b[0mkey\u001b[0m\u001b[1;33m)\u001b[0m\u001b[1;33m:\u001b[0m\u001b[1;33m\u001b[0m\u001b[1;33m\u001b[0m\u001b[0m\n",
      "\u001b[1;31mKeyError\u001b[0m: 'Worksheet <Worksheet \"Population by Census Tract\"> does not exist.'"
     ]
    }
   ],
   "source": [
    "import os,openpyxl,csv\n",
    "os.chdir(r'C:\\Users\\xxcmt\\Desktop\\文档\\automate_online-materials')\n",
    "os.makedirs(r'C:\\Users\\xxcmt\\Desktop\\文档\\automate_online-materials\\excel2csv',exist_ok=True)\n",
    "for excelFile in os.listdir('.'):\n",
    "    if excelFile.endswith('xlsx') is not True:\n",
    "        continue\n",
    "    print('load %s...'%(excelFile))\n",
    "    wb=openpyxl.load_workbook(excelFile)\n",
    "    for sheetName in wb:\n",
    "        sheet=wb[sheetName]\n",
    "        csvFilename=excelFile[:-4]+'_'+sheetName+'.csv'\n",
    "        csvObjFile=open(os.path.join('excel2csv',csvFilename),'w',newline='')\n",
    "        csvWriter=csv.writer(csvObjFile)\n",
    "        for rowNum in range(1,sheet.max_row+1):\n",
    "            rowData=[]\n",
    "            for colNum in range(1,sheet.max_col+1):\n",
    "                rowData.append(sheet.cell(row=rowNum,col=colNum).value)\n",
    "            csvWriter.writerow(rowData)\n",
    "        print('transforming the %s to %s in excel2csv folder'%(excelFile,csvFilename))\n",
    "        csvObjFile.close()\n",
    "    wb.close()\n",
    "        "
   ]
  }
 ],
 "metadata": {
  "kernelspec": {
   "display_name": "Python 3",
   "language": "python",
   "name": "python3"
  },
  "language_info": {
   "codemirror_mode": {
    "name": "ipython",
    "version": 3
   },
   "file_extension": ".py",
   "mimetype": "text/x-python",
   "name": "python",
   "nbconvert_exporter": "python",
   "pygments_lexer": "ipython3",
   "version": "3.7.3"
  }
 },
 "nbformat": 4,
 "nbformat_minor": 2
}
