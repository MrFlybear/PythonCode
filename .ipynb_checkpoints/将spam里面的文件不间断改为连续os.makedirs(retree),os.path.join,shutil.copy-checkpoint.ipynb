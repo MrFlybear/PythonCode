{
 "cells": [
  {
   "cell_type": "code",
   "execution_count": null,
   "metadata": {
    "collapsed": true
   },
   "outputs": [],
   "source": [
    "import os,shutil\n",
    "#进入当前文件夹路径来吧有更改\n",
    "filepath=input('输入spam所在的文件夹路径：')\n",
    "os.chdir(filepath)\n",
    "#将spamxxx放进一个list中,放一个删除一个\n",
    "#print(os.listdir())\n",
    "emlist=[]\n",
    "halist=[]\n",
    "orglist=os.listdir()\n",
    "#筛选出所以以spam开头的文件\n",
    "for i in orglist:\n",
    "    if i.startswith('spam')==False:\n",
    "        orglist.remove(i)\n",
    "i=1\n",
    "while len(orglist)>0:\n",
    "    begwd='spam'+str(i).zfill(3)\n",
    "#flag为判断标签，全部不匹配才能确定不在序列中\n",
    "    flag=False\n",
    "    for file in orglist:\n",
    "        flag=flag|file.startswith(begwd)\n",
    "        if file.startswith(begwd):\n",
    "            #按顺序放入list中，索引便能指示出区别\n",
    "            halist.append(file)\n",
    "            #找到就删除提高算法效率\n",
    "            orglist.remove(file)\n",
    "            break\n",
    "#此步应该还可以优化我写不出来了\n",
    "    if flag==False:\n",
    "        emlist.append(begwd)        \n",
    "    i=i+1\n",
    "print(halist)\n",
    "#下一步修改halist里面的名字从001开始计算,并在当前文件的子目录中生成一个done的文件夹来寄放\n",
    "copyfilepath=os.path.join(filepath,'done')\n",
    "if os.path.exists(copyfilepath):\n",
    "    shutil.rmtree(copyfilepath)\n",
    "os.makedirs(copyfilepath)\n",
    "for i in halist:\n",
    "    shouldfilename='spam'+str(halist.index(i)+1).zfill(3)+i[7:]\n",
    "    if shouldfilename!=i:\n",
    "        copyfile=os.path.join(copyfilepath,shouldfilename)\n",
    "        shutil.copy(i,copyfile)\n",
    "    else:\n",
    "        copyfile=os.path.join(copyfilepath,i)\n",
    "        shutil.copy(i,copyfile)\n",
    "print(emlist)\n",
    "\n",
    "        \n",
    "\n",
    "        "
   ]
  }
 ],
 "metadata": {
  "kernelspec": {
   "display_name": "Python 3",
   "language": "python",
   "name": "python3"
  },
  "language_info": {
   "codemirror_mode": {
    "name": "ipython",
    "version": 3
   },
   "file_extension": ".py",
   "mimetype": "text/x-python",
   "name": "python",
   "nbconvert_exporter": "python",
   "pygments_lexer": "ipython3",
   "version": "3.6.3"
  }
 },
 "nbformat": 4,
 "nbformat_minor": 2
}
