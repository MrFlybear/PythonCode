{
 "cells": [
  {
   "cell_type": "code",
   "execution_count": 16,
   "metadata": {
    "scrolled": true
   },
   "outputs": [
    {
     "ename": "SyntaxError",
     "evalue": "EOL while scanning string literal (<ipython-input-16-cac96dd3e975>, line 43)",
     "output_type": "error",
     "traceback": [
      "\u001b[1;36m  File \u001b[1;32m\"<ipython-input-16-cac96dd3e975>\"\u001b[1;36m, line \u001b[1;32m43\u001b[0m\n\u001b[1;33m    teacher_raw='r/''+(.*)'+teacher+'(.*)'+'/''\u001b[0m\n\u001b[1;37m                                               ^\u001b[0m\n\u001b[1;31mSyntaxError\u001b[0m\u001b[1;31m:\u001b[0m EOL while scanning string literal\n"
     ]
    }
   ],
   "source": [
    "#原因使用谷歌得设置全局代理而不是pac\n",
    "#遇到requests.exceptions.SSLError: (“bad handshake: SysCallError(-1, ‘Unexpected EOF’)”,)\n",
    "import sys,webbrowser,bs4,re\n",
    "import requests\n",
    "from requests.adapters import HTTPAdapter\n",
    "from requests.packages.urllib3.util.ssl_ import create_urllib3_context\n",
    "\n",
    "# This is the 2.11 Requests cipher string, containing 3DES.\n",
    "CIPHERS = (\n",
    "    'ECDH+AESGCM:DH+AESGCM:ECDH+AES256:DH+AES256:ECDH+AES128:DH+AES:ECDH+HIGH:'\n",
    "    'DH+HIGH:ECDH+3DES:DH+3DES:RSA+AESGCM:RSA+AES:RSA+HIGH:RSA+3DES:!aNULL:'\n",
    "    '!eNULL:!MD5'\n",
    ")\n",
    "\n",
    "\n",
    "class DESAdapter(HTTPAdapter):\n",
    "    \"\"\"\n",
    "    A TransportAdapter that re-enables 3DES support in Requests.\n",
    "    \"\"\"\n",
    "    def init_poolmanager(self, *args, **kwargs):\n",
    "        context = create_urllib3_context(ciphers=CIPHERS)\n",
    "        kwargs['ssl_context'] = context\n",
    "        return super(DESAdapter, self).init_poolmanager(*args, **kwargs)\n",
    "\n",
    "    def proxy_manager_for(self, *args, **kwargs):\n",
    "        context = create_urllib3_context(ciphers=CIPHERS)\n",
    "        kwargs['ssl_context'] = context\n",
    "        return super(DESAdapter, self).proxy_manager_for(*args, **kwargs)\n",
    "\n",
    "s = requests.Session()\n",
    "s.mount('https://some-3des-only-host.com', DESAdapter())\n",
    "#r = s.get('https://some-3des-only-host.com/some-path')\n",
    "#的解决办法\n",
    "print('Googling...')\n",
    "if len(sys.argv)>1:\n",
    "    teacher=''.join(sys.argv[1:])\n",
    "res=s.get('https://www.pornhub.com/video/search?search='+teacher)\n",
    "res.raise_for_status()\n",
    "soup=bs4.BeautifulSoup(res.text,features=\"lxml\")\n",
    "linkElems=soup.select('.videoPreviewBg a')\n",
    "print(len(linkElems))\n",
    "#找含有关键字的正则表达式\n",
    "teacher_raw='r\\''+'(.*)'+(teacher[0])+'(.*)'+'\\''\n",
    "#print(teacher_raw)\n",
    "cangregex=re.compile(teacher)\n",
    "wumaregex=re.compile(r'(.*)无码(.*)')\n",
    "for i in linkElems:\n",
    "    title=i.get('title')\n",
    "    cang=cangregex.search(title)\n",
    "#    wuma=wumaregex.search(title)\n",
    "    if cang!=None:\n",
    "        print(title)\n",
    "        print('https://www.pornhub.com'+i.get('href'))\n",
    "'''if '苍' in title:\n",
    "        print(title)\n",
    "        url=i.get('href')\n",
    "        print('https://www.pornhub.com'+url)\n",
    "'''\n",
    "\n",
    "    \n",
    "#numOpen=min(5,len(linkElems))\n",
    "#for i in range(numOpen):\n",
    "#    print(linkElems[i].get('href'))\n",
    "#print('https://www.pornhub.com'+linkElems[0].get('href'))\n",
    "#webbrowser.open('https://www.pornhub.com'+linkElems[0].get('href'))\n",
    "\n"
   ]
  }
 ],
 "metadata": {
  "kernelspec": {
   "display_name": "Python 3",
   "language": "python",
   "name": "python3"
  },
  "language_info": {
   "codemirror_mode": {
    "name": "ipython",
    "version": 3
   },
   "file_extension": ".py",
   "mimetype": "text/x-python",
   "name": "python",
   "nbconvert_exporter": "python",
   "pygments_lexer": "ipython3",
   "version": "3.7.3"
  }
 },
 "nbformat": 4,
 "nbformat_minor": 2
}
