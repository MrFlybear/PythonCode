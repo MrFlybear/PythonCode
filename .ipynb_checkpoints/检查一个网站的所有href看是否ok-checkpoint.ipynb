{
 "cells": [
  {
   "cell_type": "code",
   "execution_count": 26,
   "metadata": {},
   "outputs": [
    {
     "name": "stdout",
     "output_type": "stream",
     "text": [
      "16\n",
      "done\n"
     ]
    }
   ],
   "source": [
    "import requests,bs4\n",
    "res=requests.get('https://play2048.co/')\n",
    "gameSoup=bs4.BeautifulSoup(res.text,'lxml')\n",
    "a_Elems=gameSoup.select('a')\n",
    "url=[]\n",
    "for i in a_Elems:\n",
    "    if i.get('href')!=None:\n",
    "        if i.get('href').startswith('http'):\n",
    "            url.append(i.get('href'))\n",
    "        elif i.get('href').startswith('.'):\n",
    "            url.append('https://play2048.co'+i.get('href')[1:])\n",
    "linktest=open(r'C:\\Users\\xxcmt\\Desktop\\文档\\linktest.txt','w')\n",
    "for i in url:\n",
    "    check_url=requests.get(i)\n",
    "    if check_url.status_code==404:\n",
    "        linktest.write('Dead link %s\\n\\n'%i)\n",
    "    else:\n",
    "        linktest.write('link is ok %s\\n\\n'%i)\n",
    "linktest.close()\n",
    "print('done')        \n",
    "    "
   ]
  }
 ],
 "metadata": {
  "kernelspec": {
   "display_name": "Python 3",
   "language": "python",
   "name": "python3"
  },
  "language_info": {
   "codemirror_mode": {
    "name": "ipython",
    "version": 3
   },
   "file_extension": ".py",
   "mimetype": "text/x-python",
   "name": "python",
   "nbconvert_exporter": "python",
   "pygments_lexer": "ipython3",
   "version": "3.7.3"
  }
 },
 "nbformat": 4,
 "nbformat_minor": 2
}
