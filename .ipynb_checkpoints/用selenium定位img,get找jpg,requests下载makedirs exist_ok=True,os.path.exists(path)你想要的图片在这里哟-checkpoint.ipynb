{
 "cells": [
  {
   "cell_type": "code",
   "execution_count": null,
   "metadata": {},
   "outputs": [],
   "source": [
    "from selenium import webdriver\n",
    "browser = webdriver.Firefox()\n",
    "browser.get('http://inventwithpython.com')\n",
    "try:\n",
    "    elem=browser.find_element_by_class_name('cover-thumb')\n",
    "    print('Found <%s> element with that name!'%(elem.tag_name))\n",
    "except:\n",
    "    print('Was not able to find an element with that name.')"
   ]
  },
  {
   "cell_type": "code",
   "execution_count": 1,
   "metadata": {},
   "outputs": [
    {
     "name": "stdout",
     "output_type": "stream",
     "text": [
      "downing 1 jpg the basename is (m=ecuKGgaaaa)(mh=mo-I1CGsMgErAw5q)16.jpg\n",
      "downing 2 jpg the basename is (m=ecuKGgaaaa)(mh=42bcSrx7ISCFicZs)14.jpg\n",
      "downing 3 jpg the basename is (m=ecuKGgaaaa)(mh=wLZLtZN7aprMv1aG)12.jpg\n",
      "downing 4 jpg the basename is (m=ecuKGgaaaa)(mh=oAuJAJoa-AbeLQjg)6.jpg\n",
      "downing 5 jpg the basename is (m=ecuKGgaaaa)(mh=mo-I1CGsMgErAw5q)16.jpg\n",
      "downing 6 jpg the basename is (m=ecuKGgaaaa)(mh=mF9xx66htyLATHwc)14.jpg\n",
      "downing 7 jpg the basename is (m=ecuKGgaaaa)(mh=eDn09ZDS1UnlA0lc)7.jpg\n",
      "downing 8 jpg the basename is (m=ecuKGgaaaa)(mh=42bcSrx7ISCFicZs)14.jpg\n",
      "downing 9 jpg the basename is (m=ecuKGgaaaa)(mh=aSn4PVnCjOlBqcly)11.jpg\n",
      "downing 10 jpg the basename is (m=q0Z-LRUbecuKGgaaaa)(mh=EyNnzTDRiKniwHj9)0.jpg\n",
      "downing 11 jpg the basename is (m=ecuKGgaaaa)(mh=D0Tu4c8XolA1VyKi)15.jpg\n",
      "downing 12 jpg the basename is (m=ecuKGgaaaa)(mh=j9J_JwVgYf2Vk07G)6.jpg\n",
      "downing 13 jpg the basename is (m=ecuKGgaaaa)(mh=u8vdnh-o84-FhPJ1)8.jpg\n",
      "downing 14 jpg the basename is (m=ecuKGgaaaa)(mh=BbwRk0VeQ3eyw_01)16.jpg\n",
      "downing 15 jpg the basename is (m=q43J_RUbecuKGgaaaa)(mh=SCy-eFZv6lBjgy2Q)0.jpg\n",
      "downing 16 jpg the basename is (m=q36L8QUbecuKGgaaaa)(mh=viGyvrg4OCHdDimf)0.jpg\n",
      "downing 17 jpg the basename is (m=ecuKGgaaaa)(mh=F5xtwph6zxBZ5AyM)11.jpg\n",
      "downing 18 jpg the basename is (m=ecuKGgaaaa)(mh=GMoPWSThYY_UZxaf)10.jpg\n",
      "downing 19 jpg the basename is (m=qQT6URUbecuKGgaaaa)(mh=z1zaAY3hX4ya3TLo)0.jpg\n",
      "downing 20 jpg the basename is (m=ecuKGgaaaa)(mh=GXIpoC_4ITieRzRZ)16.jpg\n",
      "downing 21 jpg the basename is (m=ecuKGgaaaa)(mh=psQbS2uwzVv4Ki26)12.jpg\n",
      "downing 22 jpg the basename is (m=qS1HZOUbecuKGgaaaa)(mh=jVMYer_ZtE7z8iHS)0.jpg\n",
      "downing 23 jpg the basename is (m=ecuKGgaaaa)(mh=azFhuF-1J2mccM7r)9.jpg\n",
      "downing 24 jpg the basename is (m=ecuKGgaaaa)(mh=J66-HUyQCxPqeRNi)15.jpg\n",
      "downing 25 jpg the basename is (m=ecuKGgaaaa)(mh=FmzIOFLW81KX58l2)6.jpg\n",
      "downing 26 jpg the basename is (m=ecuKGgaaaa)(mh=2ycjssuDJDxG8UWG)10.jpg\n",
      "downing 27 jpg the basename is (m=ecuKGgaaaa)(mh=hetTEwB29b8l6Y2e)10.jpg\n",
      "downing 28 jpg the basename is (m=ecuKGgaaaa)(mh=0brf6t_t4V24GbyL)1.jpg\n",
      "downing 29 jpg the basename is (m=ecuKGgaaaa)(mh=ZiTSZStnwArGy2iE)7.jpg\n",
      "downing 30 jpg the basename is (m=ecuKGgaaaa)(mh=goR0ujiU5gE4A6lM)5.jpg\n",
      "downing 31 jpg the basename is (m=q5WM9NUbecuKGgaaaa)(mh=rcJ8VT4gY_DIA46W)0.jpg\n",
      "downing 32 jpg the basename is (m=ecuKGgaaaa)(mh=F619_ssgfKjKjISh)12.jpg\n",
      "downing 33 jpg the basename is (m=ecuKGgaaaa)(mh=Vj01ra_cMRkGAits)14.jpg\n",
      "downing 34 jpg the basename is (m=ecuKGgaaaa)(mh=a8-PaLFRB7gvMlUX)15.jpg\n",
      "downing 35 jpg the basename is (m=ecuKGgaaaa)(mh=-s4Blhk6Qy2HnfmO)6.jpg\n",
      "downing 36 jpg the basename is (m=ecuKGgaaaa)(mh=ePsv6h8eucagwiv8)14.jpg\n",
      "downing 37 jpg the basename is (m=ecuKGgaaaa)(mh=gyFNM0wNp2Z3Xsxr)12.jpg\n",
      "downing 38 jpg the basename is (m=ecuKGgaaaa)(mh=mmU5ttKZBDTp7942)16.jpg\n",
      "downing 39 jpg the basename is (m=q_Z_6MUbecuKGgaaaa)(mh=7Ln2WNTvEmKhfl6U)0.jpg\n",
      "downing 40 jpg the basename is (m=ecuKGgaaaa)(mh=sJAnDwiH-F5Tf6Fc)4.jpg\n",
      "downing 41 jpg the basename is (m=ecuKGgaaaa)(mh=1vsF_oCwAQk4AgAc)6.jpg\n",
      "downing 42 jpg the basename is (m=qPIX4NUbecuKGgaaaa)(mh=GxzI4fMIEn53eAHz)0.jpg\n",
      "downing 43 jpg the basename is (m=ecuKGgaaaa)(mh=c79Kq-I2SAMlmqUz)5.jpg\n",
      "downing 44 jpg the basename is (m=ecuKGgaaaa)(mh=nkhLzMWDQJvKXP--)9.jpg\n",
      "downing 45 jpg the basename is (m=ecuKGgaaaa)(mh=K5jKVdEOvnO21UAQ)4.jpg\n",
      "downing 46 jpg the basename is (m=q1X1URUbecuKGgaaaa)(mh=63BO9SG_-tit0LwQ)0.jpg\n",
      "downing 47 jpg the basename is (m=ecuKGgaaaa)(mh=TyO3Ju13Iukhj4zv)2.jpg\n",
      "downing 48 jpg the basename is (m=q3ILHSUbecuKGgaaaa)(mh=E9FImVGH7dh9OSEs)0.jpg\n",
      "downing 49 jpg the basename is (m=ecuKGgaaaa)(mh=2VkkxjjX5ygj-Ps_)15.jpg\n",
      "downing 50 jpg the basename is (m=ecuKGgaaaa)(mh=vZyi2LyiDmuU2hPZ)12.jpg\n",
      "downing 51 jpg the basename is (m=q1JR5QUbecuKGgaaaa)(mh=_I34TbfO5rhyEY6z)0.jpg\n",
      "downing 52 jpg the basename is (m=ecuKGgaaaa)(mh=gh-izXz52lwxWcl1)10.jpg\n"
     ]
    }
   ],
   "source": [
    "from selenium import webdriver\n",
    "import os,requests\n",
    "browser = webdriver.Firefox()\n",
    "browser.get('http://www.pronhub.com')\n",
    "imgElems=browser.find_elements_by_class_name('js-videoPreview')\n",
    "pic_url=[]\n",
    "for i in range(len(imgElems)):\n",
    "    if imgElems[i].get_attribute('src').endswith('.jpg'):\n",
    "        pic_url.append(imgElems[i].get_attribute('src'))\n",
    "    elif imgElems[i].get_attribute('data-image')!=None and imgElems[i].get_attribute('data-image').endswith('.jpg'):\n",
    "        pic_url.append(imgElems[i].get_attribute('data-image'))\n",
    "    else:\n",
    "        pass\n",
    "os.makedirs(r'C:\\Users\\xxcmt\\Desktop\\文档\\test\\yellowpic',exist_ok=True)\n",
    "num=0\n",
    "for i in pic_url:\n",
    "    res=requests.get(i)\n",
    "    num=num+1\n",
    "    imgfile=open(os.path.join(r'C:\\Users\\xxcmt\\Desktop\\文档\\test\\yellowpic',(str(num)+'.jpg')),'wb')\n",
    "    print('downing %s jpg the basename is %s'%(num,os.path.basename(i)))\n",
    "    for chunk in res.iter_content(100000):\n",
    "          imgfile.write(chunk)\n",
    "    imgfile.close() "
   ]
  },
  {
   "cell_type": "code",
   "execution_count": null,
   "metadata": {},
   "outputs": [],
   "source": [
    "from selenium import webdriver\n",
    "browser = webdriver.Firefox()\n",
    "browser.get('https://login.yahoo.com/?.src=ym&.lang=zh-Hans-CN-x-alibaba&.intl=us&.done=https%3A%2F%2Fmail.yahoo.com%2Fd')\n",
    "emailElem = browser.find_element_by_id('login-username') \n",
    "emailElem.send_keys('not_my_real_email') \n",
    "passwordElem=browser.find_element_by_id('login-passwd')\n",
    "passwordElem.send_keys('12345')\n",
    "passwordElem.submit()\n",
    "#passwordElem = browser.find_element_by_id('login-passwd')"
   ]
  }
 ],
 "metadata": {
  "kernelspec": {
   "display_name": "Python 3",
   "language": "python",
   "name": "python3"
  },
  "language_info": {
   "codemirror_mode": {
    "name": "ipython",
    "version": 3
   },
   "file_extension": ".py",
   "mimetype": "text/x-python",
   "name": "python",
   "nbconvert_exporter": "python",
   "pygments_lexer": "ipython3",
   "version": "3.7.3"
  }
 },
 "nbformat": 4,
 "nbformat_minor": 2
}
