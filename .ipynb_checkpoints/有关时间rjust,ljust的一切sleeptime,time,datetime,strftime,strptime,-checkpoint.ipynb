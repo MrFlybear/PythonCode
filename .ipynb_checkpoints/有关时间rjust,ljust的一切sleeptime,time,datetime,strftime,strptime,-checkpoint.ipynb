{
 "cells": [
  {
   "cell_type": "code",
   "execution_count": null,
   "metadata": {},
   "outputs": [],
   "source": [
    "import time\n",
    "time.time()"
   ]
  },
  {
   "cell_type": "code",
   "execution_count": null,
   "metadata": {},
   "outputs": [],
   "source": [
    "import time\n",
    "print('Press ENTER to begin.Afterwards,press ENTER to \"click\" the stopwatch.Press Ctrl-C to quit.')\n",
    "input\n",
    "print('Started.')\n",
    "startTime=time.time()\n",
    "lastTime=startTime\n",
    "lapNum=1\n",
    "try:\n",
    "    while True:\n",
    "        input()\n",
    "        lapTime=round(time.time()-lastTime,2)\n",
    "        totalTime=round(time.time()-startTime,2)\n",
    "        print('Lap #%s:%s(%s)'%(lapNum,totalTime,lapTime),end='')\n",
    "        lapNum+=1\n",
    "        lastTime=time.time()\n",
    "except KeyboardInterrupt:\n",
    "    print('\\nDone.')\n"
   ]
  },
  {
   "cell_type": "code",
   "execution_count": 9,
   "metadata": {},
   "outputs": [
    {
     "data": {
      "text/plain": [
       "datetime.datetime(2019, 5, 10, 8, 11, 20, 614839)"
      ]
     },
     "execution_count": 9,
     "metadata": {},
     "output_type": "execute_result"
    }
   ],
   "source": [
    "import datetime,time\n",
    "#datetime.datetime.now()\n",
    "#dt=datetime.datetime(2019, 5, 10, 8, 5, 19, 288685)\n",
    "#print(dt.year,dt.month,dt.day)\n",
    "#print(dt.hour,dt.minute,dt.second)\n",
    "datetime.datetime.fromtimestamp(10086)\n",
    "datetime.datetime.fromtimestamp(time.time())"
   ]
  },
  {
   "cell_type": "code",
   "execution_count": 13,
   "metadata": {},
   "outputs": [
    {
     "data": {
      "text/plain": [
       "datetime.datetime(2022, 2, 3, 8, 27, 18, 780156)"
      ]
     },
     "execution_count": 13,
     "metadata": {},
     "output_type": "execute_result"
    }
   ],
   "source": [
    "#持续时间,时间加减\n",
    "import datetime\n",
    "delta=datetime.timedelta(days=11,hours=10,minutes=9,seconds=9)\n",
    "delta.total_seconds()\n",
    "dt=datetime.datetime.now()\n",
    "thousandDays=datetime.timedelta(days=1000)\n",
    "dt+thousandDays\n",
    "#datetime.datetime.fromtimestamp(dt+thousandDays)"
   ]
  },
  {
   "cell_type": "code",
   "execution_count": 18,
   "metadata": {},
   "outputs": [
    {
     "name": "stdout",
     "output_type": "stream",
     "text": [
      "2015/10/21 16:29:10\n",
      "04:29 PM\n",
      "October of '15\n"
     ]
    }
   ],
   "source": [
    "#转化成对人友好的格式\n",
    "oct21st=datetime.datetime(2015, 10, 21, 16, 29, 10)\n",
    "#2015/10/21 16:29:10\n",
    "print(oct21st.strftime('%Y/%m/%d %H:%M:%S'))\n",
    "#04:29 PM\n",
    "print(oct21st.strftime('%I:%M %p'))\n",
    "#October of '15\n",
    "print(oct21st.strftime(\"%B of '%y\"))"
   ]
  }
 ],
 "metadata": {
  "kernelspec": {
   "display_name": "Python 3",
   "language": "python",
   "name": "python3"
  },
  "language_info": {
   "codemirror_mode": {
    "name": "ipython",
    "version": 3
   },
   "file_extension": ".py",
   "mimetype": "text/x-python",
   "name": "python",
   "nbconvert_exporter": "python",
   "pygments_lexer": "ipython3",
   "version": "3.7.3"
  }
 },
 "nbformat": 4,
 "nbformat_minor": 2
}
