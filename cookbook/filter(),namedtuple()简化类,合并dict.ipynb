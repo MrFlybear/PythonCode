{
 "cells": [
  {
   "cell_type": "code",
   "execution_count": null,
   "metadata": {},
   "outputs": [],
   "source": [
    "values=['1', '2', '-3', '-', '4', 'N/A', '5']\n",
    "def is_int(val):\n",
    "    try:\n",
    "        x=int(val)\n",
    "        return True\n",
    "    except ValueError:\n",
    "        return False\n",
    "#ivals=list(filter(is_int,values))\n",
    "ivals=filter(is_int,values)\n",
    "for i in ivals:\n",
    "    print(i)"
   ]
  },
  {
   "cell_type": "code",
   "execution_count": null,
   "metadata": {},
   "outputs": [],
   "source": [
    "mylist=[1, 4, -5, 10, -7, 2, 3, -1]\n",
    "import math\n",
    "mylist=[math.sqrt(n) for n in mylist if n>0]\n",
    "print(mylist)"
   ]
  },
  {
   "cell_type": "code",
   "execution_count": null,
   "metadata": {},
   "outputs": [],
   "source": [
    "clip_neg=[n if n>0 else 0 for n in mylist]\n",
    "clip_neg"
   ]
  },
  {
   "cell_type": "code",
   "execution_count": null,
   "metadata": {},
   "outputs": [],
   "source": [
    "addresses=['5412 N CLARK', '5148 N CLARK', '5800 E 58TH', '2122 N CLARK' '5645 N RAVENSWOOD', '1060 W ADDISON', '4801 N BROADWAY', '1039 W GRANVILLE']\n",
    "counts=[0, 3, 10, 4, 1, 7, 6, 1]\n",
    "from itertools import compress\n",
    "more5=[n>5 for n in counts]\n",
    "more5\n",
    "#False, False, True, False, False, True, True, False\n",
    "list(compress(addresses,more5))"
   ]
  },
  {
   "cell_type": "code",
   "execution_count": null,
   "metadata": {},
   "outputs": [],
   "source": [
    "prices={\n",
    "    'ACME': 45.23, \n",
    "    'AAPL': 612.78, \n",
    "    'IBM': 205.55, \n",
    "    'HPQ': 37.20, \n",
    "    'FB': 10.75\n",
    "}\n",
    "p1={key:value for key,value in prices.items() if value>200 }\n",
    "print(p1)\n",
    "tech_names={'AAPL', 'IBM', 'HPQ', 'MSFT'}\n",
    "p2={key:value for key,value in prices.items() if key in tech_names}\n",
    "print(p2)\n",
    "\n",
    "\n"
   ]
  },
  {
   "cell_type": "code",
   "execution_count": null,
   "metadata": {},
   "outputs": [],
   "source": [
    "from collections import namedtuple\n",
    "Subscriber=namedtuple('Subscriber', ['addr', 'joined'])\n",
    "sub=Subscriber('jonesy@example.com', '2012-10-19')\n",
    "print(sub)\n",
    "#无用之物\n"
   ]
  },
  {
   "cell_type": "code",
   "execution_count": null,
   "metadata": {},
   "outputs": [],
   "source": [
    "#迭代表达式\n",
    "nums=[1,2,3,4,5]\n",
    "s=sum(x*x for x in nums)\n",
    "print(s)\n",
    "import os \n",
    "files=os.listdir(r'C:\\Users\\xxcmt\\Desktop\\文档\\automate_online-materials')\n",
    "if any(name.endswith('.py') for name in files):\n",
    "    print('There be python')\n",
    "else:\n",
    "    print('Sorry,no python')\n",
    "portfolio=[\n",
    "    {'name':'GOOG', 'shares':50},\n",
    "    {'name':'YHOO', 'shares':75},\n",
    "    {'name':'AOL', 'shares':20},\n",
    "    {'name':'SCOX', 'shares':65}\n",
    "]\n",
    "min_shares=min(s['shares'] for s in portfolio)\n",
    "print(min_shares)\n",
    "\n",
    "\n",
    "\n",
    "\n"
   ]
  },
  {
   "cell_type": "code",
   "execution_count": null,
   "metadata": {},
   "outputs": [],
   "source": [
    "a={'x': 1, 'z': 3}\n",
    "b={'y': 2, 'z': 4}\n",
    "from collections import ChainMap\n",
    "c=ChainMap(a,b)\n",
    "print(c['z'])\n",
    "#当原生改变时，merge也会变"
   ]
  }
 ],
 "metadata": {
  "kernelspec": {
   "display_name": "Python 3",
   "language": "python",
   "name": "python3"
  },
  "language_info": {
   "codemirror_mode": {
    "name": "ipython",
    "version": 3
   },
   "file_extension": ".py",
   "mimetype": "text/x-python",
   "name": "python",
   "nbconvert_exporter": "python",
   "pygments_lexer": "ipython3",
   "version": "3.7.3"
  }
 },
 "nbformat": 4,
 "nbformat_minor": 2
}
