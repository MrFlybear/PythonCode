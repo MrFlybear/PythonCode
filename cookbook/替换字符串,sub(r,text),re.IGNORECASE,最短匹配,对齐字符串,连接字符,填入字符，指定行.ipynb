{
 "cells": [
  {
   "cell_type": "code",
   "execution_count": null,
   "metadata": {},
   "outputs": [],
   "source": [
    "text='yeah,but no,but yeah,but no,but yeah'\n",
    "text.replace('yeah','yep')\n",
    "text='Today is 11/27/2012. PyCon starts 3/13/2013.'\n",
    "import re\n",
    "re.sub(r'(\\d+)/(\\d+)/(\\d+)',r'\\3-\\1-\\2',text)\n"
   ]
  },
  {
   "cell_type": "code",
   "execution_count": null,
   "metadata": {},
   "outputs": [],
   "source": [
    "#不区分大小写\n",
    "import re\n",
    "text='UPPER PYTHON, lower python, Mixed Python'\n",
    "re.findall('python',text,flags=re.IGNORECASE)\n",
    "re.sub('python','snake',text,flags=re.IGNORECASE)"
   ]
  },
  {
   "cell_type": "code",
   "execution_count": null,
   "metadata": {},
   "outputs": [],
   "source": [
    "text2='Computer says \"no.\" Phone says \"yes.\"'\n",
    "str_pat1=re.compile(r'\\\"(.*)\\\"')\n",
    "#贪婪匹配\n",
    "str_pat1.findall(text2)\n",
    "#最短匹配\n",
    "str_pat2=re.compile(r'\\\"(.*?)\\\"')\n",
    "str_pat2.findall(text2)\n"
   ]
  },
  {
   "cell_type": "code",
   "execution_count": null,
   "metadata": {},
   "outputs": [],
   "source": [
    "s='pýtĥöñ\\fis\\tawesome\\r\\n'\n",
    "remap={\n",
    "    ord('\\t'):' ',\n",
    "    ord('\\f'):' ',\n",
    "    ord('\\r'):None\n",
    "}\n",
    "a=s.translate(remap)\n",
    "a"
   ]
  },
  {
   "cell_type": "code",
   "execution_count": null,
   "metadata": {},
   "outputs": [],
   "source": [
    "text='Hello World'\n",
    "text.ljust(20,'=')\n",
    "text.center(20,'$')"
   ]
  },
  {
   "cell_type": "code",
   "execution_count": null,
   "metadata": {},
   "outputs": [],
   "source": [
    "parts=['Is', 'Chicago', 'Not', 'Chicago?']\n",
    "' '.join(parts)\n",
    "','.join(parts)\n",
    "''.join(parts)\n",
    "data=['ACME', 50, 91.1]\n",
    "','.join(str(d) for d in data)"
   ]
  },
  {
   "cell_type": "code",
   "execution_count": null,
   "metadata": {},
   "outputs": [],
   "source": [
    "import os\n",
    "def sample():\n",
    "    yield 'Is'\n",
    "    yield 'Chicago'\n",
    "    yield 'Not'\n",
    "    yield 'Chicago'\n",
    "text=''.join(sample())\n",
    "print(text)\n",
    "os.chdir(r'C:\\Users\\xxcmt\\Desktop\\文档\\automate_online-materials')\n",
    "with open ('join.txt','w') as f:\n",
    "    for part in sample():\n",
    "        f.write(part)\n",
    "def combine(source,maxsize):\n",
    "    parts=[]\n",
    "    size=0\n",
    "    for part in source:\n",
    "        parts.append(part)\n",
    "        size+=len(part)\n",
    "        print(size)\n",
    "        if size>maxsize:\n",
    "            yield ''.join(parts)\n",
    "            parts=[]\n",
    "            size=0\n",
    "    yield ''.join(parts)\n",
    "with open('size.txt','w') as f:\n",
    "    for part in combine(sample(),32768):\n",
    "        f.write(part)"
   ]
  },
  {
   "cell_type": "code",
   "execution_count": null,
   "metadata": {},
   "outputs": [],
   "source": [
    "class safesub(dict):\n",
    "    def __missing__(self,key):\n",
    "        return '{'+key+'}'\n",
    "s='{name} has {n} messages.'\n",
    "name='Guido'\n",
    "n=37\n",
    "del n\n",
    "name='xiong'\n",
    "#s.format_map(safesub(vars()))\n",
    "s.format(name='cmt',n=33)"
   ]
  },
  {
   "cell_type": "code",
   "execution_count": null,
   "metadata": {},
   "outputs": [],
   "source": [
    "s=\"Look into my eyes, look into my eyes, the eyes, the eyes,  the eyes, not around the eyes, don't look around the eyes,  look into my eyes, you're under.\"\n",
    "import textwrap\n",
    "print(textwrap.fill(s,70))\n",
    "print('#'*35)\n",
    "print(textwrap.fill(s,40))\n",
    "print('#'*35)\n",
    "print(textwrap.fill(s,40,initial_indent='    '))\n",
    "print('#'*35)\n",
    "print(textwrap.fill(s,40,subsequent_indent='    '))\n",
    "print('#'*35)"
   ]
  },
  {
   "cell_type": "code",
   "execution_count": null,
   "metadata": {},
   "outputs": [],
   "source": [
    "#还有这种骚操作\n",
    "text='foo=23+42*10'\n",
    "tokens=[('NAME','foo'),('EQ','='),('NUM','23'),('PLUS','+'),\n",
    "       ('NUM','42'),('TIMES','*'),('NUM','10')]\n",
    "import re\n",
    "NAME=r'(?P<NAME>[a-zA-Z_][a-zA-Z_0-9]*)'\n",
    "NUM=r'(?P<NUM>\\d+)'\n",
    "PLUS=r'(?P<PLUS>\\+)'\n",
    "TIMES=r'(?P<TIMES>\\*)'\n",
    "EQ=r'(?P<EQ>=)'\n",
    "WS=r'(?P<WS>\\s+)'\n",
    "master_pat=re.compile('|'.join([NAME,NUM,PLUS,TIMES,EQ,WS]))\n",
    "scanner=master_pat.scanner('foo= 42')\n",
    "m=scanner.match()\n",
    "m.lastgroup,m.group()\n",
    "m=scanner.match()\n",
    "m.lastgroup,m.group()\n",
    "m=scanner.match()\n",
    "m.lastgroup,m.group()\n",
    "#m_.lastgroup,m_.group()\n",
    "#scanner.match()\n",
    "#_.lastgroup,_.group()"
   ]
  },
  {
   "cell_type": "code",
   "execution_count": null,
   "metadata": {},
   "outputs": [],
   "source": [
    "from collections import namedtuple\n",
    "import re\n",
    "NAME=r'(?P<NAME>[a-zA-Z_][a-zA-Z_0-9]*)'\n",
    "NUM=r'(?P<NUM>\\d+)'\n",
    "PLUS=r'(?P<PLUS>\\+)'\n",
    "TIMES=r'(?P<TIMES>\\*)'\n",
    "EQ=r'(?P<EQ>=)'\n",
    "WS=r'(?P<WS>\\s+)'\n",
    "master_pat=re.compile('|'.join([NAME,NUM,PLUS,TIMES,EQ,WS]))\n",
    "Token=namedtuple('Token',['type','value'])\n",
    "def generate_tokens(pat,text):\n",
    "    scanner=pat.scanner(text)\n",
    "    for m in iter(scanner.match,None):\n",
    "        yield Token(m.lastgroup,m.group())\n",
    "        \n",
    "for tok in generate_tokens(master_pat,'foo = 42'):\n",
    "    print(tok)\n",
    "    \n",
    "tokens=(tok for tok in generate_tokens(master_pat,text)\n",
    "       if tok.type!='WS')\n",
    "for tok in tokens:\n",
    "    print(tok)"
   ]
  },
  {
   "cell_type": "code",
   "execution_count": null,
   "metadata": {},
   "outputs": [],
   "source": [
    "import re\n",
    "from collections import namedtuple\n",
    "NAME=r'(?P<NAME>[a-zA-Z_][a-zA-Z_0-9]*)'\n",
    "PRINT=r'(?P<PRINT>print)'\n",
    "Token=namedtuple('Token',['type','value'])\n",
    "def generate_tokens(pat,text):\n",
    "    scanner=pat.scanner(text)\n",
    "    for m in iter(scanner.match,None):\n",
    "        yield Token(m.lastgroup,m.group())\n",
    "master_pat=re.compile('|'.join([NAME,PRINT]))\n",
    "for tok in generate_tokens(master_pat,'printer'):\n",
    "    print(tok)"
   ]
  },
  {
   "cell_type": "code",
   "execution_count": 2,
   "metadata": {},
   "outputs": [
    {
     "name": "stdout",
     "output_type": "stream",
     "text": [
      "--Return--\n",
      "> <ipython-input-2-1edd72da1c00>(4)<module>()->None\n",
      "-> pdb.set_trace()\n",
      "(Pdb) c\n"
     ]
    },
    {
     "data": {
      "text/plain": [
       "20"
      ]
     },
     "execution_count": 2,
     "metadata": {},
     "output_type": "execute_result"
    }
   ],
   "source": [
    "#不看了太难了，这不只是写程序，主要是算法理解不了\n",
    "import re\n",
    "import collections\n",
    "import pdb\n",
    "pdb.set_trace()\n",
    "NUM=r'(?P<NUM>\\d+)'\n",
    "PLUS=r'(?P<PLUS>\\+)'\n",
    "MINUS=r'(?P<MINUS>-)'\n",
    "TIMES=r'(?P<TIMES>\\*)'\n",
    "DIVIDE=r'(?P<DIVIDE>/)'\n",
    "LPAREN=r'(?P<LPAREN>\\()'\n",
    "RPAREN=r'(?P<RPAREN>\\))'\n",
    "WS=r'(?P<WS>\\s+)'\n",
    "master_pat=re.compile('|'.join([NUM,PLUS,MINUS,TIMES,DIVIDE,LPAREN,RPAREN,WS]))\n",
    "Token=collections.namedtuple('Token',['type','value'])\n",
    "def generate_tokens(text):\n",
    "    scanner=master_pat.scanner(text)\n",
    "    #这里其实还有一点超前iter\n",
    "    for m in iter(scanner.match,None):\n",
    "        tok=Token(m.lastgroup,m.group())\n",
    "        if tok.type!='WS':\n",
    "            yield tok\n",
    "class ExpressionEvaluator:\n",
    "    def parse(self,text):\n",
    "        self.tokens=generate_tokens(text)\n",
    "        self.tok=None\n",
    "        self.nexttok=None\n",
    "        self._advance()\n",
    "        return self.expr()\n",
    "    \n",
    "    def _advance(self):\n",
    "        self.tok,self.nexttok=self.nexttok,next(self.tokens,None)\n",
    "        \n",
    "    def _accept(self,toktype):\n",
    "        if self.nexttok and self.nexttok.type==toktype:\n",
    "            self._advance()\n",
    "            return True\n",
    "        else:\n",
    "            return False\n",
    "    \n",
    "    def _expect(self,toktype):\n",
    "        if not self._accept(toktype):\n",
    "            raise SyntaxError('Expected'+toktype)\n",
    "            \n",
    "    def expr(self):\n",
    "        exprval=self.term()\n",
    "        while self._accept('PLUS') or self._accept('MINUS'):\n",
    "            op=self.tok.type\n",
    "            right=self.term()\n",
    "            if op=='PLUS':\n",
    "                exprval+=right\n",
    "            elif op=='MINUS':\n",
    "                exprval-=right\n",
    "        return exprval\n",
    "    \n",
    "    def term(self):\n",
    "        termval=self.factor()\n",
    "        while self._accept('TIMES') or self._accept('DIVIDE'):\n",
    "            op=self.tok.type\n",
    "            right=self.factor()\n",
    "            if op=='TIMES':\n",
    "                termval*=right\n",
    "            elif op=='DIVIDE':\n",
    "                termval/=right\n",
    "        return termval\n",
    "    \n",
    "    def factor(self):\n",
    "        if self._accept('NUM'):\n",
    "            return int(self.tok.value)\n",
    "        elif self._accept('LPAREN'):\n",
    "            exprval=self.expr()\n",
    "            self._expect('RPAREN')\n",
    "            return exprval\n",
    "        else:\n",
    "            raise SyntaxError('Expected NUMBER or LPAREN')\n",
    "\n",
    "e=ExpressionEvaluator()\n",
    "e.parse('2+3')\n",
    "e.parse('2+3*6')"
   ]
  },
  {
   "cell_type": "code",
   "execution_count": 21,
   "metadata": {},
   "outputs": [
    {
     "name": "stdout",
     "output_type": "stream",
     "text": [
      "The value is 1,234.57\n"
     ]
    }
   ],
   "source": [
    "x=1234.56789\n",
    "format(x,'0.2f')\n",
    "format(x,'>20.1f')\n",
    "format(x,'<10.1f')\n",
    "format(x,'^10.1f')\n",
    "format(x,',.3f')\n",
    "format(x,'e')\n",
    "format(x,'0.2e')\n",
    "print('The value is {:0,.2f}'.format(x))"
   ]
  },
  {
   "cell_type": "code",
   "execution_count": 27,
   "metadata": {},
   "outputs": [
    {
     "data": {
      "text/plain": [
       "'4d2'"
      ]
     },
     "execution_count": 27,
     "metadata": {},
     "output_type": "execute_result"
    }
   ],
   "source": [
    "x=1234\n",
    "bin(x)\n",
    "oct(x)\n",
    "hex(x)\n",
    "format(x,'b')\n",
    "format(x,'o')\n",
    "format(x,'x')"
   ]
  }
 ],
 "metadata": {
  "kernelspec": {
   "display_name": "Python 3",
   "language": "python",
   "name": "python3"
  },
  "language_info": {
   "codemirror_mode": {
    "name": "ipython",
    "version": 3
   },
   "file_extension": ".py",
   "mimetype": "text/x-python",
   "name": "python",
   "nbconvert_exporter": "python",
   "pygments_lexer": "ipython3",
   "version": "3.7.3"
  }
 },
 "nbformat": 4,
 "nbformat_minor": 2
}
