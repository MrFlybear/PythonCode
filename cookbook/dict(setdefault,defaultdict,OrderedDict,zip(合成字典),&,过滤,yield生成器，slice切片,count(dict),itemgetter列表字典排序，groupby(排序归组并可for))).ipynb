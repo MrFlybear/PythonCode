{
 "cells": [
  {
   "cell_type": "code",
   "execution_count": null,
   "metadata": {},
   "outputs": [],
   "source": [
    "from collections import defaultdict\n",
    "d={}\n",
    "e=defaultdict(list)\n",
    "for i in range(10):\n",
    "    d.setdefault(i,0)\n",
    "for i in range (11,20):\n",
    "    e[i].append(i)\n",
    "print(d)\n",
    "print(e)"
   ]
  },
  {
   "cell_type": "code",
   "execution_count": null,
   "metadata": {},
   "outputs": [],
   "source": [
    "#有顺序的字典\n",
    "from collections import OrderedDict\n",
    "d=OrderedDict()\n",
    "d['foo']=1\n",
    "d['bar']=2\n",
    "d['spam']=3\n",
    "d['grok']=4\n",
    "for key in d:\n",
    "    print(key,d[key])\n",
    "import json\n",
    "json.dumps(d)"
   ]
  },
  {
   "cell_type": "code",
   "execution_count": null,
   "metadata": {},
   "outputs": [],
   "source": [
    "prices={\n",
    "    'ACME':45.23,\n",
    "    'AAPL':612.78,\n",
    "    'IBM':205.55,\n",
    "    'HPQ':37.20,\n",
    "    'FB':10.75\n",
    "}\n",
    "min_price=min(zip(prices.values(),prices.keys()))\n",
    "max_price=max(zip(prices.values(),prices.keys()))\n",
    "print(min_price,max_price)\n",
    "prices_sorted=sorted(zip(prices.values(),prices.keys()))\n",
    "print(prices_sorted)\n",
    "for i,j in zip(prices.values(),prices.keys()):\n",
    "    print(i,j)"
   ]
  },
  {
   "cell_type": "code",
   "execution_count": null,
   "metadata": {},
   "outputs": [],
   "source": [
    "a={\n",
    "    'x':1,\n",
    "    'y':2,\n",
    "    'z':3\n",
    "}\n",
    "b={\n",
    "    'w':10,\n",
    "    'x':11,\n",
    "    'y':2\n",
    "}\n",
    "#找到相同的key\n",
    "a.keys()&b.keys()\n",
    "a.keys()-b.keys()\n",
    "a.items()&b.items()\n",
    "#过滤操作\n",
    "c={key:b[key] for key in a.keys()-{'z','w'}}\n",
    "print(c)"
   ]
  },
  {
   "cell_type": "code",
   "execution_count": null,
   "metadata": {},
   "outputs": [],
   "source": [
    "import pprint\n",
    "def dedupe(items):\n",
    "    seen=set()\n",
    "    for item in items:\n",
    "        if item not in seen:\n",
    "            yield item\n",
    "            yield 1\n",
    "            seen.add(item)\n",
    "a=[1,5,2,1,9,1,5,10]\n",
    "g=dedupe(a)\n",
    "next(dedupe(a))"
   ]
  },
  {
   "cell_type": "code",
   "execution_count": null,
   "metadata": {},
   "outputs": [],
   "source": [
    "a=[{'x':1,'y':2},{'x':1,'y':3},{'x':1,'y':2},{'x':2,'y':4}]\n",
    "\n",
    "def invert(a,key=lambda d:(d['x'],d['y'])):\n",
    "    for item in a:\n",
    "        yield key(item)\n",
    "g=invert(a)\n",
    "print(list(g))\n",
    "\n",
    "#hello=(a,key=lambda d:(d['x'],d['y']))\n",
    "#print(kello)"
   ]
  },
  {
   "cell_type": "code",
   "execution_count": null,
   "metadata": {},
   "outputs": [],
   "source": [
    "#简直无敌\n",
    "def dedupe(items,key=None):\n",
    "    seen=set()\n",
    "    for item in items:\n",
    "        val=item if key is None else key(item)\n",
    "        if val not in seen:\n",
    "            #这里注意出来的是item\n",
    "            yield item\n",
    "            seen.add(val)\n",
    "a=[{'x':1,'y':2},{'x':1,'y':3},{'x':1,'y':2},{'x':2,'y':4}]\n",
    "list(dedupe(a,key=lambda d:(d['x'],d['y'])))\n"
   ]
  },
  {
   "cell_type": "code",
   "execution_count": null,
   "metadata": {},
   "outputs": [],
   "source": [
    "#无聊的玩意\n",
    "s='HelloWorld'\n",
    "a=slice(5,100,2)\n",
    "#确保不超过边界\n",
    "print(a.indices(len(s)))\n",
    "#将tuple转为整数\n",
    "print(*a.indices(len(s)))\n",
    "for i in range(*a.indices(len(s))):\n",
    "    print(s[i])"
   ]
  },
  {
   "cell_type": "code",
   "execution_count": null,
   "metadata": {},
   "outputs": [],
   "source": [
    "words=[1,2,3,4,6,3,2,4,6,4,2,7,8,9,6,4,3]\n",
    "from collections import Counter\n",
    "word_counts=Counter(words)\n",
    "top_three=word_counts.most_common(3)\n",
    "print(top_three)"
   ]
  },
  {
   "cell_type": "code",
   "execution_count": null,
   "metadata": {},
   "outputs": [],
   "source": [
    "from collections import Counter\n",
    "morewords=['why','are','you','not','looking','in','my','eyes']\n",
    "word_counts=Counter(morewords)\n",
    "for word in morewords:\n",
    "    word_counts[word]+=1\n",
    "word_counts['eyes']"
   ]
  },
  {
   "cell_type": "code",
   "execution_count": null,
   "metadata": {},
   "outputs": [],
   "source": [
    "rows = [ {'fname': 'Brian', 'lname': 'Jones', 'uid': 1003}, {'fname': 'David', 'lname': 'Beazley', 'uid': 1002}, {'fname': 'John', 'lname': 'Cleese', 'uid': 1001}, {'fname': 'Big', 'lname': 'Jones', 'uid': 1004}\n",
    "]\n",
    "from operator import itemgetter\n",
    "#rows_by_fname=sorted(rows,key=itemgetter('fname'))\n",
    "rows_by_uid=sorted(rows,key=itemgetter('uid'))\n",
    "rows_by_fname=sorted(rows,key=lambda d:d['fname'])\n",
    "print(rows_by_fname)\n",
    "max(rows,key=itemgetter('uid'))\n",
    "#print(rows_by_uid)"
   ]
  },
  {
   "cell_type": "code",
   "execution_count": 13,
   "metadata": {},
   "outputs": [
    {
     "name": "stdout",
     "output_type": "stream",
     "text": [
      "[User(23), User(3), User(99)]\n",
      "[User(3), User(23), User(99)]\n"
     ]
    },
    {
     "data": {
      "text/plain": [
       "User(3)"
      ]
     },
     "execution_count": 13,
     "metadata": {},
     "output_type": "execute_result"
    }
   ],
   "source": [
    "class User:\n",
    "    def __init__(self,user_id):\n",
    "        self.user_id=user_id\n",
    "    def __repr__(self):\n",
    "        return \"User(%s)\"%(self.user_id)\n",
    "users=[User(23), User(3), User(99)]\n",
    "#sorted(users,key=lambda u:u.user_id)\n",
    "from operator import attrgetter\n",
    "hello=sorted(users,key=attrgetter('user_id'))\n",
    "print(users)\n",
    "print(hello)\n",
    "#can be used in min and max\n",
    "min(users,key=attrgetter('user_id'))"
   ]
  },
  {
   "cell_type": "code",
   "execution_count": 15,
   "metadata": {
    "scrolled": true
   },
   "outputs": [
    {
     "name": "stdout",
     "output_type": "stream",
     "text": [
      "[{'address': '5412 N CLARK', 'date': '07/01/2012'}, {'address': '5148 N CLARK', 'date': '07/04/2012'}, {'address': '5800 E 58TH', 'date': '07/02/2012'}, {'address': '2122 N CLARK', 'date': '07/03/2012'}, {'address': '5645 N RAVENSWOOD', 'date': '07/02/2012'}, {'address': '1060 W ADDISON', 'date': '07/02/2012'}, {'address': '4801 N BROADWAY', 'date': '07/01/2012'}, {'address': '1039 W GRANVILLE', 'date': '07/04/2012'}]\n",
      "**************************************************\n",
      "[{'address': '5412 N CLARK', 'date': '07/01/2012'}, {'address': '4801 N BROADWAY', 'date': '07/01/2012'}, {'address': '5800 E 58TH', 'date': '07/02/2012'}, {'address': '5645 N RAVENSWOOD', 'date': '07/02/2012'}, {'address': '1060 W ADDISON', 'date': '07/02/2012'}, {'address': '2122 N CLARK', 'date': '07/03/2012'}, {'address': '5148 N CLARK', 'date': '07/04/2012'}, {'address': '1039 W GRANVILLE', 'date': '07/04/2012'}]\n",
      "**************************************************\n",
      "07/01/2012\n",
      " {'address': '5412 N CLARK', 'date': '07/01/2012'}\n",
      " {'address': '4801 N BROADWAY', 'date': '07/01/2012'}\n",
      "07/02/2012\n",
      " {'address': '5800 E 58TH', 'date': '07/02/2012'}\n",
      " {'address': '5645 N RAVENSWOOD', 'date': '07/02/2012'}\n",
      " {'address': '1060 W ADDISON', 'date': '07/02/2012'}\n",
      "07/03/2012\n",
      " {'address': '2122 N CLARK', 'date': '07/03/2012'}\n",
      "07/04/2012\n",
      " {'address': '5148 N CLARK', 'date': '07/04/2012'}\n",
      " {'address': '1039 W GRANVILLE', 'date': '07/04/2012'}\n"
     ]
    }
   ],
   "source": [
    "rows = [ \n",
    "    {'address': '5412 N CLARK', 'date': '07/01/2012'}, \n",
    "    {'address': '5148 N CLARK', 'date': '07/04/2012'}, \n",
    "    {'address': '5800 E 58TH', 'date': '07/02/2012'}, \n",
    "    {'address': '2122 N CLARK', 'date': '07/03/2012'}, \n",
    "    {'address': '5645 N RAVENSWOOD', 'date': '07/02/2012'}, \n",
    "    {'address': '1060 W ADDISON', 'date': '07/02/2012'}, \n",
    "    {'address': '4801 N BROADWAY', 'date': '07/01/2012'}, \n",
    "    {'address': '1039 W GRANVILLE', 'date': '07/04/2012'},\n",
    "]\n",
    "from operator import itemgetter\n",
    "from itertools import groupby\n",
    "print(rows)\n",
    "print('*'*50)\n",
    "rows.sort(key=itemgetter('date'))\n",
    "print(rows)\n",
    "print('*'*50)\n",
    "for date,items in groupby(rows,key=itemgetter('date')):\n",
    "    print(date)\n",
    "    for i in items:\n",
    "        print(''*5,i)\n"
   ]
  }
 ],
 "metadata": {
  "kernelspec": {
   "display_name": "Python 3",
   "language": "python",
   "name": "python3"
  },
  "language_info": {
   "codemirror_mode": {
    "name": "ipython",
    "version": 3
   },
   "file_extension": ".py",
   "mimetype": "text/x-python",
   "name": "python",
   "nbconvert_exporter": "python",
   "pygments_lexer": "ipython3",
   "version": "3.7.3"
  }
 },
 "nbformat": 4,
 "nbformat_minor": 2
}
