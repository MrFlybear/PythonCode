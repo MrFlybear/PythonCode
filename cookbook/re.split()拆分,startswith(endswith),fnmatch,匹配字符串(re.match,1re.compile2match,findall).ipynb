{
 "cells": [
  {
   "cell_type": "code",
   "execution_count": null,
   "metadata": {},
   "outputs": [],
   "source": [
    "line='asdf;;fjdk; afed,, fjek,asdf,   foo'\n",
    "import re\n",
    "re.split(r'[;,\\s]+',line)"
   ]
  },
  {
   "cell_type": "code",
   "execution_count": null,
   "metadata": {},
   "outputs": [],
   "source": [
    "import re\n",
    "line = 'asdf fjdk; afed, fjek,asdf,    foo'\n",
    "fields=re.split(r'(;|,|\\s)\\s*',line)\n",
    "#print(fields)\n",
    "values=fields[::2]\n",
    "delimiters=fields[1::2]+['']\n",
    "#print(values)\n",
    "print(''.join(v+d for v,d in zip(values,delimiters)))\n",
    "if any(name.endswith(('.c','.h')) for name in listdir(dirname)):"
   ]
  },
  {
   "cell_type": "code",
   "execution_count": null,
   "metadata": {},
   "outputs": [],
   "source": [
    "addresses=[\n",
    "    '5412 N CLARK ST', \n",
    "    '1060 W ADDISON ST', \n",
    "    '1039 W GRANVILLE AVE', \n",
    "    '2122 N CLARK ST', \n",
    "    '4802 N BROADWAY',\n",
    "]\n",
    "from fnmatch import fnmatchcase\n",
    "[addr+'xiong' for addr in addresses if fnmatchcase(addr,'*ST')]"
   ]
  },
  {
   "cell_type": "code",
   "execution_count": null,
   "metadata": {},
   "outputs": [],
   "source": [
    "'''\n",
    "text='yeah,but no,but yeah,but no,but yeah'\n",
    "text.startswith('yeah')\n",
    "text.endswith('no')\n",
    "text.find('no')\n",
    "\n",
    "text1='11/27/2012'\n",
    "text2='Nov 27, 2012'\n",
    "import re\n",
    "if re.match(r'\\d+/\\d+/\\d+',text1):\n",
    "    print('yes')\n",
    "else:\n",
    "    print('no')\n",
    "if re.match(r'\\d+/\\d+/\\d+',text2):\n",
    "    print('yes')\n",
    "else:\n",
    "    print('no')\n",
    "datepat=re.compile(r'\\d+/\\d+/\\d+')\n",
    "if datepat.match(text1):\n",
    "    print('yes')\n",
    "else:\n",
    "    print('no')\n",
    "if datepat.match(text2):\n",
    "    print('yes')\n",
    "else:\n",
    "    print('no')\n",
    "\n",
    "datepat=re.compile(r'\\d+/\\d+/\\d+')\n",
    "text='Today is 11/27/2012. PyCon starts 3/13/2013.'\n",
    "datepat.findall(text)\n",
    "'''\n",
    "import re\n",
    "datepat=re.compile(r'(\\d+)/(\\d+)/(\\d+)')\n",
    "m=datepat.match('xiong11/27/2012')\n",
    "m.group(0)\n",
    "m.group(1)\n",
    "m.group(2)\n",
    "m.group(3)\n",
    "m.groups()\n",
    "month,day,year=m.groups()\n",
    "text='Today is 11/27/2012. PyCon starts 3/13/2013.'\n",
    "datepat.findall(text)\n",
    "for month,day,year in datepat.findall(text):\n",
    "    print('%s-%s-%s'%(year,month,day))"
   ]
  },
  {
   "cell_type": "code",
   "execution_count": 14,
   "metadata": {},
   "outputs": [
    {
     "name": "stdout",
     "output_type": "stream",
     "text": [
      "[('11', '27', '2012')]\n"
     ]
    }
   ],
   "source": [
    "import re\n",
    "datepat=re.compile(r'(\\d+)/(\\d+)/(\\d+)')\n",
    "#match只能从开关找，findall可以往后找\n",
    "m=datepat.findall('xiong 11/27/2012xiong')\n",
    "print(m)\n"
   ]
  }
 ],
 "metadata": {
  "kernelspec": {
   "display_name": "Python 3",
   "language": "python",
   "name": "python3"
  },
  "language_info": {
   "codemirror_mode": {
    "name": "ipython",
    "version": 3
   },
   "file_extension": ".py",
   "mimetype": "text/x-python",
   "name": "python",
   "nbconvert_exporter": "python",
   "pygments_lexer": "ipython3",
   "version": "3.7.3"
  }
 },
 "nbformat": 4,
 "nbformat_minor": 2
}
