{
 "cells": [
  {
   "cell_type": "code",
   "execution_count": 2,
   "metadata": {},
   "outputs": [
    {
     "name": "stdout",
     "output_type": "stream",
     "text": [
      "Dave\n",
      "dave@example.com\n",
      "['773-555-1212', '847-555-1212']\n"
     ]
    }
   ],
   "source": [
    "#star expressions for arbitrary length\n",
    "record={'Dave','dave@example.com','773-555-1212','847-555-1212'}\n",
    "name,email,*phone_numbers=record\n",
    "print(name)\n",
    "print(email)\n",
    "print(phone_numbers)\n"
   ]
  },
  {
   "cell_type": "code",
   "execution_count": 5,
   "metadata": {},
   "outputs": [
    {
     "name": "stdout",
     "output_type": "stream",
     "text": [
      "foo 1 2\n",
      "bar hello\n",
      "foo 3 4\n"
     ]
    }
   ],
   "source": [
    "#star 用来迭代\n",
    "records=[\n",
    "    ('foo',1,2),\n",
    "    ('bar','hello'),\n",
    "    ('foo',3,4)    \n",
    "]\n",
    "def do_foo(x,y):\n",
    "    print('foo',x,y)\n",
    "def do_bar(s):\n",
    "    print('bar',s)\n",
    "for tag,*args in records:\n",
    "    if tag=='foo':\n",
    "        do_foo(*args)\n",
    "    elif tag=='bar':\n",
    "        do_bar(*args)"
   ]
  },
  {
   "cell_type": "code",
   "execution_count": 4,
   "metadata": {},
   "outputs": [
    {
     "data": {
      "text/plain": [
       "36"
      ]
     },
     "execution_count": 4,
     "metadata": {},
     "output_type": "execute_result"
    }
   ],
   "source": [
    "items=[1,10,7,4,5,9]\n",
    "def sum(items):\n",
    "    head,*tail=items\n",
    "    return head+sum(tail) if tail else head\n",
    "sum(items)"
   ]
  },
  {
   "cell_type": "code",
   "execution_count": 7,
   "metadata": {},
   "outputs": [
    {
     "name": "stdout",
     "output_type": "stream",
     "text": [
      "蔡\n",
      "妙\n",
      "婷\n",
      "我\n",
      "们\n",
      "python\n",
      "--------------------\n",
      "一\n",
      "生\n",
      "一\n",
      "直\n",
      "这\n",
      "python\n",
      "--------------------\n"
     ]
    }
   ],
   "source": [
    "#不懂有什么用，纯粹小众用法，yield怎么用\n",
    "from collections import deque\n",
    "import os\n",
    "def search(lines,pattern,history=5):\n",
    "    #previous_lines是一个5的队列\n",
    "    previous_lines=deque(maxlen=history)\n",
    "    #lines是f打开后的行s\n",
    "    for line in lines:\n",
    "        if pattern in line:\n",
    "            #返回匹配line和前面的队列5行\n",
    "            yield line,previous_lines\n",
    "        previous_lines.append(line)\n",
    "#eg\n",
    "if __name__=='__main__':\n",
    "    os.chdir(r'C:\\Users\\xxcmt\\Desktop\\文档\\automate_online-materials')\n",
    "    with open('somefile.txt') as f:\n",
    "        #用for来调用yield\n",
    "        for line,previous_lines in search(f,'python',5):\n",
    "            for pline in previous_lines:\n",
    "                print(pline,end='')\n",
    "            print(line,end='')\n",
    "            print('-'*20)\n",
    "        \n",
    "    "
   ]
  },
  {
   "cell_type": "code",
   "execution_count": 10,
   "metadata": {},
   "outputs": [
    {
     "name": "stdout",
     "output_type": "stream",
     "text": [
      "[{'name': 'YHOO', 'shares': 45, 'price': 16.35}, {'name': 'FB', 'shares': 200, 'price': 21.09}, {'name': 'HPQ', 'shares': 35, 'price': 31.75}]\n"
     ]
    }
   ],
   "source": [
    "#lambda怎么用,heapq堆栈比大小\n",
    "import heapq\n",
    "portfolio=[\n",
    "    {'name':'IBM','shares':100,'price':91.1},\n",
    "    {'name':'AAPL','shares':50,'price':543.22},\n",
    "    {'name':'FB','shares':200,'price':21.09},\n",
    "    {'name':'HPQ','shares':35,'price':31.75},\n",
    "    {'name':'YHOO','shares':45,'price':16.35},\n",
    "    {'name':'ACME','shares':75,'price':115.65},\n",
    "]\n",
    "cheap=heapq.nsmallest(3,portfolio,key=lambda s:s['price'])\n",
    "print(cheap)"
   ]
  },
  {
   "cell_type": "code",
   "execution_count": 21,
   "metadata": {},
   "outputs": [
    {
     "name": "stdout",
     "output_type": "stream",
     "text": [
      "[(-5, 1, Item('bar')), (-1, 0, Item('foo')), (-4, 2, Item('spam')), (-1, 3, Item('grok'))]\n",
      "(-5, 1, Item('bar'))\n",
      "(-4, 2, Item('spam'))\n",
      "(-1, 0, Item('foo'))\n",
      "(-1, 3, Item('grok'))\n"
     ]
    }
   ],
   "source": [
    "#全是些没用的东西\n",
    "import heapq\n",
    "class PriorityQueue:\n",
    "    def __init__(self):\n",
    "        self._queue=[]\n",
    "        self._index=0\n",
    "    def push(self,item,priority):\n",
    "        #heapqpush并不会排序，只是像队列一样在队尾入队\n",
    "        heapq.heappush(self._queue,(-priority,self._index,item))\n",
    "        self._index+=1\n",
    "    def pop(self):\n",
    "        #heappop也不排序，但是会将堆顶最小推出\n",
    "        return heapq.heappop(self._queue)\n",
    "class Item:\n",
    "    def __init__(self,name):\n",
    "        self.name=name\n",
    "    def __repr__(self):\n",
    "        return \"Item('%s')\"%(self.name)\n",
    "q=PriorityQueue()\n",
    "q.push(Item('foo'),1)\n",
    "q.push(Item('bar'),5)\n",
    "q.push(Item('spam'),4)\n",
    "q.push(Item('grok'),1)\n",
    "print(q._queue)\n",
    "print(q.pop())\n",
    "print(q.pop())\n",
    "print(q.pop())\n",
    "print(q.pop())\n",
    "\n"
   ]
  }
 ],
 "metadata": {
  "kernelspec": {
   "display_name": "Python 3",
   "language": "python",
   "name": "python3"
  },
  "language_info": {
   "codemirror_mode": {
    "name": "ipython",
    "version": 3
   },
   "file_extension": ".py",
   "mimetype": "text/x-python",
   "name": "python",
   "nbconvert_exporter": "python",
   "pygments_lexer": "ipython3",
   "version": "3.7.3"
  }
 },
 "nbformat": 4,
 "nbformat_minor": 2
}
