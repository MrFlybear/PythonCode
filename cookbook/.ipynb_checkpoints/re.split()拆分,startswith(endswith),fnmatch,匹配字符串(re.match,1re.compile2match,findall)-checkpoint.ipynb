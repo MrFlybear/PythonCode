{
 "cells": [
  {
   "cell_type": "code",
   "execution_count": null,
   "metadata": {},
   "outputs": [],
   "source": [
    "line='asdf;;fjdk; afed,, fjek,asdf,   foo'\n",
    "import re\n",
    "re.split(r'[;,\\s]+',line)"
   ]
  },
  {
   "cell_type": "code",
   "execution_count": 9,
   "metadata": {},
   "outputs": [
    {
     "name": "stdout",
     "output_type": "stream",
     "text": [
      "asdf fjdk;afed,fjek,asdf,foo\n"
     ]
    }
   ],
   "source": [
    "import re\n",
    "line = 'asdf fjdk; afed, fjek,asdf,    foo'\n",
    "fields=re.split(r'(;|,|\\s)\\s*',line)\n",
    "#print(fields)\n",
    "values=fields[::2]\n",
    "delimiters=fields[1::2]+['']\n",
    "#print(values)\n",
    "print(''.join(v+d for v,d in zip(values,delimiters)))\n",
    "if any(name.endswith(('.c','.h')) for name in listdir(dirname)):"
   ]
  },
  {
   "cell_type": "code",
   "execution_count": 10,
   "metadata": {},
   "outputs": [
    {
     "data": {
      "text/plain": [
       "['5412 N CLARK STxiong', '1060 W ADDISON STxiong', '2122 N CLARK STxiong']"
      ]
     },
     "execution_count": 10,
     "metadata": {},
     "output_type": "execute_result"
    }
   ],
   "source": [
    "addresses=[\n",
    "    '5412 N CLARK ST', \n",
    "    '1060 W ADDISON ST', \n",
    "    '1039 W GRANVILLE AVE', \n",
    "    '2122 N CLARK ST', \n",
    "    '4802 N BROADWAY',\n",
    "]\n",
    "from fnmatch import fnmatchcase\n",
    "[addr+'xiong' for addr in addresses if fnmatchcase(addr,'*ST')]"
   ]
  }
 ],
 "metadata": {
  "kernelspec": {
   "display_name": "Python 3",
   "language": "python",
   "name": "python3"
  },
  "language_info": {
   "codemirror_mode": {
    "name": "ipython",
    "version": 3
   },
   "file_extension": ".py",
   "mimetype": "text/x-python",
   "name": "python",
   "nbconvert_exporter": "python",
   "pygments_lexer": "ipython3",
   "version": "3.7.3"
  }
 },
 "nbformat": 4,
 "nbformat_minor": 2
}
