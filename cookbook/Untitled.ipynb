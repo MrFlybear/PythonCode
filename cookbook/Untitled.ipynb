{
 "cells": [
  {
   "cell_type": "code",
   "execution_count": null,
   "metadata": {},
   "outputs": [],
   "source": [
    "import os\n",
    "fd=os.open('somefile.txt',os.O_WRONLY | os.O_CREAT)\n",
    "f=open(fd,'wt')\n",
    "f.write('hello world\\n')\n",
    "f.close()"
   ]
  },
  {
   "cell_type": "code",
   "execution_count": null,
   "metadata": {},
   "outputs": [],
   "source": [
    "import os\n",
    "print(os.getcwd())\n",
    "os.chdir(r'C:\\Users\\xxcmt\\Desktop\\文档\\automate_online-materials')"
   ]
  },
  {
   "cell_type": "code",
   "execution_count": null,
   "metadata": {},
   "outputs": [],
   "source": [
    "from collections import namedtuple\n",
    "import csv,os\n",
    "os.chdir(r'C:\\Users\\xxcmt\\Desktop\\文档\\automate_online-materials')\n",
    "with open('stocks.csv') as f:\n",
    "    f_csv=csv.reader(f)\n",
    "    headings=next(f_csv)\n",
    "    print(headings)\n",
    "    Row=namedtuple('Row',headings)\n",
    "    for r in f_csv:\n",
    "        row=Row(*r)"
   ]
  },
  {
   "cell_type": "code",
   "execution_count": null,
   "metadata": {},
   "outputs": [],
   "source": [
    "import csv\n",
    "with open('stocks.csv') as f:\n",
    "    f_csv=csv.DictReader(f)\n",
    "    for row in f_csv:\n",
    "        print(row)"
   ]
  },
  {
   "cell_type": "code",
   "execution_count": 3,
   "metadata": {},
   "outputs": [
    {
     "name": "stdout",
     "output_type": "stream",
     "text": [
      "Num__P_remises\n"
     ]
    }
   ],
   "source": [
    "import re\n",
    "eg='Num-Premises'\n",
    "#[]最前面的^是非的意思\n",
    "eg2=re.sub('[^a-zA-Z_]', '_', eg)\n",
    "print(eg2)"
   ]
  },
  {
   "cell_type": "code",
   "execution_count": 10,
   "metadata": {},
   "outputs": [
    {
     "name": "stdout",
     "output_type": "stream",
     "text": [
      "C:\\Users\\xxcmt\\Desktop\\文档\\PythonCode\\cookbook\n",
      "{\"name\": \"ACME\", \"shares\": 100, \"price\": 542.23}\n"
     ]
    }
   ],
   "source": [
    "import json,os\n",
    "data={\n",
    "    'name':'ACME',\n",
    "    'shares':100,\n",
    "    'price':542.23\n",
    "}\n",
    "#temp json文件\n",
    "json_str=json.dumps(data)\n",
    "#json实体文件\n",
    "print(os.getcwd())\n",
    "print(json_str)\n",
    "#with open('data.json','w') as f:\n",
    "#    json.dump(data,f)"
   ]
  }
 ],
 "metadata": {
  "kernelspec": {
   "display_name": "Python 3",
   "language": "python",
   "name": "python3"
  },
  "language_info": {
   "codemirror_mode": {
    "name": "ipython",
    "version": 3
   },
   "file_extension": ".py",
   "mimetype": "text/x-python",
   "name": "python",
   "nbconvert_exporter": "python",
   "pygments_lexer": "ipython3",
   "version": "3.7.3"
  }
 },
 "nbformat": 4,
 "nbformat_minor": 2
}
