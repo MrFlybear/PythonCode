{
 "cells": [
  {
   "cell_type": "code",
   "execution_count": 22,
   "metadata": {},
   "outputs": [
    {
     "name": "stdout",
     "output_type": "stream",
     "text": [
      "('e', 3425)\n",
      "('t', 2660)\n",
      "('a', 2323)\n",
      "('o', 2275)\n",
      "('i', 1938)\n",
      "('n', 1890)\n",
      "('h', 1866)\n",
      "('s', 1745)\n",
      "('r', 1432)\n",
      "('l', 1326)\n",
      "('d', 1316)\n",
      "('u', 866)\n",
      "('w', 754)\n",
      "('g', 674)\n",
      "('c', 591)\n",
      "('y', 564)\n",
      "('m', 564)\n",
      "('f', 560)\n",
      "('b', 414)\n",
      "('p', 393)\n",
      "('k', 274)\n",
      "('v', 210)\n",
      "('q', 40)\n",
      "('j', 25)\n",
      "('x', 25)\n",
      "('z', 17)\n",
      "('0', 4)\n",
      "('1', 4)\n",
      "('2', 3)\n",
      "('8', 2)\n",
      "('9', 2)\n",
      "('6', 2)\n",
      "('5', 1)\n",
      "('4', 1)\n",
      "('3', 1)\n"
     ]
    }
   ],
   "source": [
    "#去掉空格和单词\n",
    "import string\n",
    "fp=open('C:\\Alice.txt')\n",
    "symbol=string.punctuation+'‘’“”'+string.whitespace\n",
    "h=dict()\n",
    "for line in fp:\n",
    "    for t in symbol:\n",
    "#把空格标点全部去掉\n",
    "        line=line.replace(t,'')\n",
    "    line=line.lower()\n",
    "#统计字母的个数\n",
    "    for letter in line:\n",
    "        if letter not in h:\n",
    "            h[letter]=1\n",
    "        else:\n",
    "            h[letter]=h[letter]+1\n",
    "#变为dict_item这种对象，按照value值反向排序\n",
    "h=sorted(h.items(),key=lambda item:item[1],reverse=True)\n",
    "for key in h:\n",
    "    print(key)\n",
    "\n",
    "#做出来了，真有点玩游戏的疯狂劲呀，等过了司考我再好好玩尤克吧\n"
   ]
  }
 ],
 "metadata": {
  "kernelspec": {
   "display_name": "Python 3",
   "language": "python",
   "name": "python3"
  },
  "language_info": {
   "codemirror_mode": {
    "name": "ipython",
    "version": 3
   },
   "file_extension": ".py",
   "mimetype": "text/x-python",
   "name": "python",
   "nbconvert_exporter": "python",
   "pygments_lexer": "ipython3",
   "version": "3.6.3"
  }
 },
 "nbformat": 4,
 "nbformat_minor": 2
}
