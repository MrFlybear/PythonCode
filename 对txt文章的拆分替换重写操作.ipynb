{
 "cells": [
  {
   "cell_type": "code",
   "execution_count": 18,
   "metadata": {},
   "outputs": [],
   "source": [
    "def sed(pstring,rstring,filename1,filename2):\n",
    "    of1=open(filename1)\n",
    "    of2=open(filename2,'w')\n",
    "    for line1 in of1:\n",
    "        line2=''\n",
    "        for word in line1.split():\n",
    "            word=word.lower()\n",
    "            if word!=pstring:\n",
    "                line2+=word+' '\n",
    "            else:\n",
    "                line2=line2+rstring+' '\n",
    "        of2.write(line2+'\\n')\n",
    "    of1.close()\n",
    "    of2.close()\n",
    "sed('was','222',r'C:\\Alice.txt',r'C:\\Users\\xxcmt\\Desktop\\ss\\xiong.txt')\n",
    "    "
   ]
  }
 ],
 "metadata": {
  "kernelspec": {
   "display_name": "Python 3",
   "language": "python",
   "name": "python3"
  },
  "language_info": {
   "codemirror_mode": {
    "name": "ipython",
    "version": 3
   },
   "file_extension": ".py",
   "mimetype": "text/x-python",
   "name": "python",
   "nbconvert_exporter": "python",
   "pygments_lexer": "ipython3",
   "version": "3.6.3"
  }
 },
 "nbformat": 4,
 "nbformat_minor": 2
}
