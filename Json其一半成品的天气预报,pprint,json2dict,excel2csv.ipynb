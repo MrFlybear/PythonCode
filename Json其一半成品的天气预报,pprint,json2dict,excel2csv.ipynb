{
 "cells": [
  {
   "cell_type": "code",
   "execution_count": null,
   "metadata": {},
   "outputs": [],
   "source": [
    "\n",
    "'''stringOfJsonData='{\"name\":\"Zophie\",\"isCat\":true,\"miceCaught\":0,\"felineIQ\":null}'\n",
    "import json\n",
    "jsonDataAsPythonValue=json.loads(stringOfJsonData)\n",
    "jsonDataAsPythonValue'''\n",
    "pythonValue={'isCat':True,'miceCaught':0,'name':'Zophie','felineIQ':None}\n",
    "import json\n",
    "stringOfJosnData=json.dumps(pythonValue)\n",
    "stringOfJsonData"
   ]
  },
  {
   "cell_type": "code",
   "execution_count": null,
   "metadata": {},
   "outputs": [],
   "source": [
    "import json,request,sys\n",
    "if len(sys.argv)<2:\n",
    "    print('Usage:quickWeather.py location')\n",
    "    sys.exit()\n",
    "location=''.join(sys.argv[1:])\n"
   ]
  },
  {
   "cell_type": "code",
   "execution_count": null,
   "metadata": {},
   "outputs": [],
   "source": [
    "import requests,json,pprint\n",
    "url='http://wthrcdn.etouch.cn/weather_mini?citykey=101280101'\n",
    "response=requests.get(url)\n",
    "response.raise_for_status()\n",
    "#load json as a python data\n",
    "jsonWeatherData=json.loads(response.text)\n",
    "pprint.pprint(jsonWeatherData)\n",
    "w=jsonWeatherData['data']\n",
    "print('city is %s'%(w['city']))\n",
    "for i in w['forecast']:\n",
    "    print(i['date'],i['high'],i['low'],i['type'])\n",
    "#print(w['forecast'][0]['date'])\n",
    "#print(w['forecast'][0]['high'])\n",
    "#print(w['forecast'][0]['low'])\n",
    "#print(w['forecast'][0]['type'])\n"
   ]
  },
  {
   "cell_type": "code",
   "execution_count": null,
   "metadata": {},
   "outputs": [],
   "source": [
    "import os,openpyxl,csv\n",
    "os.chdir(r'C:\\Users\\xxcmt\\Desktop\\文档\\automate_online-materials')\n",
    "os.makedirs(r'C:\\Users\\xxcmt\\Desktop\\文档\\automate_online-materials\\excel2csv',exist_ok=True)\n",
    "for excelFile in os.listdir('.'):\n",
    "    if excelFile.endswith('xlsx') is not True:\n",
    "        continue\n",
    "    print('loading %s...'%(excelFile))\n",
    "    wb=openpyxl.load_workbook(excelFile)\n",
    "    for sheetName in wb.sheetnames:\n",
    "        print('loading sheet<%s> of %s...'%(sheetName,excelFile))\n",
    "        sheet=wb[sheetName]\n",
    "        csvFilename=excelFile[:-4]+'_'+sheetName+'.csv'\n",
    "        csvObjFile=open(os.path.join('excel2csv',csvFilename),'w',newline='')\n",
    "        csvWriter=csv.writer(csvObjFile)\n",
    "        for rowNum in range(1,sheet.max_row+1):\n",
    "            rowData=[]\n",
    "            for colNum in range(1,sheet.max_column+1):\n",
    "                rowData.append(sheet.cell(row=rowNum,column=colNum).value)\n",
    "            csvWriter.writerow(rowData)\n",
    "            print('writing %s...'%(rowNum))\n",
    "        print('transforming the %s to %s in excel2csv folder'%(excelFile,csvFilename))\n",
    "        csvObjFile.close()\n",
    "    wb.close()\n",
    "        "
   ]
  }
 ],
 "metadata": {
  "kernelspec": {
   "display_name": "Python 3",
   "language": "python",
   "name": "python3"
  },
  "language_info": {
   "codemirror_mode": {
    "name": "ipython",
    "version": 3
   },
   "file_extension": ".py",
   "mimetype": "text/x-python",
   "name": "python",
   "nbconvert_exporter": "python",
   "pygments_lexer": "ipython3",
   "version": "3.7.3"
  }
 },
 "nbformat": 4,
 "nbformat_minor": 2
}
