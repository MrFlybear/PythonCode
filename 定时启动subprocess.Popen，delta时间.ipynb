{
 "cells": [
  {
   "cell_type": "code",
   "execution_count": null,
   "metadata": {},
   "outputs": [],
   "source": [
    "import datetime,time,sys\n",
    "delta=datetime.timedelta(days=1)\n",
    "oneday=delta.total_seconds()\n",
    "while oneday>0:\n",
    "    time.sleep(1)\n",
    "    oneday=oneday-1\n",
    "    subprocess.Popen(['start',sys.argv[1]],shell=True)\n",
    "    #'C:\\\\Windows\\\\System32\\\\calc.exe'"
   ]
  },
  {
   "cell_type": "code",
   "execution_count": null,
   "metadata": {},
   "outputs": [],
   "source": [
    "import sys,time,datetime,subprocess\n",
    "\n",
    "def timestartprogram(timer,program):\n",
    "    print(timer,program)\n",
    "    while True:\n",
    "        dt=datetime.datetime.now()\n",
    "        dtstr=dt.strftime('%H:%M')\n",
    "        prepart=int(timer[:-3])\n",
    "        laterpart=int(timer[-2:])\n",
    "        timer2='%s:%s'%(prepart,laterpart+1)\n",
    "        if dtstr==timer or timer2:\n",
    "            #启动程序\n",
    "            subprocess.Popen(['C:\\Users\\xxcmt\\Anaconda3\\python.exe',program],shell=True)\n",
    "            print('done')\n",
    "            time.sleep(3600)\n",
    "        else:\n",
    "            print('没发，时间%s'%dtstr)\n",
    "            time.sleep(60)\n",
    "timestartprogram(sys.argv[1],sys.argv[2])        \n",
    "#timestartprogram('10:24','C:\\\\Windows\\\\System32\\\\calc.exe')\n",
    "    \n",
    "    \n",
    "    \n",
    "    "
   ]
  },
  {
   "cell_type": "code",
   "execution_count": null,
   "metadata": {},
   "outputs": [],
   "source": [
    "import datetime,time\n",
    "dt=datetime.datetime.now()\n",
    "print(dt.strftime('%H:%M'))"
   ]
  }
 ],
 "metadata": {
  "kernelspec": {
   "display_name": "Python 3",
   "language": "python",
   "name": "python3"
  },
  "language_info": {
   "codemirror_mode": {
    "name": "ipython",
    "version": 3
   },
   "file_extension": ".py",
   "mimetype": "text/x-python",
   "name": "python",
   "nbconvert_exporter": "python",
   "pygments_lexer": "ipython3",
   "version": "3.7.3"
  }
 },
 "nbformat": 4,
 "nbformat_minor": 2
}
