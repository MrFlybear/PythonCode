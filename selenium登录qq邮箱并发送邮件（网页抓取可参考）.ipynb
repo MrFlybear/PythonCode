{
 "cells": [
  {
   "cell_type": "code",
   "execution_count": 3,
   "metadata": {},
   "outputs": [],
   "source": [
    "from selenium import webdriver\n",
    "from selenium.webdriver.common.keys import Keys\n",
    "import time,sys\n",
    "browser = webdriver.Firefox()\n",
    "browser.get('https://mail.qq.com/')\n",
    "#定位不到,可能是firame的问题\n",
    "browser.switch_to.frame(\"login_frame\")\n",
    "usename_Elem = browser.find_element_by_name(\"u\") \n",
    "usename_Elem.send_keys('xxxx') \n",
    "password_Elem = browser.find_element_by_name(\"p\") \n",
    "password_Elem.send_keys('xxxx')\n",
    "#enter方式\n",
    "#password_Elem.send_keys(Keys.ENTER)\n",
    "#点击方式\n",
    "submit_Elem=browser.find_element_by_id(\"login_button\")\n",
    "submit_Elem.click()\n",
    "#我靠加载页面需要这么多时间\n",
    "time.sleep(10)\n",
    "#退出iframe\n",
    "browser.switch_to.default_content()\n",
    "browser.find_element_by_id('composebtn').click()\n",
    "time.sleep(8)\n",
    "browser.switch_to.frame('mainFrame')\n",
    "#点击并输入收件人\n",
    "send_adr_Elem=browser.find_element_by_xpath('/html/body/form[2]/div[2]/div[3]/div[2]/table[2]/tbody/tr/td[2]/div[1]/div[2]/input').send_keys(sys.argv[1])\n",
    "#点击并输入主题\n",
    "send_subject_Elem=browser.find_element_by_xpath('//*[@id=\"subject\"]').send_keys(sys.argv[2])\n",
    "#输入正文\n",
    "browser.switch_to.frame(browser.find_element_by_class_name('qmEditorIfrmEditArea'))\n",
    "send_body_Elem=browser.find_element_by_tag_name('body')\n",
    "send_body_Elem.click()\n",
    "send_body_Elem.send_keys(sys.argv[3])\n",
    "#发送\n",
    "browser.switch_to.default_content()\n",
    "browser.switch_to.frame('mainFrame')\n",
    "send_btn=browser.find_element_by_name('sendbtn')\n",
    "send_btn.click()\n",
    "\n",
    "\n",
    "\n",
    "\n",
    "\n",
    "#for handle in browser.window_handles:#方法二，始终获得当前最后的窗口，所以多要多次使用\n",
    "#    browser.switch_to.window(handle)\n",
    "#text=browser.find_element_by_id('useraddr').text\n",
    "#if text=='1036433209@qq.com':\n",
    "#    print('登录成功')\n",
    "    \n",
    "#title_path='/html/head/title'\n",
    "#t_Elem=browser.find_element_by_xpath(title_path)\n",
    "#w_path='/html/body/div[2]/div[5]/div[1]/ul/li[1]/input'\n",
    "#css_path='html body.frame_class div#resize div#leftPanel.newskinbody div#navBarDiv ul#navBarTd.navbar.fdul li#composebtn_td.composepart.fs a#composebtn'\n",
    "#write_Elem=browser.find_element_by_xpath(w_path).click()\n"
   ]
  }
 ],
 "metadata": {
  "kernelspec": {
   "display_name": "Python 3",
   "language": "python",
   "name": "python3"
  },
  "language_info": {
   "codemirror_mode": {
    "name": "ipython",
    "version": 3
   },
   "file_extension": ".py",
   "mimetype": "text/x-python",
   "name": "python",
   "nbconvert_exporter": "python",
   "pygments_lexer": "ipython3",
   "version": "3.7.3"
  }
 },
 "nbformat": 4,
 "nbformat_minor": 2
}
