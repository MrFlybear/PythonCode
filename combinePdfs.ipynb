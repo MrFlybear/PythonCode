{
 "cells": [
  {
   "cell_type": "code",
   "execution_count": 1,
   "metadata": {
    "scrolled": true
   },
   "outputs": [
    {
     "name": "stdout",
     "output_type": "stream",
     "text": [
      "encrypted.pdf\n",
      "encrypted.pdf不在加入之列\n",
      "meetingminutes.pdf\n",
      "meetingminutes.pdf的第一页作为封面\n",
      "meetingminutes2.pdf\n",
      "rotatedPage.pdf\n",
      "watermark.pdf\n",
      "watermarkedCover.pdf\n"
     ]
    }
   ],
   "source": [
    "#将所有的pdf合成为一个pdf\n",
    "import PyPDF2,os\n",
    "os.chdir(r'C:\\Users\\xxcmt\\Desktop\\文档\\automate_online-materials')\n",
    "pdfFiles=[]\n",
    "for filename in os.listdir('.'):\n",
    "    if filename.endswith('.pdf'):\n",
    "        pdfFiles.append(filename)\n",
    "pdfFiles.sort(key=str.lower)\n",
    "pdfWriter=PyPDF2.PdfFileWriter()\n",
    "i=0\n",
    "for filename in pdfFiles:\n",
    "    print(filename)\n",
    "    pdfFileObj=open(filename,'rb')\n",
    "    pdfReader=PyPDF2.PdfFileReader(pdfFileObj)\n",
    "    #找非en\n",
    "    if filename.startswith('enc')==True:\n",
    "        print('%s不在加入之列'%(filename))\n",
    "        continue\n",
    "    #且是第一个非en,满足条件的个数\n",
    "    i=i+1\n",
    "    if i==1:\n",
    "        for pageNum in range(0,pdfReader.numPages):\n",
    "            pageObj=pdfReader.getPage(pageNum)\n",
    "            pdfWriter.addPage(pageObj)\n",
    "        print('%s的第一页作为封面'%(filename))\n",
    "    else:\n",
    "        for pageNum in range(1,pdfReader.numPages):\n",
    "            pageObj=pdfReader.getPage(pageNum)\n",
    "            pdfWriter.addPage(pageObj)\n",
    "pdfOutput=open('allminutes.pdf','wb')\n",
    "pdfWriter.write(pdfOutput)\n",
    "pdfOutput.close()\n",
    "\n",
    "\n"
   ]
  }
 ],
 "metadata": {
  "kernelspec": {
   "display_name": "Python 3",
   "language": "python",
   "name": "python3"
  },
  "language_info": {
   "codemirror_mode": {
    "name": "ipython",
    "version": 3
   },
   "file_extension": ".py",
   "mimetype": "text/x-python",
   "name": "python",
   "nbconvert_exporter": "python",
   "pygments_lexer": "ipython3",
   "version": "3.7.3"
  }
 },
 "nbformat": 4,
 "nbformat_minor": 2
}
