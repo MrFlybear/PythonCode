{
 "cells": [
  {
   "cell_type": "code",
   "execution_count": null,
   "metadata": {},
   "outputs": [],
   "source": [
    "import requests,os,bs4\n",
    "url='http://xkcd.com'\n",
    "os.makedirs(r'C:\\Users\\xxcmt\\Desktop\\文档\\test\\xkcd',exist_ok=True)\n",
    "while not url.endswith('#'):\n",
    "    #开始下载\n",
    "    print('Downloading page %s...'%url)\n",
    "    res=requests.get(url)\n",
    "    res.raise_for_status()\n",
    "    soup=bs4.BeautifulSoup(res.text)\n",
    "    #找图片url\n",
    "    comicElem=soup.select('#comic img')\n",
    "    if comicElem==[]:\n",
    "        print('Could not find comic image.')\n",
    "    else:\n",
    "        comicUrl='http:'+comicElem[0].get('src')\n",
    "        print('Downloading image %s...'%(comicUrl))\n",
    "        #下载\n",
    "        res=requests.get(comicUrl)\n",
    "        res.raise_for_status()\n",
    "        #存到硬盘上\n",
    "        imageFile=open(os.path.join(r'C:\\Users\\xxcmt\\Desktop\\文档\\test\\xkcd',os.path.basename(comicUrl)),'wb')\n",
    "        for chunk in res.iter_content(100000):\n",
    "            imageFile.write(chunk)\n",
    "        imageFile.close()\n",
    "    #改变url开始循环下载\n",
    "    prevLink=soup.select('a[rel=\"prev\"]')[0]\n",
    "    url='http://xkcd.com'+prevLink.get('href')\n",
    "print('done')\n"
   ]
  }
 ],
 "metadata": {
  "kernelspec": {
   "display_name": "Python 3",
   "language": "python",
   "name": "python3"
  },
  "language_info": {
   "codemirror_mode": {
    "name": "ipython",
    "version": 3
   },
   "file_extension": ".py",
   "mimetype": "text/x-python",
   "name": "python",
   "nbconvert_exporter": "python",
   "pygments_lexer": "ipython3",
   "version": "3.7.3"
  }
 },
 "nbformat": 4,
 "nbformat_minor": 2
}
