{
 "cells": [
  {
   "cell_type": "code",
   "execution_count": null,
   "metadata": {},
   "outputs": [],
   "source": [
    "#提取pdf当中的文字\n",
    "import PyPDF2,os\n",
    "os.chdir(r'C:\\Users\\xxcmt\\Desktop\\文档\\automate_online-materials')\n",
    "pdfFileObj=open('meetingminutes.pdf','rb')\n",
    "pdfReader=PyPDF2.PdfFileReader(pdfFileObj)\n",
    "pdfReader.numPages\n",
    "pageObj=pdfReader.getPage(0)\n",
    "pageObj.extractText()\n"
   ]
  },
  {
   "cell_type": "code",
   "execution_count": null,
   "metadata": {},
   "outputs": [],
   "source": [
    "#pdf的加密\n",
    "import PyPDF2,os\n",
    "os.chdir(r'C:\\Users\\xxcmt\\Desktop\\文档\\automate_online-materials')\n",
    "pdfReader=PyPDF2.PdfFileReader(open('encrypted.pdf','rb'))\n",
    "pdfReader.isEncrypted\n",
    "#pdfReader.getPage(0)\n",
    "pdfReader.decrypt('rosebud')\n",
    "pageObj=pdfReader.getPage(0)\n",
    "pageObj.extractText()"
   ]
  },
  {
   "cell_type": "code",
   "execution_count": null,
   "metadata": {},
   "outputs": [],
   "source": [
    "import PyPDF2,os\n",
    "os.chdir(r'C:\\Users\\xxcmt\\Desktop\\文档\\automate_online-materials')\n",
    "pdf1File=open('meetingminutes.pdf','rb')\n",
    "pdf2File=open('meetingminutes2.pdf','rb')\n",
    "pdf1Reader=PyPDF2.PdfFileReader(pdf1File)\n",
    "pdf2Reader=PyPDF2.PdfFileReader(pdf2File)\n",
    "pdfWriter=PyPDF2.PdfFileWriter()\n",
    "print('the first pdf\\'s page number is %s,otherwise the last one is %s'%(pdf1Reader.numPages,pdf2Reader.numPages))\n",
    "for pageNum in range(pdf1Reader.numPages):\n",
    "    pageObj=pdf1Reader.getPage(pageNum)\n",
    "    pdfWriter.addPage(pageObj)\n",
    "for pageNum in range(pdf2Reader.numPages):\n",
    "    pageObj=pdf2Reader.getPage(pageNum)\n",
    "    pdfWriter.addPage(pageObj)\n",
    "pdfOutputFile=open('combinedminutes.pdf','wb')\n",
    "pdfWriter.write(pdfOutputFile)\n",
    "pdfOutputFile.close()\n",
    "pdf1File.close()\n",
    "pdf2File.close()"
   ]
  },
  {
   "cell_type": "code",
   "execution_count": null,
   "metadata": {},
   "outputs": [],
   "source": [
    "import PyPDF2,os\n",
    "os.chdir(r'C:\\Users\\xxcmt\\Desktop\\文档\\automate_online-materials')\n",
    "minutesFile=open('meetingminutes.pdf','rb')\n",
    "pdfReader=PyPDF2.PdfFileReader(minutesFile)\n",
    "page=pdfReader.getPage(0)\n",
    "page.rotateClockwise(90)\n",
    "pdfWriter=PyPDF2.PdfFileWriter()\n",
    "pdfWriter.addPage(page)\n",
    "resultPdfFile=open('rotatedPage.pdf','wb')\n",
    "pdfWriter.write(resultPdfFile)\n",
    "resultPdfFile.close()\n",
    "minutesFile.close()"
   ]
  },
  {
   "cell_type": "code",
   "execution_count": 4,
   "metadata": {},
   "outputs": [],
   "source": [
    "#给pdf加水印\n",
    "import PyPDF2,os\n",
    "os.chdir(r'C:\\Users\\xxcmt\\Desktop\\文档\\automate_online-materials')\n",
    "minutesFile=open('meetingminutes.pdf','rb')\n",
    "pdfReader=PyPDF2.PdfFileReader(minutesFile)\n",
    "minutesFirstPage=pdfReader.getPage(0)\n",
    "pdfWatermarkReader=PyPDF2.PdfFileReader(open('watermark.pdf','rb'))\n",
    "minutesFirstPage.mergePage(pdfWatermarkReader.getPage(0))\n",
    "pdfWriter=PyPDF2.PdfFileWriter()\n",
    "pdfWriter.addPage(minutesFirstPage)\n",
    "for pageNum in range(1,pdfReader.numPages):\n",
    "    pageObj=pdfReader.getPage(pageNum)\n",
    "    pdfWriter.addPage(pageObj)\n",
    "resultPdfFile=open('watermarkedCover.pdf','wb')\n",
    "pdfWriter.write(resultPdfFile)\n",
    "minutesFile.close()\n",
    "resultPdfFile.close()"
   ]
  },
  {
   "cell_type": "code",
   "execution_count": 5,
   "metadata": {},
   "outputs": [],
   "source": [
    "#给pdf加密码\n",
    "import PyPDF2,os\n",
    "os.chdir(r'C:\\Users\\xxcmt\\Desktop\\文档\\automate_online-materials')\n",
    "pdfFile=open('meetingminutes.pdf','rb')\n",
    "pdfReader=PyPDF2.PdfFileReader(pdfFile)\n",
    "pdfWriter=PyPDF2.PdfFileWriter()\n",
    "for pageNum in range(pdfReader.numPages):\n",
    "    pdfWriter.addPage(pdfReader.getPage(pageNum))\n",
    "pdfWriter.encrypt('swordfish')\n",
    "resultPdf=open('encryptedminutes.pdf','wb')\n",
    "pdfWriter.write(resultPdf)\n",
    "resultPdf.close()"
   ]
  }
 ],
 "metadata": {
  "kernelspec": {
   "display_name": "Python 3",
   "language": "python",
   "name": "python3"
  },
  "language_info": {
   "codemirror_mode": {
    "name": "ipython",
    "version": 3
   },
   "file_extension": ".py",
   "mimetype": "text/x-python",
   "name": "python",
   "nbconvert_exporter": "python",
   "pygments_lexer": "ipython3",
   "version": "3.7.3"
  }
 },
 "nbformat": 4,
 "nbformat_minor": 2
}
