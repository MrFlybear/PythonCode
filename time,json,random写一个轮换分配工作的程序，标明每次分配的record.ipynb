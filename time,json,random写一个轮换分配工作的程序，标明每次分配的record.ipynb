{
 "cells": [
  {
   "cell_type": "code",
   "execution_count": 3,
   "metadata": {},
   "outputs": [
    {
     "name": "stdout",
     "output_type": "stream",
     "text": [
      "第1次分配\n",
      "写入第2次分配\n",
      "done\n",
      "{'第1次分配': ['时间2019/05/17 12:04:45',\n",
      "           ['bathroom', 'vacuum', 'walk dog', 'dishes'],\n",
      "           {'张柳': 'dishes',\n",
      "            '戴文博': 'bathroom',\n",
      "            '黄如杰': 'vacuum',\n",
      "            '黄永亮': 'walk dog'}],\n",
      " '第2次分配': ['时间2019/05/17 12:05:43',\n",
      "           ['bathroom', 'vacuum', 'walk dog', 'dishes'],\n",
      "           {'张柳': 'bathroom',\n",
      "            '戴文博': 'vacuum',\n",
      "            '黄如杰': 'walk dog',\n",
      "            '黄永亮': 'dishes'}]}\n"
     ]
    }
   ],
   "source": [
    "import os,json,datetime,pprint\n",
    "#所有的函数要放前面\n",
    "def exlist(list_a):\n",
    "    x=list_a[0]\n",
    "    list_a.remove(x)\n",
    "    list_a.append(x)\n",
    "    return list_a\n",
    "os.chdir(r'C:\\Users\\xxcmt\\Desktop\\文档\\automate_online-materials')\n",
    "#设置一个顺序\n",
    "OrderRecord_dict={}\n",
    "with open('assignedOrder.json','r') as f:\n",
    "    load_dict=json.load(f)\n",
    "i=1\n",
    "while True:\n",
    "    latest='第%s次分配'%i\n",
    "    if latest in load_dict:\n",
    "        j=i\n",
    "        i=i+1\n",
    "        print(latest)\n",
    "    else:\n",
    "        pre='第%s次分配'%j\n",
    "        prelist=load_dict[pre][1]\n",
    "        chores=exlist(prelist)\n",
    "        assgin_dict={'张柳':chores[0],'戴文博':chores[1],'黄如杰':chores[2],'黄永亮':chores[3]}\n",
    "        latest='第%s次分配'%i\n",
    "        dt=datetime.datetime.now()\n",
    "        #添加新分配记录\n",
    "        dtstr='时间'+dt.strftime('%Y/%m/%d %H:%M:%S')\n",
    "        load_dict[latest]=[dtstr,chores,assgin_dict]\n",
    "        with open('assignedOrder.json','w') as f:\n",
    "            json.dump(load_dict,f,ensure_ascii=False)\n",
    "        print('写入%s'%latest)\n",
    "        print('done')\n",
    "        break\n",
    "pprint.pprint(load_dict)"
   ]
  },
  {
   "cell_type": "code",
   "execution_count": null,
   "metadata": {},
   "outputs": [],
   "source": [
    "import random\n",
    "chores=['dishes','bathroom','vacuum','walk dog']\n",
    "randomChore=random.choice(chores)\n",
    "randomChore"
   ]
  },
  {
   "cell_type": "code",
   "execution_count": 2,
   "metadata": {},
   "outputs": [
    {
     "name": "stdout",
     "output_type": "stream",
     "text": [
      "{'第1次分配': ['时间2019/05/17 12:04:45',\n",
      "           ['dishes', 'bathroom', 'vacuum', 'walk dog'],\n",
      "           {'张柳': 'dishes',\n",
      "            '戴文博': 'bathroom',\n",
      "            '黄如杰': 'vacuum',\n",
      "            '黄永亮': 'walk dog'}]}\n"
     ]
    },
    {
     "data": {
      "text/plain": [
       "\"\\n#轮换\\nx=record['第一次分配'][1][0]\\nrecord['第一次分配'][1].remove(x)\\nrecord['第一次分配'][1].append(x)\\npprint.pprint(record)\\n\""
      ]
     },
     "execution_count": 2,
     "metadata": {},
     "output_type": "execute_result"
    }
   ],
   "source": [
    "#第一次分配\n",
    "import datetime,pprint\n",
    "from queue import Queue\n",
    "import json,os\n",
    "q = Queue()\n",
    "chores=['dishes','bathroom','vacuum','walk dog']\n",
    "\n",
    "assgin_dict={'张柳':chores[0],'戴文博':chores[1],'黄如杰':chores[2],'黄永亮':chores[3]}\n",
    "#第一轮复制完毕\n",
    "dt=datetime.datetime.now()\n",
    "dtstr='时间'+dt.strftime('%Y/%m/%d %H:%M:%S')\n",
    "    \n",
    "\n",
    "record={'第1次分配':[dtstr,chores,assgin_dict]}\n",
    "os.chdir(r'C:\\Users\\xxcmt\\Desktop\\文档\\automate_online-materials')\n",
    "with open('assignedOrder.json','w') as f:\n",
    "    json.dump(record,f,ensure_ascii=False)\n",
    "pprint.pprint(record)\n",
    "'''\n",
    "#轮换\n",
    "x=record['第一次分配'][1][0]\n",
    "record['第一次分配'][1].remove(x)\n",
    "record['第一次分配'][1].append(x)\n",
    "pprint.pprint(record)\n",
    "'''\n"
   ]
  },
  {
   "cell_type": "code",
   "execution_count": null,
   "metadata": {},
   "outputs": [],
   "source": [
    "from queue import Queue\n",
    "import pprint\n",
    "q = Queue()\n",
    "chores=['dishes','bathroom','vacuum','walk dog']\n",
    "#第一轮复制完毕\n",
    "for i in chores:\n",
    "    q.put(i)\n",
    "#出列以后排到最后\n",
    "x=q.get()\n",
    "q.put(x)\n",
    "pprint.pprint(q)"
   ]
  }
 ],
 "metadata": {
  "kernelspec": {
   "display_name": "Python 3",
   "language": "python",
   "name": "python3"
  },
  "language_info": {
   "codemirror_mode": {
    "name": "ipython",
    "version": 3
   },
   "file_extension": ".py",
   "mimetype": "text/x-python",
   "name": "python",
   "nbconvert_exporter": "python",
   "pygments_lexer": "ipython3",
   "version": "3.7.3"
  }
 },
 "nbformat": 4,
 "nbformat_minor": 2
}
