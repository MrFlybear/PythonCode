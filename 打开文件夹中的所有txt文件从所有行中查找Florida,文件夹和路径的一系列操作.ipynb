{
 "cells": [
  {
   "cell_type": "code",
   "execution_count": 2,
   "metadata": {},
   "outputs": [
    {
     "name": "stdout",
     "output_type": "stream",
     "text": [
      "C:\\Users\\xxcmt\\Desktop\\xiong\n",
      "{'capitalsquiz1.txt': ['1.what is the capital of Florida?\\n'],\n",
      " 'capitalsquiz10.txt': ['8.what is the capital of Florida?\\n'],\n",
      " 'capitalsquiz11.txt': ['11.what is the capital of Florida?\\n'],\n",
      " 'capitalsquiz12.txt': ['22.what is the capital of Florida?\\n'],\n",
      " 'capitalsquiz13.txt': ['27.what is the capital of Florida?\\n'],\n",
      " 'capitalsquiz14.txt': ['7.what is the capital of Florida?\\n'],\n",
      " 'capitalsquiz15.txt': ['1.what is the capital of Florida?\\n'],\n",
      " 'capitalsquiz16.txt': ['46.what is the capital of Florida?\\n'],\n",
      " 'capitalsquiz17.txt': ['14.what is the capital of Florida?\\n'],\n",
      " 'capitalsquiz18.txt': ['23.what is the capital of Florida?\\n'],\n",
      " 'capitalsquiz19.txt': ['3.what is the capital of Florida?\\n'],\n",
      " 'capitalsquiz2.txt': ['11.what is the capital of Florida?\\n'],\n",
      " 'capitalsquiz20.txt': ['33.what is the capital of Florida?\\n'],\n",
      " 'capitalsquiz21.txt': ['44.what is the capital of Florida?\\n'],\n",
      " 'capitalsquiz22.txt': ['15.what is the capital of Florida?\\n'],\n",
      " 'capitalsquiz23.txt': ['38.what is the capital of Florida?\\n'],\n",
      " 'capitalsquiz24.txt': ['30.what is the capital of Florida?\\n'],\n",
      " 'capitalsquiz25.txt': ['9.what is the capital of Florida?\\n'],\n",
      " 'capitalsquiz26.txt': ['46.what is the capital of Florida?\\n'],\n",
      " 'capitalsquiz27.txt': ['10.what is the capital of Florida?\\n'],\n",
      " 'capitalsquiz28.txt': ['28.what is the capital of Florida?\\n'],\n",
      " 'capitalsquiz29.txt': ['12.what is the capital of Florida?\\n'],\n",
      " 'capitalsquiz3.txt': ['42.what is the capital of Florida?\\n'],\n",
      " 'capitalsquiz30.txt': ['3.what is the capital of Florida?\\n'],\n",
      " 'capitalsquiz31.txt': ['12.what is the capital of Florida?\\n'],\n",
      " 'capitalsquiz32.txt': ['48.what is the capital of Florida?\\n'],\n",
      " 'capitalsquiz33.txt': ['24.what is the capital of Florida?\\n'],\n",
      " 'capitalsquiz34.txt': ['11.what is the capital of Florida?\\n'],\n",
      " 'capitalsquiz35.txt': ['14.what is the capital of Florida?\\n'],\n",
      " 'capitalsquiz4.txt': ['30.what is the capital of Florida?\\n'],\n",
      " 'capitalsquiz5.txt': ['25.what is the capital of Florida?\\n'],\n",
      " 'capitalsquiz6.txt': ['28.what is the capital of Florida?\\n'],\n",
      " 'capitalsquiz7.txt': ['15.what is the capital of Florida?\\n'],\n",
      " 'capitalsquiz8.txt': ['46.what is the capital of Florida?\\n'],\n",
      " 'capitalsquiz9.txt': ['22.what is the capital of Florida?\\n']}\n"
     ]
    }
   ],
   "source": [
    "import os,re,pprint\n",
    "'''\n",
    "可改成一个函数最好是图形界面两个正则表达式之类之类的功能做得更强大更抽象\n",
    "但是下面这个是核心代码\n",
    "'''\n",
    "pathname=r'C:\\Users\\xxcmt\\Desktop\\xiong'\n",
    "os.chdir(pathname)\n",
    "print(os.getcwd())\n",
    "allfilename=os.listdir(pathname)\n",
    "#找到所有的ｔｘｔ文件并打开\n",
    "textregex=re.compile(r'capitalsquiz\\d*.txt')\n",
    "#匹配所有Florida\n",
    "anwregex=re.compile(r'Florida')\n",
    "ffp=open(r'ansxiong.txt','w')\n",
    "h=dict()\n",
    "for filename in allfilename:\n",
    "    tr=textregex.search(filename)\n",
    "    if tr!=None:\n",
    "        fp=open(tr.group(),'r')\n",
    "        for line in fp:\n",
    "            anwre=anwregex.search(line)\n",
    "            if anwre!=None:\n",
    "                if filename not in h:\n",
    "                    h[filename]=[line]\n",
    "                else:\n",
    "                    h[filename].append(line)\n",
    "        fp.close()\n",
    "pprint.pprint(h)\n",
    "for key,i in h.items():\n",
    "    for j in i:\n",
    "        ffp.write(key+':'+j)\n",
    "\n",
    "                    \n",
    "                \n",
    "            \n",
    "        "
   ]
  }
 ],
 "metadata": {
  "kernelspec": {
   "display_name": "Python 3",
   "language": "python",
   "name": "python3"
  },
  "language_info": {
   "codemirror_mode": {
    "name": "ipython",
    "version": 3
   },
   "file_extension": ".py",
   "mimetype": "text/x-python",
   "name": "python",
   "nbconvert_exporter": "python",
   "pygments_lexer": "ipython3",
   "version": "3.6.3"
  }
 },
 "nbformat": 4,
 "nbformat_minor": 2
}
