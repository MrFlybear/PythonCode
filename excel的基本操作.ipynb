{
 "cells": [
  {
   "cell_type": "code",
   "execution_count": null,
   "metadata": {},
   "outputs": [],
   "source": [
    "import openpyxl\n",
    "wb=openpyxl.load_workbook(r'C:\\Users\\xxcmt\\Desktop\\文档\\excelSpreadsheets\\example.xlsx')\n",
    "print(wb.sheetnames)\n",
    "sheet=wb['Sheet3']\n",
    "print(sheet)\n",
    "print(type(sheet))\n",
    "print(sheet.title)\n",
    "anotherSheet=wb.active\n",
    "print(anotherSheet)\n"
   ]
  },
  {
   "cell_type": "code",
   "execution_count": null,
   "metadata": {},
   "outputs": [],
   "source": [
    "import openpyxl\n",
    "wb=openpyxl.load_workbook(r'C:\\Users\\xxcmt\\Desktop\\文档\\excelSpreadsheets\\example.xlsx')\n",
    "sheet=wb['Sheet1']\n",
    "print(sheet['A1'].value)\n",
    "c=sheet['B1']\n",
    "print(sheet['B1'].value)\n",
    "print(c.row+c.column)\n",
    "print('Row'+str(c.row)+',Column'+str(c.column)+' is'+c.value)\n",
    "print(c.coordinate)\n",
    "print(sheet.cell(row=1,column=2).value)\n",
    "#for i in range(1,8,2):\n",
    "#    print(i,sheet.cell(row=i,column=2).value)\n",
    "print(sheet.max_row)\n",
    "    "
   ]
  },
  {
   "cell_type": "code",
   "execution_count": null,
   "metadata": {},
   "outputs": [],
   "source": [
    "import openpyxl,pprint\n",
    "print('Opening workbook...')\n",
    "wb=openpyxl.load_workbook(r'C:\\Users\\xxcmt\\Desktop\\文档\\excelSpreadsheets\\censuspopdata.xlsx')\n",
    "sheet=wb['Population by Census Tract']\n",
    "countyData={}\n",
    "print('Reading rows...')\n",
    "for row in range(2,sheet.max_row+1):\n",
    "    state=sheet['B'+str(row)].value\n",
    "    county=sheet['C'+str(row)].value\n",
    "    pop=sheet['D'+str(row)].value\n",
    "    \n",
    "    countyData.setdefault(state,{})\n",
    "    countyData[state].setdefault(county,{'tracts':0,'pop':0})\n",
    "    countyData[state][county]['tracts']+=1\n",
    "    countyData[state][county]['pop']+=int(pop)\n",
    "    \n",
    "print('Writing results...')\n",
    "resultFile=open(r'C:\\Users\\xxcmt\\Desktop\\文档\\excelSpreadsheets\\censuspopdata.py','w')\n",
    "resultFile.write('allData='+pprint.pformat(countyData))\n",
    "resultFile.close()\n",
    "print('Done.')\n",
    "    "
   ]
  },
  {
   "cell_type": "code",
   "execution_count": null,
   "metadata": {},
   "outputs": [],
   "source": [
    "import openpyxl,sys,os\n",
    "os.chdir(r'C:\\Users\\xxcmt\\Desktop\\文档\\excelSpreadsheets')\n",
    "wb=openpyxl.Workbook()\n",
    "wb.sheetnames\n",
    "sheet=wb.active\n",
    "sheet.title\n",
    "sheet.title='Spam Bacon Eggs Sheet'\n",
    "wb.sheetnames\n",
    "wb.save('test.xlsx')"
   ]
  },
  {
   "cell_type": "code",
   "execution_count": null,
   "metadata": {},
   "outputs": [],
   "source": [
    "#关于sheet的操作填cell\n",
    "import openpyxl\n",
    "wb=openpyxl.Workbook()\n",
    "wb.sheetnames\n",
    "wb.create_sheet()\n",
    "wb.sheetnames\n",
    "wb.create_sheet(index=0,title='First Sheet')\n",
    "wb.sheetnames\n",
    "wb.create_sheet(index=2,title='Middle Sheet')\n",
    "wb.sheetnames\n",
    "del wb['Middle Sheet']\n",
    "wb.sheetnames\n",
    "sheet=wb['First Sheet']\n",
    "sheet['A1']='Hello world!'\n",
    "sheet['A1'].value"
   ]
  },
  {
   "cell_type": "code",
   "execution_count": null,
   "metadata": {
    "scrolled": true
   },
   "outputs": [],
   "source": [
    "import openpyxl,os\n",
    "os.chdir(r'C:\\Users\\xxcmt\\Desktop\\文档\\excelSpreadsheets')\n",
    "wb=openpyxl.load_workbook('produceSales.xlsx')\n",
    "sheet=wb['Sheet']\n",
    "PRICE_UPDATES={'Garlic':3.07,\n",
    "              'Celery':1.19,\n",
    "              'Lemon':1.27}\n",
    "print(sheet.max_row)\n",
    "#for rowNum in range(2,sheet.max_row):\n",
    "#    produceName=sheet.cell(row=rowNum,column=1).value\n",
    "#    if produceName in PRICE_UPDATES:\n",
    "#        sheet.cell(row=rowNum,column=2).value=PRICE_UPDATES[produceName]\n",
    "#wb.save('updatedProduceSales.xlsx')\n"
   ]
  },
  {
   "cell_type": "code",
   "execution_count": null,
   "metadata": {},
   "outputs": [],
   "source": [
    "#设置字体样式\n",
    "import openpyxl,os\n",
    "from openpyxl.styles import Font\n",
    "os.chdir(r'C:\\Users\\xxcmt\\Desktop\\文档\\excelSpreadsheets')\n",
    "wb=openpyxl.Workbook()\n",
    "sheet=wb['Sheet']\n",
    "Romanfont=Font(name='Times New Roman',bold=True)\n",
    "sheet['A1']='Times New Roman'\n",
    "sheet['A1'].font=Romanfont\n",
    "Italicfont=Font(size=24,italic=True)\n",
    "sheet['C1']='24 pt Italic'\n",
    "sheet['C1'].font=Italicfont\n",
    "wb.save('styled.xlsx')\n"
   ]
  },
  {
   "cell_type": "code",
   "execution_count": null,
   "metadata": {},
   "outputs": [],
   "source": [
    "#使用公式\n",
    "import openpyxl,os\n",
    "os.chdir(r'C:\\Users\\xxcmt\\Desktop\\文档\\excelSpreadsheets')\n",
    "wb=openpyxl.Workbook()\n",
    "sheet=wb.active\n",
    "sheet['A1']=200\n",
    "sheet['A2']=300\n",
    "sheet['A3']='=SUM(A1:A2)'\n",
    "wb.save('writeFormula.xlsx')\n"
   ]
  },
  {
   "cell_type": "code",
   "execution_count": null,
   "metadata": {},
   "outputs": [],
   "source": [
    "#设置单元格高宽\n",
    "import openpyxl,os\n",
    "os.chdir(r'C:\\Users\\xxcmt\\Desktop\\文档\\excelSpreadsheets')\n",
    "wb=openpyxl.Workbook()\n",
    "sheet=wb.active\n",
    "sheet['A1']='Tall row'\n",
    "sheet['B2']='Wide column'\n",
    "sheet.column_dimensions['B'].width=40\n",
    "sheet.row_dimensions[1].height=70\n",
    "wb.save('dimensions.xlsx')"
   ]
  },
  {
   "cell_type": "code",
   "execution_count": null,
   "metadata": {},
   "outputs": [],
   "source": [
    "#单元格合并\n",
    "import openpyxl,os\n",
    "os.chdir(r'C:\\Users\\xxcmt\\Desktop\\文档\\excelSpreadsheets')\n",
    "wb=openpyxl.Workbook()\n",
    "sheet=wb.active\n",
    "sheet.merge_cells('A1:D3')\n",
    "sheet['A1']='Twelve cells merged together'\n",
    "sheet.merge_cells('C5:D5')\n",
    "sheet['C5']='Two merged cells'\n",
    "wb.save('merged.xlsx')\n"
   ]
  },
  {
   "cell_type": "code",
   "execution_count": null,
   "metadata": {},
   "outputs": [],
   "source": [
    "#冻结单元格\n",
    "import openpyxl,os\n",
    "os.chdir(r'C:\\Users\\xxcmt\\Desktop\\文档\\excelSpreadsheets')\n",
    "wb=openpyxl.load_workbook('produceSales.xlsx')\n",
    "sheet=wb.active\n",
    "sheet.freeze_panes='A2'\n",
    "wb.save('freezeExample.xlsx')\n"
   ]
  },
  {
   "cell_type": "code",
   "execution_count": null,
   "metadata": {},
   "outputs": [],
   "source": [
    "#excel画图\n",
    "import openpyxl,os\n",
    "os.chdir(r'C:\\Users\\xxcmt\\Desktop\\文档\\excelSpreadsheets')\n",
    "wb=openpyxl.Workbook()\n",
    "sheet=wb.active\n",
    "for i in range(1,11):\n",
    "    sheet['A'+str(i)]=i\n",
    "refObj=openpyxl.chart.Reference(sheet,min_row = 1, min_col = 1, max_row = 10, max_col = 1)\n",
    "seriesObj=openpyxl.chart.Series(refObj,title='First series')\n",
    "chartObj=openpyxl.chart.BarChart()\n",
    "chartObj.title='直方图'\n",
    "chartObj.append(seriesObj)\n",
    "sheet.add_chart(chartObj,'C5')\n",
    "wb.save('直方图.xlsx')"
   ]
  },
  {
   "cell_type": "code",
   "execution_count": null,
   "metadata": {},
   "outputs": [],
   "source": [
    "#单元格拆分\n",
    "import openpyxl,os\n",
    "os.chdir(r'C:\\Users\\xxcmt\\Desktop\\文档\\excelSpreadsheets')\n",
    "wb=openpyxl.load_workbook('merged.xlsx')\n",
    "sheet=wb.active\n",
    "sheet.unmerge_cells('A1:D3')\n",
    "sheet.unmerge_cells('C5:D5')\n",
    "wb.save('merged.xlsx')"
   ]
  },
  {
   "cell_type": "code",
   "execution_count": null,
   "metadata": {},
   "outputs": [],
   "source": [
    "import openpyxl,os,sys\n",
    "os.chdir(r'C:\\Users\\xxcmt\\Desktop\\文档\\excelSpreadsheets')\n",
    "wb=openpyxl.Workbook()\n",
    "wb.create_sheet(index=0,title='First Sheet')\n",
    "sheet=wb.active\n",
    "#先填横纵1到6\n",
    "for i in range(1,sys.argv[1]+1):\n",
    "    sheet.cell(row=i+1,column=1).value=i\n",
    "    sheet.cell(row=2,column=i+1).value=i\n",
    "    sheet.cell(row=1,column=i+1).value=i\n",
    "#再从3开始往下填\n",
    "for i in range(3,sys.argv[1]+2):\n",
    "    for j in range(2,sys.argv[1]+2):\n",
    "        sheet.cell(row=i,column=j).value=sheet.cell(row=i-1,column=j).value+sheet.cell(row=1,column=j).value\n",
    "wb.save('xiong.xlsx')\n",
    "    \n",
    "    \n"
   ]
  }
 ],
 "metadata": {
  "kernelspec": {
   "display_name": "Python 3",
   "language": "python",
   "name": "python3"
  },
  "language_info": {
   "codemirror_mode": {
    "name": "ipython",
    "version": 3
   },
   "file_extension": ".py",
   "mimetype": "text/x-python",
   "name": "python",
   "nbconvert_exporter": "python",
   "pygments_lexer": "ipython3",
   "version": "3.7.3"
  }
 },
 "nbformat": 4,
 "nbformat_minor": 2
}
